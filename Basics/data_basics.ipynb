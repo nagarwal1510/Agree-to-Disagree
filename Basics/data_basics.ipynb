{
  "nbformat": 4,
  "nbformat_minor": 0,
  "metadata": {
    "kernelspec": {
      "display_name": "Python 3",
      "language": "python",
      "name": "python3"
    },
    "language_info": {
      "codemirror_mode": {
        "name": "ipython",
        "version": 3
      },
      "file_extension": ".py",
      "mimetype": "text/x-python",
      "name": "python",
      "nbconvert_exporter": "python",
      "pygments_lexer": "ipython3",
      "version": "3.8.5"
    },
    "colab": {
      "name": "data_basics",
      "provenance": []
    }
  },
  "cells": [
    {
      "cell_type": "code",
      "metadata": {
        "id": "L4NQMxdC5_8D"
      },
      "source": [
        "a ={\"id\":182,\"name\":\"Facebook\",\"slug\":\"facebook\",\"image\":\"https://s3.tosdr.org/logos/182.png\",\"class\":\"E\",\"links\":{\"Cookie Policy\":{\"name\":\"Cookie Policy\",\"url\":\"https://www.facebook.com/policies/cookies/\"},\"Terms of Service\":{\"name\":\"Terms of Service\",\"url\":\"https://www.facebook.com/legal/terms\"},\"Data Policy\":{\"name\":\"Data Policy\",\"url\":\"https://www.facebook.com/about/privacy/\"},\"Privacy Basics\":{\"name\":\"Privacy Basics\",\"url\":\"https://www.facebook.com/about/basics\"},\"What information does Facebook get when I visit a site with the Like button?\":{\"name\":\"What information does Facebook get when I visit a site with the Like button?\",\"url\":\"https://www.facebook.com/help/186325668085084\"}},\"points\":[10493,4598,10687,17261,4356,10701,1059,10686,17260,10688,10700,743,10720,12117,10690,10689,10692,984,10718,10736,751,12118,1120,10735,10723,10732,10743,10738,10691,646,16745,10693,10717,10744,10702,10698,10745,10719,10730,10734,9504,9462,10733,10731,10739,997,9465,10697,627,10728],\"pointsData\":{\"627\":{\"discussion\":\"https://edit.tosdr.org/points/627\",\"id\":627,\"needsModeration\":False,\"quoteDoc\":\"Cookie Policy\",\"quoteText\":\"We use cookies if you have a Facebook account, use the Facebook Products, including our website and apps, or visit other websites and apps that use the Facebook Products (including the Like button or other Facebook Technologies).\",\"services\":[\"182\"],\"set\":\"set+service+and+topic\",\"slug\":None,\"title\":\"Facebook uses cookies\",\"topics\":[],\"tosdr\":{\"binding\":True,\"case\":\"First-party cookies are used\",\"point\":\"neutral\",\"score\":10,\"tldr\":\"Facebook uses, pixels and local storage in order to gather information about you, your device, your browser cache, your use of Facebook.  Facebook also uses cookies for adversing purposes.\"}},\"646\":{\"discussion\":\"https://edit.tosdr.org/points/646\",\"id\":646,\"needsModeration\":False,\"quoteDoc\":\"Data Policy\",\"quoteText\":\"To learn more, visit the Facebook Security Help Center and Instagram Security Tips.\",\"services\":[\"182\"],\"set\":\"set+service+and+topic\",\"slug\":None,\"title\":\"info given about risk of publishing your info online\",\"topics\":[],\"tosdr\":{\"binding\":True,\"case\":\"You are informed about the risk of publishing personal info online\",\"point\":\"good\",\"score\":40,\"tldr\":\"Facebook provides “security tips” to help you be more secure online.\"}},\"743\":{\"discussion\":\"https://edit.tosdr.org/points/743\",\"id\":743,\"needsModeration\":False,\"quoteDoc\":\"What information does Facebook get when I visit a site with the Like button?\",\"quoteText\":\"For example, when you go to a website with a <b>Like</b> button, we need to know who you are in order to show you what your Facebook friends have liked on that site.\\nThe data we receive includes your user ID, the website you're visiting, the date and time and other browser-related info.If you’re logged out or don’t have a Facebook account and visit a website with the <b>Like</b> button or another social plugin, your browser sends us a more limited set of info.\\nFor example, because you’re not logged into Facebook, you’ll have fewer cookies than someone who's logged in.\\nLike other sites on the Internet, we receive info about the web page you're visiting, the date and time and other browser-related info.\\nWe record this info to help us improve our products.\\nAs our Data Policy indicates, we use cookies to show you ads on and off Facebook.\\nWe may also use the info we receive when you visit a site with social plugins to help us show you more interesting and useful ads.\",\"services\":[\"182\"],\"set\":\"set+service+and+topic\",\"slug\":None,\"title\":\"This service tracks you on other websites\",\"topics\":[],\"tosdr\":{\"binding\":True,\"case\":\"This service tracks you on other websites\",\"point\":\"bad\",\"score\":60,\"tldr\":\"\\\"      If you’re logged out or don’t have a Facebook account and visit\\r\\n        a website with the Like button or another social plugin, […] We\\r\\n        do receive the web page you're visiting, the date and time, and\\r\\n        other browser-related information. We record this information\\r\\n        for a limited amount of time […] we sometimes find bugs in the\\r\\n        systems we’ve built to gather aggregate data on how people are\\r\\n        interacting with sites that use the Like button or other social\\r\\n        plugins. It’s helpful to be able to reference this anonymized\\r\\n        information when investigating these bugs so we can find their\\r\\n        source and fix them quickly. \\\"\"}},\"751\":{\"discussion\":\"https://edit.tosdr.org/points/751\",\"id\":751,\"needsModeration\":False,\"quoteDoc\":\"Data Policy\",\"quoteText\":\"Sharing with Third-Party Partners We work with third-party partners who help us provide and improve our Products or who use Facebook Business Tools to grow their businesses, which makes it possible to operate our companies and provide free services to people around the world.\\nWe don't sell any of your information to anyone, and we never will.\\nWe also impose strict restrictions on how our partners can use and disclose the data we provide.\\nHere are the types of third parties we share information with: <br>Partners who use our analytics services.\\nWe provide aggregated statistics and insights that help people and businesses understand how people are engaging with their posts, listings, Pages, videos and other content on and off the Facebook Products.\\nFor example, Page admins and Instagram business profiles receive information about the number of people or accounts who viewed, reacted to, or commented on their posts, as well as aggregate demographic and other information that helps them understand interactions with their Page or account.\\nAdvertisers.\\nWe provide advertisers with reports about the kinds of people seeing their ads and how their ads are performing, but we don't share information that personally identifies you (information such as your name or email address that by itself can be used to contact you or identifies who you are) unless you give us permission.\\nFor example, we provide general demographic and interest information to advertisers (for example, that an ad was seen by a woman between the ages of 25 and 34 who lives in Madrid and likes software engineering) to help them better understand their audience.\\nWe also confirm which Facebook ads led you to make a purchase or take an action with an advertiser.\\nMeasurement partners.\\nWe share information about you with companies that aggregate it to provide analytics and measurement reports to our partners.\\nPartners offering goods and services in our Products.\\nWhen you subscribe to receive premium content, or buy something from a seller in our Products, the content creator or seller can receive your public information and other information you share with them, as well as the information needed to complete the transaction, including shipping and contact details.\\nVendors and service providers.\\nWe provide information and content to vendors and service providers who support our business, such as by providing technical infrastructure services, analyzing how our Products are used, providing customer service, facilitating payments or conducting surveys.\\nResearchers and academics.\\nWe also provide information and content to research partners and academics to conduct research that advances scholarship and innovation that support our business or mission, and enhances discovery and innovation on topics of general social welfare, technological advancement, public interest, health and well-being.\\nLaw enforcement or legal requests.\\nWe share information with law enforcement or in response to legal requests in the circumstances outlined below.\\nLearn more about how you can control the information about you that you or others share with third-party partners in the Facebook Settings and Instagram Settings.\",\"services\":[\"182\"],\"set\":\"set+service+and+topic\",\"slug\":None,\"title\":\"personal data is given to third parties\",\"topics\":[],\"tosdr\":{\"binding\":True,\"case\":\"This service gives your personal data to third parties involved in its operation\",\"point\":\"bad\",\"score\":35,\"tldr\":\"Facebook give personal details to 3rd Party by default\"}},\"984\":{\"discussion\":\"https://edit.tosdr.org/points/984\",\"id\":984,\"needsModeration\":False,\"quoteDoc\":\"Data Policy\",\"quoteText\":\"<b>Product research and development:</b> We use the information we have to develop, test and improve our Products, including by conducting surveys and research, and testing and troubleshooting new products and features.</li>\",\"services\":[\"182\"],\"set\":\"set+service+and+topic\",\"slug\":None,\"title\":\"Facebook uses your data for many purposes\",\"topics\":[],\"tosdr\":{\"binding\":True,\"case\":\"Your personal information is used for many different purposes\",\"point\":\"bad\",\"score\":40,\"tldr\":\"Including: data analysis, testing, service improvement, control of the effectiveness of the personal ads, and location features and services.\"}},\"997\":{\"discussion\":\"https://edit.tosdr.org/points/997\",\"id\":997,\"needsModeration\":False,\"quoteDoc\":\"Terms of Service\",\"quoteText\":\"When people stand behind their opinions and actions, our community is safer and more accountable.\\nFor this reason, you must: <ul>\\n<li>Use the same name that you use in everyday life.</li>\\n<li>Provide accurate information about yourself.</li>\\n<li>Create only one account (your own) and use your timeline for personal purposes.</li\",\"services\":[\"182\"],\"set\":\"set+service+and+topic\",\"slug\":None,\"title\":\"Users are not allowed to use pseudonyms, as trust and transparency between users regarding their identities is relevant to the service.\",\"topics\":[],\"tosdr\":{\"binding\":True,\"case\":\"You are not allowed to use pseudonyms, as trust and transparency between users regarding their identities is relevant to the service.\",\"point\":\"neutral\",\"score\":10,\"tldr\":\"You must use your real name. Using a pseudonym is not allowed. \"}},\"1059\":{\"discussion\":\"https://edit.tosdr.org/points/1059\",\"id\":1059,\"needsModeration\":False,\"quoteDoc\":\"Data Policy\",\"quoteText\":\"information you allow us to receive through device settings you turn on, such as access to your GPS location, camera or photos.</li>\",\"services\":[\"182\"],\"set\":\"set+service+and+topic\",\"slug\":None,\"title\":\"App required for this service requires broad device permissions\",\"topics\":[],\"tosdr\":{\"binding\":True,\"case\":\"App required for this service requires broad device permissions\",\"point\":\"bad\",\"score\":80,\"tldr\":\"When installing the Facebook app on an Android phone, it allows access to the audio record path and to take pictures with the camera. This allows the application at any time to collect images the camera is seeing.\"}},\"1120\":{\"discussion\":\"https://edit.tosdr.org/points/1120\",\"id\":1120,\"needsModeration\":False,\"quoteDoc\":None,\"quoteText\":None,\"services\":[\"182\"],\"set\":\"set+service+and+topic\",\"slug\":None,\"title\":\"The service uses your personal data for advertising\",\"topics\":[],\"tosdr\":{\"binding\":True,\"case\":\"Your personal data is used for advertising\",\"point\":\"bad\",\"score\":30,\"tldr\":\"Collects all data you send (username, email, credit card number...), any kind of info other put about you as well. Plus all info about your device: \\\"Attributes such as the operating system, hardware version, device settings, file and software names and types, battery and signal strength, and device identifiers. Device locations, including specific geographic locations, such as through GPS, Bluetooth, or WiFi signals. Connection information such as the name of your mobile operator or ISP, browser type, language and time zone, mobile phone number and IP address.\\\"\"}},\"4356\":{\"discussion\":\"https://edit.tosdr.org/points/4356\",\"id\":4356,\"needsModeration\":False,\"quoteDoc\":None,\"quoteText\":\"In addition, content you delete may continue to appear if you have shared it with others and they have not deleted it.\",\"services\":[\"182\"],\"set\":\"set+service+and+topic\",\"slug\":None,\"title\":\"Deleted content is not really deleted\",\"topics\":[],\"tosdr\":{\"binding\":True,\"case\":\"This service holds onto content that you've deleted\",\"point\":\"blocker\",\"score\":30,\"tldr\":\"The terms state: \\\"In addition, content you delete may continue to appear if you have shared it with others and they have not deleted it.\\\"\"}},\"4598\":{\"discussion\":\"https://edit.tosdr.org/points/4598\",\"id\":4598,\"needsModeration\":False,\"quoteDoc\":\"Terms of Service\",\"quoteText\":\" You give us permission to use your name and profile picture and information about actions you have taken on Facebook next to or in connection with ads, offers, and other sponsored content that we display across our Products, without any compensation to you.\",\"services\":[\"182\"],\"set\":\"set+service+and+topic\",\"slug\":None,\"title\":\"Your identity is used in ads that are shown to other users\",\"topics\":[],\"tosdr\":{\"binding\":True,\"case\":\"Your identity is used in ads that are shown to other users\",\"point\":\"blocker\",\"score\":90,\"tldr\":\"Generated through the annotate view\"}},\"9462\":{\"discussion\":\"https://edit.tosdr.org/points/9462\",\"id\":9462,\"needsModeration\":False,\"quoteDoc\":\"Terms of Service\",\"quoteText\":\"You are under 13 years old.\",\"services\":[\"182\"],\"set\":\"set+service+and+topic\",\"slug\":None,\"title\":\"This service is only available to users of a certain age\",\"topics\":[],\"tosdr\":{\"binding\":True,\"case\":\"This service is only available to users over a certain age\",\"point\":\"neutral\",\"score\":15,\"tldr\":\"Generated through the annotate view\"}},\"9465\":{\"discussion\":\"https://edit.tosdr.org/points/9465\",\"id\":9465,\"needsModeration\":False,\"quoteDoc\":\"Terms of Service\",\"quoteText\":\"If we fail to enforce any of these Terms, it will not be considered a waiver.\",\"services\":[\"182\"],\"set\":\"set+service+and+topic\",\"slug\":None,\"title\":\"Failure to enforce any provision of the Terms of Service does not constitute a waiver of such provision\",\"topics\":[],\"tosdr\":{\"binding\":True,\"case\":\"Failure to enforce any provision of the Terms of Service does not constitute a waiver of such provision\",\"point\":\"neutral\",\"score\":10,\"tldr\":\"Generated through the annotate view\"}},\"9504\":{\"discussion\":\"https://edit.tosdr.org/points/9504\",\"id\":9504,\"needsModeration\":False,\"quoteDoc\":\"Terms of Service\",\"quoteText\":\"You may not access or collect data from our Products using automated means (without our prior permission)\",\"services\":[\"182\"],\"set\":\"set+service+and+topic\",\"slug\":None,\"title\":\"Spidering or crawling is not allowed\",\"topics\":[],\"tosdr\":{\"binding\":True,\"case\":\"Spidering, crawling, or accessing the site through any automated means is not allowed\",\"point\":\"neutral\",\"score\":20,\"tldr\":\"Generated through the annotate view\"}},\"10493\":{\"discussion\":\"https://edit.tosdr.org/points/10493\",\"id\":10493,\"needsModeration\":False,\"quoteDoc\":\"Cookie Policy\",\"quoteText\":\"Facebook uses cookies and receives information when you visit those sites and apps, including device information and information about your activity, without any further action from you.\\nThis occurs whether or not you have a Facebook account or are logged in.</li>\\n</\",\"services\":[\"182\"],\"set\":\"set+service+and+topic\",\"slug\":None,\"title\":\"Facebook stores your data whether you have an account or not.\",\"topics\":[],\"tosdr\":{\"binding\":True,\"case\":\"They store data on you even if you did not interact with the service\",\"point\":\"blocker\",\"score\":100,\"tldr\":\"This is the principle of their shady \\\"Shadow Profile\\\".\"}},\"10686\":{\"discussion\":\"https://edit.tosdr.org/points/10686\",\"id\":10686,\"needsModeration\":False,\"quoteDoc\":\"Data Policy\",\"quoteText\":\"This can include information in or about the content you provide (like metadata), such as the location of a photo or the date a file was created.\",\"services\":[\"182\"],\"set\":\"set+service+and+topic\",\"slug\":None,\"title\":\"This service may collect, use, and share location data\",\"topics\":[],\"tosdr\":{\"binding\":True,\"case\":\"This service may collect, use, and share location data\",\"point\":\"bad\",\"score\":75,\"tldr\":\"Generated through the annotate view\"}},\"10687\":{\"discussion\":\"https://edit.tosdr.org/points/10687\",\"id\":10687,\"needsModeration\":False,\"quoteDoc\":\"Data Policy\",\"quoteText\":\"Our systems automatically process content and communications you and others provide to analyze context and what's in them for the purposes described below.\",\"services\":[\"182\"],\"set\":\"set+service+and+topic\",\"slug\":None,\"title\":\"The service can read your private messages\",\"topics\":[],\"tosdr\":{\"binding\":True,\"case\":\"Private messages can be read\",\"point\":\"blocker\",\"score\":70,\"tldr\":\"Facebook processes data from user communications (i.e.: Private Messaging, Private Communications).\"}},\"10688\":{\"discussion\":\"https://edit.tosdr.org/points/10688\",\"id\":10688,\"needsModeration\":False,\"quoteDoc\":\"Data Policy\",\"quoteText\":\"We collect information about the people, Pages, accounts, hashtags and groups you are connected to and how you interact with them across our Products, such as people you communicate with the most or groups you are part of.\\nWe also collect contact information if you choose to upload, sync or import it from a device (such as an address book or call log or SMS log history), which we use for things like helping you and others find people you may know and for the other purposes listed below.</li>\\n<li>\\n<b>Your usage.</b> We collect information about how you use our Products, such as the types of content you view or engage with.\\nthe features you use.\\nthe actions you take.\\nthe people or accounts you interact with.\\nand the time, frequency and duration of your activities.\",\"services\":[\"182\"],\"set\":\"set+service+and+topic\",\"slug\":None,\"title\":\"The service collects many different types of personal data\",\"topics\":[],\"tosdr\":{\"binding\":True,\"case\":\"Many different types of personal data are collected\",\"point\":\"bad\",\"score\":70,\"tldr\":\"Generated through the annotate view\"}},\"10689\":{\"discussion\":\"https://edit.tosdr.org/points/10689\",\"id\":10689,\"needsModeration\":False,\"quoteDoc\":\"Data Policy\",\"quoteText\":\"Information from partners.\\nAdvertisers, app developers, and publishers can send us information through Facebook Business Tools they use, including our social plug-ins (such as the Like button), Facebook Login, our APIs and SDKs, or the Facebook pixel.\\nThese partners provide information about your activities off Facebook—including information about your device, websites you visit, purchases you make, the ads you see, and how you use their services—whether or not you have a Facebook account or are logged into Facebook.\",\"services\":[\"182\"],\"set\":\"set+service+and+topic\",\"slug\":None,\"title\":\"The service may use tracking pixels, web beacons, browser fingerprinting, and/or device fingerprinting on users.\",\"topics\":[],\"tosdr\":{\"binding\":True,\"case\":\"You are tracked via web beacons, tracking pixels, browser fingerprinting, and/or device fingerprinting\",\"point\":\"bad\",\"score\":50,\"tldr\":\"Generated through the annotate view\"}},\"10690\":{\"discussion\":\"https://edit.tosdr.org/points/10690\",\"id\":10690,\"needsModeration\":False,\"quoteDoc\":\"Data Policy\",\"quoteText\":\"We also receive information about your online and offline actions and purchases from third-party data providers who have the rights to provide us with your information.\",\"services\":[\"182\"],\"set\":\"set+service+and+topic\",\"slug\":None,\"title\":\"This service gathers information about you through third parties\",\"topics\":[],\"tosdr\":{\"binding\":True,\"case\":\"Information is gathered about you through third parties\",\"point\":\"bad\",\"score\":50,\"tldr\":\"Generated through the annotate view\"}},\"10691\":{\"discussion\":\"https://edit.tosdr.org/points/10691\",\"id\":10691,\"needsModeration\":False,\"quoteDoc\":\"Data Policy\",\"quoteText\":\"We require each of these partners to have lawful rights to collect, use and share your data before providing any data to us.\",\"services\":[\"182\"],\"set\":\"set+service+and+topic\",\"slug\":None,\"title\":\"The service will not allow third parties to access your personal information without a legal basis\",\"topics\":[],\"tosdr\":{\"binding\":True,\"case\":\"Third parties are not allowed to access your personal information without a legal basis\",\"point\":\"good\",\"score\":50,\"tldr\":\"Generated through the annotate view\"}},\"10692\":{\"discussion\":\"https://edit.tosdr.org/points/10692\",\"id\":10692,\"needsModeration\":False,\"quoteDoc\":\"Data Policy\",\"quoteText\":\"We use the information we have about you-including information about your interests, actions and connections-to select and personalize ads, offers and other sponsored content that we show you.\",\"services\":[\"182\"],\"set\":\"set+service+and+topic\",\"slug\":None,\"title\":\"This service may use your personal information for marketing purposes\",\"topics\":[],\"tosdr\":{\"binding\":True,\"case\":\"Your personal data may be used for marketing purposes\",\"point\":\"bad\",\"score\":50,\"tldr\":\"Generated through the annotate view\"}},\"10693\":{\"discussion\":\"https://edit.tosdr.org/points/10693\",\"id\":10693,\"needsModeration\":False,\"quoteDoc\":\"Data Policy\",\"quoteText\":\"How do we use this information? We use the information we have (subject to choices you make) as described below and to provide and support the Facebook Products and related services described in the Facebook Terms and Instagram Terms.\",\"services\":[\"182\"],\"set\":\"set+service+and+topic\",\"slug\":None,\"title\":\"The service provides information about how they intend to use your personal data\",\"topics\":[],\"tosdr\":{\"binding\":True,\"case\":\"Information is provided about how your personal data is used\",\"point\":\"good\",\"score\":30,\"tldr\":\"Generated through the annotate view\"}},\"10697\":{\"discussion\":\"https://edit.tosdr.org/points/10697\",\"id\":10697,\"needsModeration\":False,\"quoteDoc\":\"Data Policy\",\"quoteText\":\"Information collected by these third-party services is subject to their own terms and policies, not this one.\\n<br>\",\"services\":[\"182\"],\"set\":\"set+service+and+topic\",\"slug\":None,\"title\":\"The service informs users that its privacy policy does not apply to third party websites\",\"topics\":[],\"tosdr\":{\"binding\":True,\"case\":\"The service informs you that its privacy policy does not apply to third party websites\",\"point\":\"neutral\",\"score\":10,\"tldr\":\"Generated through the annotate view\"}},\"10698\":{\"discussion\":\"https://edit.tosdr.org/points/10698\",\"id\":10698,\"needsModeration\":False,\"quoteDoc\":\"Data Policy\",\"quoteText\":\"When you share and communicate using our Products, you choose the audience for what you share.\\nFor example, when you post on Facebook, you select the audience for the post, such as a group, all of your friends, the public, or a customized list of people.\\nSimilarly, when you use Messenger or Instagram to communicate with people or businesses, those people and businesses can see the content you send.\",\"services\":[\"182\"],\"set\":\"set+service+and+topic\",\"slug\":None,\"title\":\"You can choose with whom you share content\",\"topics\":[],\"tosdr\":{\"binding\":True,\"case\":\"You can choose with whom you share content\",\"point\":\"good\",\"score\":0,\"tldr\":\"Generated through the annotate view\"}},\"10700\":{\"discussion\":\"https://edit.tosdr.org/points/10700\",\"id\":10700,\"needsModeration\":False,\"quoteDoc\":\"Data Policy\",\"quoteText\":\"We store data until it is no longer necessary to provide our services and Facebook Products, or until your account is deleted - whichever comes first.\\nThis is a case-by-case determination that depends on things like the nature of the data, why it is collected and processed, and relevant legal or operational retention needs.\",\"services\":[\"182\"],\"set\":\"set+service+and+topic\",\"slug\":None,\"title\":\"This service may keep personal data after a request for erasure for business interests or legal obligations\",\"topics\":[],\"tosdr\":{\"binding\":True,\"case\":\"Some personal data may be kept after the end of the data retention period or a request for erasure\",\"point\":\"bad\",\"score\":70,\"tldr\":\"Generated through the annotate view\"}},\"10701\":{\"discussion\":\"https://edit.tosdr.org/points/10701\",\"id\":10701,\"needsModeration\":False,\"quoteDoc\":\"Data Policy\",\"quoteText\":\"For example, when you search for something on Facebook, you can access and delete that query from within your search history at any time, but the log of that search is deleted after 6 months.\\nIf you submit a copy of your government-issued ID for account verification purposes, we delete that copy 30 days after review, unless otherwise stated.\\nLearn more about deletion of content you have shared and cookie data obtained through social plugins.\\n\",\"services\":[\"182\"],\"set\":\"set+service+and+topic\",\"slug\":None,\"title\":\"This service keeps user logs for an undefined period of time\",\"topics\":[],\"tosdr\":{\"binding\":True,\"case\":\"Logs are kept for an undefined period of time\",\"point\":\"bad\",\"score\":100,\"tldr\":\"User logs are kept at Facebook's sole discretion, and case-by-case.\"}},\"10702\":{\"discussion\":\"https://edit.tosdr.org/points/10702\",\"id\":10702,\"needsModeration\":False,\"quoteDoc\":\"Data Policy\",\"quoteText\":\"To delete your account at any time, please visit the Facebook Settings and Instagram Settings.\",\"services\":[\"182\"],\"set\":\"set+service+and+topic\",\"slug\":None,\"title\":\"You have the right to leave this service at any time\",\"topics\":[],\"tosdr\":{\"binding\":True,\"case\":\"You have the right to leave this service at any time\",\"point\":\"good\",\"score\":15,\"tldr\":\"Generated through the annotate view\"}},\"10717\":{\"discussion\":\"https://edit.tosdr.org/points/10717\",\"id\":10717,\"needsModeration\":False,\"quoteDoc\":\"Terms of Service\",\"quoteText\":\"We don't sell your personal data.\",\"services\":[\"182\"],\"set\":\"set+service+and+topic\",\"slug\":None,\"title\":\"This service does not sell your personal data\",\"topics\":[],\"tosdr\":{\"binding\":True,\"case\":\"Your personal data is not sold\",\"point\":\"good\",\"score\":25,\"tldr\":\"Generated through the annotate view\"}},\"10718\":{\"discussion\":\"https://edit.tosdr.org/points/10718\",\"id\":10718,\"needsModeration\":False,\"quoteDoc\":\"Terms of Service\",\"quoteText\":\"We allow advertisers to tell us things like their business goal, and the kind of audience they want to see their ads (for example, people between the age of 18-35 who like cycling).\\nWe then show their ad to people who might be interested\",\"services\":[\"182\"],\"set\":\"set+service+and+topic\",\"slug\":None,\"title\":\"The service uses your personal data to employ targeted third-party advertising\",\"topics\":[],\"tosdr\":{\"binding\":True,\"case\":\"Your personal data is used to employ targeted third-party advertising\",\"point\":\"bad\",\"score\":40,\"tldr\":\"Generated through the annotate view\"}},\"10719\":{\"discussion\":\"https://edit.tosdr.org/points/10719\",\"id\":10719,\"needsModeration\":False,\"quoteDoc\":\"Terms of Service\",\"quoteText\":\"Revision: October\",\"services\":[\"182\"],\"set\":\"set+service+and+topic\",\"slug\":None,\"title\":\"There is a date of the last update of the terms\",\"topics\":[],\"tosdr\":{\"binding\":True,\"case\":\"There is a date of the last update of the agreements\",\"point\":\"neutral\",\"score\":50,\"tldr\":\"Generated through the annotate view\"}},\"10720\":{\"discussion\":\"https://edit.tosdr.org/points/10720\",\"id\":10720,\"needsModeration\":False,\"quoteDoc\":\"Data Policy\",\"quoteText\":\"If the ownership or control of all or part of our Products or their assets changes, we may transfer your information to the new owner.\\n\",\"services\":[\"182\"],\"set\":\"set+service+and+topic\",\"slug\":None,\"title\":\"The service can sell or otherwise transfer your personal data as part of a bankruptcy proceeding or other type of financial transaction.\",\"topics\":[],\"tosdr\":{\"binding\":True,\"case\":\"Your personal data may be sold or otherwise transferred as part of a bankruptcy proceeding or other type of financial transaction\",\"point\":\"bad\",\"score\":50,\"tldr\":\"Generated through the annotate view\"}},\"10723\":{\"discussion\":\"https://edit.tosdr.org/points/10723\",\"id\":10723,\"needsModeration\":False,\"quoteDoc\":\"Terms of Service\",\"quoteText\":\"For this reason, you must: <ul>\\n<li>Use the same name that you use in everyday life.</li>\\n<li>Provide accurate information about yourself.</li>\",\"services\":[\"182\"],\"set\":\"set+service+and+topic\",\"slug\":None,\"title\":\"You must provide your legal name, pseudonyms are not allowed\",\"topics\":[],\"tosdr\":{\"binding\":True,\"case\":\"You must provide your legal name, pseudonyms are not allowed\",\"point\":\"bad\",\"score\":20,\"tldr\":\"Generated through the annotate view\"}},\"10728\":{\"discussion\":\"https://edit.tosdr.org/points/10728\",\"id\":10728,\"needsModeration\":False,\"quoteDoc\":\"Terms of Service\",\"quoteText\":\"You will not transfer any of your rights or obligations under these Terms to anyone else without our consent.\",\"services\":[\"182\"],\"set\":\"set+service+and+topic\",\"slug\":None,\"title\":\"You cannot distribute or disclose your account to third parties\",\"topics\":[],\"tosdr\":{\"binding\":True,\"case\":\"You cannot distribute or disclose your account to third parties\",\"point\":\"neutral\",\"score\":10,\"tldr\":\"Generated through the annotate view\"}},\"10730\":{\"discussion\":\"https://edit.tosdr.org/points/10730\",\"id\":10730,\"needsModeration\":False,\"quoteDoc\":\"Terms of Service\",\"quoteText\":\"Create only one account (your own) and use your timeline for personal purposes.</li>\",\"services\":[\"182\"],\"set\":\"set+service+and+topic\",\"slug\":None,\"title\":\"Service does not allow alternative accounts\",\"topics\":[],\"tosdr\":{\"binding\":True,\"case\":\"Alternative accounts are not allowed\",\"point\":\"neutral\",\"score\":30,\"tldr\":\"Generated through the annotate view\"}},\"10731\":{\"discussion\":\"https://edit.tosdr.org/points/10731\",\"id\":10731,\"needsModeration\":False,\"quoteDoc\":\"Terms of Service\",\"quoteText\":\"<li>If any portion of these Terms is found to be unenforceable, the remaining portion will remain in full force and effect.\\n\",\"services\":[\"182\"],\"set\":\"set+service+and+topic\",\"slug\":None,\"title\":\"Invalidity of any portion of the Terms of Service does not entail invalidity of its remainder\",\"topics\":[],\"tosdr\":{\"binding\":True,\"case\":\"Invalidity of any portion of the Terms of Service does not entail invalidity of its remainder\",\"point\":\"neutral\",\"score\":10,\"tldr\":\"Generated through the annotate view\"}},\"10732\":{\"discussion\":\"https://edit.tosdr.org/points/10732\",\"id\":10732,\"needsModeration\":False,\"quoteDoc\":\"Terms of Service\",\"quoteText\":\"You should know that we may need to change the username for your account in certain circumstances (for example, if someone else claims the username and it appears unrelated to the name you use in everyday life).\",\"services\":[\"182\"],\"set\":\"set+service+and+topic\",\"slug\":None,\"title\":\"Usernames can be rejected for any reason\",\"topics\":[],\"tosdr\":{\"binding\":True,\"case\":\"Usernames can be rejected or changed for any reason\",\"point\":\"bad\",\"score\":20,\"tldr\":\"Generated through the annotate view\"}},\"10733\":{\"discussion\":\"https://edit.tosdr.org/points/10733\",\"id\":10733,\"needsModeration\":False,\"quoteDoc\":\"Terms of Service\",\"quoteText\":\"If we determine that you have clearly, seriously or repeatedly breached our Terms or Policies, including in particular our Community Standards, we may suspend or permanently disable access to your account.\\nWe may also suspend or disable your account if you repeatedly infringe other people’s intellectual property rights or where we are required to do so for legal reasons.\",\"services\":[\"182\"],\"set\":\"set+service+and+topic\",\"slug\":None,\"title\":\"The service can suspend your account for several reasons\",\"topics\":[],\"tosdr\":{\"binding\":True,\"case\":\"Your account can be suspended for several reasons\",\"point\":\"neutral\",\"score\":15,\"tldr\":\"Generated through the annotate view\"}},\"10734\":{\"discussion\":\"https://edit.tosdr.org/points/10734\",\"id\":10734,\"needsModeration\":False,\"quoteDoc\":\"Terms of Service\",\"quoteText\":\"We've previously disabled your account for breaches of our Terms or Policies.</li\",\"services\":[\"182\"],\"set\":\"set+service+and+topic\",\"slug\":None,\"title\":\"Users who have been permanently banned from this service are not allowed to re-register under a new account\",\"topics\":[],\"tosdr\":{\"binding\":True,\"case\":\"Users who have been permanently banned from this service are not allowed to re-register under a new account\",\"point\":\"neutral\",\"score\":20,\"tldr\":\"Full quote: \\\"but you cannot use Facebook if: You are under 13 years old. You are a convicted sex offender. We've previously disabled your account for violations of our Terms or Policies.\\\"\"}},\"10735\":{\"discussion\":\"https://edit.tosdr.org/points/10735\",\"id\":10735,\"needsModeration\":False,\"quoteDoc\":\"Terms of Service\",\"quoteText\":\"We want people to use Facebook to express themselves and to share content that is important to them, but not at the expense of the safety and well-being of others or the integrity of our community.\",\"services\":[\"182\"],\"set\":\"set+service+and+topic\",\"slug\":None,\"title\":\"Users shall not interfere with another person's enjoyment of the service\",\"topics\":[],\"tosdr\":{\"binding\":True,\"case\":\"You shall not interfere with another person's enjoyment of the service\",\"point\":\"bad\",\"score\":25,\"tldr\":\"Generated through the annotate view\"}},\"10736\":{\"discussion\":\"https://edit.tosdr.org/points/10736\",\"id\":10736,\"needsModeration\":False,\"quoteDoc\":\"Terms of Service\",\"quoteText\":\"If you delete or we disable your account, these Terms shall terminate as an agreement between you and us, but the following provisions will remain in place\",\"services\":[\"182\"],\"set\":\"set+service+and+topic\",\"slug\":None,\"title\":\"defend, indemnify, hold harmless; survives termination\",\"topics\":[],\"tosdr\":{\"binding\":True,\"case\":\"Defend, indemnify, hold harmless; survives termination\",\"point\":\"bad\",\"score\":35,\"tldr\":\"Generated through the annotate view\"}},\"10738\":{\"discussion\":\"https://edit.tosdr.org/points/10738\",\"id\":10738,\"needsModeration\":False,\"quoteDoc\":\"Terms of Service\",\"quoteText\":\"You own the intellectual property rights (things like copyright or trademarks) in any such content that you create and share on Facebook and the other Facebook Company Products you use.\\nNothing in these Terms takes away the rights you have to your own content.\\nYou are free to share your content with anyone else, wherever you want.\\n\",\"services\":[\"182\"],\"set\":\"set+service+and+topic\",\"slug\":None,\"title\":\"You maintain ownership of your data\",\"topics\":[],\"tosdr\":{\"binding\":True,\"case\":\"You maintain ownership of your content\",\"point\":\"good\",\"score\":50,\"tldr\":\"Generated through the annotate view\"}},\"10739\":{\"discussion\":\"https://edit.tosdr.org/points/10739\",\"id\":10739,\"needsModeration\":False,\"quoteDoc\":\"Terms of Service\",\"quoteText\":\"If we fail to enforce any of these Terms, it will not be considered a waiver.\",\"services\":[\"182\"],\"set\":\"set+service+and+topic\",\"slug\":None,\"title\":\"Failure to enforce any provision of the Terms of Service does not constitute a waiver of such provision\",\"topics\":[],\"tosdr\":{\"binding\":True,\"case\":\"Failure to enforce any provision of the Terms of Service does not constitute a waiver of such provision\",\"point\":\"neutral\",\"score\":10,\"tldr\":\"Generated through the annotate view\"}},\"10743\":{\"discussion\":\"https://edit.tosdr.org/points/10743\",\"id\":10743,\"needsModeration\":False,\"quoteDoc\":\"Cookie Policy\",\"quoteText\":\"We use cookies to better understand how people use the Facebook Products so that we can improve them.\\n<blockquote>\\n<i>For example:</i> Cookies can help us understand how people use the Facebook service, analyse which parts of the Facebook Products people find most useful and engaging, and identify features that could be improved.</blockquote>Google Analytics We also set cookies from the Facebook.com domain that work with the Google Analytics service to help us understand how businesses use Facebook's developer sites.\",\"services\":[\"182\"],\"set\":\"set+service+and+topic\",\"slug\":None,\"title\":\"This service uses third-party cookies for statistics\",\"topics\":[],\"tosdr\":{\"binding\":True,\"case\":\"Third-party cookies are used for statistics\",\"point\":\"bad\",\"score\":10,\"tldr\":\"Generated through the annotate view\"}},\"10744\":{\"discussion\":\"https://edit.tosdr.org/points/10744\",\"id\":10744,\"needsModeration\":False,\"quoteDoc\":\"Cookie Policy\",\"quoteText\":\"You can opt out of seeing online interest-based ads from Facebook and other participating companies through the Digital Advertising Alliance in the US, the Digital Advertising Alliance of Canada in Canada or the European Interactive Digital Advertising Alliance in Europe or through your mobile device settings, where available, using Android, iOS 13 or an earlier version of iOS.\",\"services\":[\"182\"],\"set\":\"set+service+and+topic\",\"slug\":None,\"title\":\"You can opt out of targeted advertising\",\"topics\":[],\"tosdr\":{\"binding\":True,\"case\":\"You can opt out of targeted advertising\",\"point\":\"good\",\"score\":25,\"tldr\":\"Generated through the annotate view\"}},\"10745\":{\"discussion\":\"https://edit.tosdr.org/points/10745\",\"id\":10745,\"needsModeration\":False,\"quoteDoc\":\"Cookie Policy\",\"quoteText\":\"Certain parts of the Facebook Products may not work properly if you have disabled browser cookie use.\\nPlease be aware these controls are distinct from the controls that Facebook offers you.\\n\",\"services\":[\"182\"],\"set\":\"set+service+and+topic\",\"slug\":None,\"title\":\"Blocking first party cookies may limit your ability to use the service\",\"topics\":[],\"tosdr\":{\"binding\":True,\"case\":\"Blocking first party cookies may limit your ability to use the service\",\"point\":\"neutral\",\"score\":50,\"tldr\":\"Generated through the annotate view\"}},\"12117\":{\"discussion\":\"https://edit.tosdr.org/points/12117\",\"id\":12117,\"needsModeration\":False,\"quoteDoc\":\"Data Policy\",\"quoteText\":\"\\nWe also process information about you across the Facebook Companies for these purposes, as permitted by applicable law and in accordance with their terms and policies.\\nFor example, we process information from WhatsApp about accounts sending spam on its service so we can take appropriate action against those accounts on Facebook, Instagram or Messenger.\",\"services\":[\"182\"],\"set\":\"set+service+and+topic\",\"slug\":None,\"title\":\"Your profile is combined across various products\",\"topics\":[],\"tosdr\":{\"binding\":True,\"case\":\"Your profile is combined across various products\",\"point\":\"bad\",\"score\":50,\"tldr\":\"Generated through the annotate view\"}},\"12118\":{\"discussion\":\"https://edit.tosdr.org/points/12118\",\"id\":12118,\"needsModeration\":False,\"quoteDoc\":\"Data Policy\",\"quoteText\":\"<b>Face recognition:</b> If you have it turned on, we use face recognition technology to recognize you in photos, videos and camera experiences.\\nThe face-recognition templates we create are data with special protections under EU law.\\nLearn more about how we use face recognition technology, or control our use of this technology in Facebook Settings.\\nIf we introduce face-recognition technology to your Instagram experience, we will let you know first, and you will have control over whether we use this technology for you.\",\"services\":[\"182\"],\"set\":\"set+service+and+topic\",\"slug\":None,\"title\":\"Your biometric data is collected\",\"topics\":[],\"tosdr\":{\"binding\":True,\"case\":\"Your biometric data is collected\",\"point\":\"bad\",\"score\":30,\"tldr\":\"Generated through the annotate view\"}},\"16745\":{\"discussion\":\"https://edit.tosdr.org/points/16745\",\"id\":16745,\"needsModeration\":False,\"quoteDoc\":None,\"quoteText\":None,\"services\":[\"182\"],\"set\":\"set+service+and+topic\",\"slug\":None,\"title\":\"This service provides an onion site accessible over Tor\",\"topics\":[],\"tosdr\":{\"binding\":True,\"case\":\"An onion site accessible over Tor is provided\",\"point\":\"good\",\"score\":40,\"tldr\":\"Facebook is also reachable at https://www.facebookcorewwwi.onion/\"}},\"17260\":{\"discussion\":\"https://edit.tosdr.org/points/17260\",\"id\":17260,\"needsModeration\":False,\"quoteDoc\":\"Cookie Policy\",\"quoteText\":\" Our business partners may also choose to share information with Facebook from cookies set in their own websites' domains, whether or not you have a Facebook account or are logged in.\\nSpecifically, cookies named _fbc or _fbp may be set on the domain of the Facebook business partner whose site you're visiting.\\nUnlike cookies that are set on Facebook's own domains, these cookies aren’t accessible by Facebook when you're on a site other than the one on which they were set, including when you are on one of our domains.\\nThey serve the same purposes as cookies set in Facebook's own domain, which are to personalise content (including ads), measure ads, produce analytics and provide a safer experience, as set out in this Cookies Policy.\\n<i>\\n\",\"services\":[\"182\"],\"set\":\"set+service+and+topic\",\"slug\":None,\"title\":\"Tracking via third-party cookies for advertising\",\"topics\":[],\"tosdr\":{\"binding\":True,\"case\":\"Third-party cookies are used for advertising\",\"point\":\"bad\",\"score\":70,\"tldr\":\"Generated through the annotate view\"}},\"17261\":{\"discussion\":\"https://edit.tosdr.org/points/17261\",\"id\":17261,\"needsModeration\":False,\"quoteDoc\":\"Cookie Policy\",\"quoteText\":\"You can review your Off-Facebook activity, which is a summary of activity that businesses and organizations share with us about your interactions with them, such as visiting their apps or websites.\\nThey use our Business Tools, like Facebook Pixel, to share this information with us.\\nThis helps us do things like give you a more personalized experience on Facebook.\",\"services\":[\"182\"],\"set\":\"set+service+and+topic\",\"slug\":None,\"title\":\"This service can view your browser history\",\"topics\":[],\"tosdr\":{\"binding\":True,\"case\":\"Your browsing history can be viewed by the service\",\"point\":\"blocker\",\"score\":50,\"tldr\":\"Third-party websites containing Facebook pixels share browsing information with the service.\"}}},\"urls\":[\"facebook.com\",\"facebookcorewwwi.onion\",\"messenger.com\",\"fb.com\"]}\n",
        "\n",
        "\n"
      ],
      "execution_count": null,
      "outputs": []
    },
    {
      "cell_type": "code",
      "metadata": {
        "id": "yOxpJajjUSAB"
      },
      "source": [
        "import pandas as pd\n",
        "df = pd.DataFrame(columns=['quoteDoc','needsModeration','score','point','case','tldr','title'])"
      ],
      "execution_count": null,
      "outputs": []
    },
    {
      "cell_type": "code",
      "metadata": {
        "id": "ssm8aX92P83F"
      },
      "source": [
        "df[0][0]=[]\n",
        "df[1][0]=[]\n",
        "df[2]=[]\n",
        "df[3]=[]\n",
        "df[4]=[]\n",
        "df[5]=[]\n",
        "df[6]=[]\n",
        "df[7]=[]\n",
        "df[8]=[]"
      ],
      "execution_count": null,
      "outputs": []
    },
    {
      "cell_type": "code",
      "metadata": {
        "id": "RGtvOkieP86A"
      },
      "source": [
        "for i in a[\"pointsData\"].keys():\n",
        "  df=df.append({'score': a[\"pointsData\"][i][\"tosdr\"]['score']},ignore_index=True)\n",
        " "
      ],
      "execution_count": null,
      "outputs": []
    },
    {
      "cell_type": "code",
      "metadata": {
        "colab": {
          "base_uri": "https://localhost:8080/"
        },
        "id": "molf2k2KZkqm",
        "outputId": "fe3778b6-ff1b-47f6-a24f-88c1b6ea9410"
      },
      "source": [
        "df['score'].head(20)"
      ],
      "execution_count": null,
      "outputs": [
        {
          "output_type": "execute_result",
          "data": {
            "text/plain": [
              "0     NaN\n",
              "1     NaN\n",
              "2     NaN\n",
              "3     NaN\n",
              "4     NaN\n",
              "5     NaN\n",
              "6     NaN\n",
              "7     NaN\n",
              "8     NaN\n",
              "9     NaN\n",
              "10    NaN\n",
              "11    NaN\n",
              "12    NaN\n",
              "13    NaN\n",
              "14    NaN\n",
              "15    NaN\n",
              "16    NaN\n",
              "17    NaN\n",
              "18    NaN\n",
              "19    NaN\n",
              "Name: score, dtype: object"
            ]
          },
          "metadata": {
            "tags": []
          },
          "execution_count": 128
        }
      ]
    },
    {
      "cell_type": "code",
      "metadata": {
        "id": "PSE_OxekP8_L"
      },
      "source": [
        "for i in a[\"pointsData\"].keys():\n",
        "    df[1][0].append(a[\"pointsData\"][i][\"needsModeration\"])"
      ],
      "execution_count": null,
      "outputs": []
    },
    {
      "cell_type": "code",
      "metadata": {
        "id": "nDoYvvuxP9Ba"
      },
      "source": [
        "for i in a[\"pointsData\"].keys():\n",
        "    df[2].append(a[\"pointsData\"][i][\"tosdr\"]['score'])"
      ],
      "execution_count": null,
      "outputs": []
    },
    {
      "cell_type": "code",
      "metadata": {
        "id": "-lb2A7CYP9D6"
      },
      "source": [
        "for i in a[\"pointsData\"].keys():\n",
        "    df[3].append(a[\"pointsData\"][i][\"tosdr\"]['point'])"
      ],
      "execution_count": null,
      "outputs": []
    },
    {
      "cell_type": "code",
      "metadata": {
        "id": "Hj2VtyjdP9GA"
      },
      "source": [
        "for i in a[\"pointsData\"].keys():\n",
        "    df[4].append(a[\"pointsData\"][i][\"tosdr\"]['case'])"
      ],
      "execution_count": null,
      "outputs": []
    },
    {
      "cell_type": "code",
      "metadata": {
        "id": "I9TczobOTFHK"
      },
      "source": [
        "for i in a[\"pointsData\"].keys():\n",
        "    df[5].append(a[\"pointsData\"][i][\"tosdr\"]['binding'])"
      ],
      "execution_count": null,
      "outputs": []
    },
    {
      "cell_type": "code",
      "metadata": {
        "id": "Ic-kv2dETFJ9"
      },
      "source": [
        "for i in a[\"pointsData\"].keys():\n",
        "    df[6].append(a[\"pointsData\"][i][\"tosdr\"]['tldr'])"
      ],
      "execution_count": null,
      "outputs": []
    },
    {
      "cell_type": "code",
      "metadata": {
        "id": "7u_DaTrOTFMf"
      },
      "source": [
        "for i in a[\"pointsData\"].keys():\n",
        "    df[7].append(a[\"pointsData\"][i]['quoteDoc'])"
      ],
      "execution_count": null,
      "outputs": []
    },
    {
      "cell_type": "code",
      "metadata": {
        "colab": {
          "base_uri": "https://localhost:8080/",
          "height": 178
        },
        "id": "Oze3ujQ1TFPd",
        "outputId": "9b9efe65-2c59-4788-cd44-901945585697"
      },
      "source": [
        "for i in a[\"pointsData\"].keys():\n",
        "    df[8].append(a[\"pointsData\"][i][\"services\"]['title'])"
      ],
      "execution_count": null,
      "outputs": [
        {
          "output_type": "error",
          "ename": "TypeError",
          "evalue": "ignored",
          "traceback": [
            "\u001b[0;31m---------------------------------------------------------------------------\u001b[0m",
            "\u001b[0;31mTypeError\u001b[0m                                 Traceback (most recent call last)",
            "\u001b[0;32m<ipython-input-71-7e4bc4d388a4>\u001b[0m in \u001b[0;36m<module>\u001b[0;34m()\u001b[0m\n\u001b[1;32m      1\u001b[0m \u001b[0;32mfor\u001b[0m \u001b[0mi\u001b[0m \u001b[0;32min\u001b[0m \u001b[0ma\u001b[0m\u001b[0;34m[\u001b[0m\u001b[0;34m\"pointsData\"\u001b[0m\u001b[0;34m]\u001b[0m\u001b[0;34m.\u001b[0m\u001b[0mkeys\u001b[0m\u001b[0;34m(\u001b[0m\u001b[0;34m)\u001b[0m\u001b[0;34m:\u001b[0m\u001b[0;34m\u001b[0m\u001b[0;34m\u001b[0m\u001b[0m\n\u001b[0;32m----> 2\u001b[0;31m     \u001b[0mdf\u001b[0m\u001b[0;34m[\u001b[0m\u001b[0;36m8\u001b[0m\u001b[0;34m]\u001b[0m\u001b[0;34m.\u001b[0m\u001b[0mappend\u001b[0m\u001b[0;34m(\u001b[0m\u001b[0ma\u001b[0m\u001b[0;34m[\u001b[0m\u001b[0;34m\"pointsData\"\u001b[0m\u001b[0;34m]\u001b[0m\u001b[0;34m[\u001b[0m\u001b[0mi\u001b[0m\u001b[0;34m]\u001b[0m\u001b[0;34m[\u001b[0m\u001b[0;34m\"services\"\u001b[0m\u001b[0;34m]\u001b[0m\u001b[0;34m[\u001b[0m\u001b[0;34m'title'\u001b[0m\u001b[0;34m]\u001b[0m\u001b[0;34m)\u001b[0m\u001b[0;34m\u001b[0m\u001b[0;34m\u001b[0m\u001b[0m\n\u001b[0m",
            "\u001b[0;31mTypeError\u001b[0m: list indices must be integers or slices, not str"
          ]
        }
      ]
    },
    {
      "cell_type": "code",
      "metadata": {
        "id": "z_0qMBcqTFR6"
      },
      "source": [
        "df"
      ],
      "execution_count": null,
      "outputs": []
    },
    {
      "cell_type": "code",
      "metadata": {
        "id": "tRh35zVZTFUF"
      },
      "source": [
        ""
      ],
      "execution_count": null,
      "outputs": []
    },
    {
      "cell_type": "code",
      "metadata": {
        "id": "6ZfGtIXhTFXc"
      },
      "source": [
        ""
      ],
      "execution_count": null,
      "outputs": []
    },
    {
      "cell_type": "code",
      "metadata": {
        "colab": {
          "base_uri": "https://localhost:8080/"
        },
        "id": "9pAEVS6l-erN",
        "outputId": "fa83b73b-d0fb-46d2-c0c8-55ee17ac201f"
      },
      "source": [
        "\n",
        "for i in a[\"pointsData\"].keys():\n",
        "    print(i,a[\"pointsData\"][i][\"quoteDoc\"])"
      ],
      "execution_count": null,
      "outputs": [
        {
          "output_type": "stream",
          "text": [
            "627 Cookie Policy\n",
            "646 Data Policy\n",
            "743 What information does Facebook get when I visit a site with the Like button?\n",
            "751 Data Policy\n",
            "984 Data Policy\n",
            "997 Terms of Service\n",
            "1059 Data Policy\n",
            "1120 None\n",
            "4356 None\n",
            "4598 Terms of Service\n",
            "9462 Terms of Service\n",
            "9465 Terms of Service\n",
            "9504 Terms of Service\n",
            "10493 Cookie Policy\n",
            "10686 Data Policy\n",
            "10687 Data Policy\n",
            "10688 Data Policy\n",
            "10689 Data Policy\n",
            "10690 Data Policy\n",
            "10691 Data Policy\n",
            "10692 Data Policy\n",
            "10693 Data Policy\n",
            "10697 Data Policy\n",
            "10698 Data Policy\n",
            "10700 Data Policy\n",
            "10701 Data Policy\n",
            "10702 Data Policy\n",
            "10717 Terms of Service\n",
            "10718 Terms of Service\n",
            "10719 Terms of Service\n",
            "10720 Data Policy\n",
            "10723 Terms of Service\n",
            "10728 Terms of Service\n",
            "10730 Terms of Service\n",
            "10731 Terms of Service\n",
            "10732 Terms of Service\n",
            "10733 Terms of Service\n",
            "10734 Terms of Service\n",
            "10735 Terms of Service\n",
            "10736 Terms of Service\n",
            "10738 Terms of Service\n",
            "10739 Terms of Service\n",
            "10743 Cookie Policy\n",
            "10744 Cookie Policy\n",
            "10745 Cookie Policy\n",
            "12117 Data Policy\n",
            "12118 Data Policy\n",
            "16745 None\n",
            "17260 Cookie Policy\n",
            "17261 Cookie Policy\n"
          ],
          "name": "stdout"
        }
      ]
    },
    {
      "cell_type": "code",
      "metadata": {
        "colab": {
          "base_uri": "https://localhost:8080/",
          "height": 178
        },
        "id": "6iXVSWNo_Njk",
        "outputId": "662ad43b-87cf-4f6c-836e-192e1e7e772d"
      },
      "source": [
        "for i in a[\"pointsData\"].keys():\n",
        "    print(i,a[\"pointsData\"][i][\"services\"]['0'])"
      ],
      "execution_count": null,
      "outputs": [
        {
          "output_type": "error",
          "ename": "TypeError",
          "evalue": "ignored",
          "traceback": [
            "\u001b[0;31m---------------------------------------------------------------------------\u001b[0m",
            "\u001b[0;31mTypeError\u001b[0m                                 Traceback (most recent call last)",
            "\u001b[0;32m<ipython-input-16-3bc656a65988>\u001b[0m in \u001b[0;36m<module>\u001b[0;34m()\u001b[0m\n\u001b[1;32m      1\u001b[0m \u001b[0;32mfor\u001b[0m \u001b[0mi\u001b[0m \u001b[0;32min\u001b[0m \u001b[0ma\u001b[0m\u001b[0;34m[\u001b[0m\u001b[0;34m\"pointsData\"\u001b[0m\u001b[0;34m]\u001b[0m\u001b[0;34m.\u001b[0m\u001b[0mkeys\u001b[0m\u001b[0;34m(\u001b[0m\u001b[0;34m)\u001b[0m\u001b[0;34m:\u001b[0m\u001b[0;34m\u001b[0m\u001b[0;34m\u001b[0m\u001b[0m\n\u001b[0;32m----> 2\u001b[0;31m     \u001b[0mprint\u001b[0m\u001b[0;34m(\u001b[0m\u001b[0mi\u001b[0m\u001b[0;34m,\u001b[0m\u001b[0ma\u001b[0m\u001b[0;34m[\u001b[0m\u001b[0;34m\"pointsData\"\u001b[0m\u001b[0;34m]\u001b[0m\u001b[0;34m[\u001b[0m\u001b[0mi\u001b[0m\u001b[0;34m]\u001b[0m\u001b[0;34m[\u001b[0m\u001b[0;34m\"services\"\u001b[0m\u001b[0;34m]\u001b[0m\u001b[0;34m[\u001b[0m\u001b[0;34m'0'\u001b[0m\u001b[0;34m]\u001b[0m\u001b[0;34m)\u001b[0m\u001b[0;34m\u001b[0m\u001b[0;34m\u001b[0m\u001b[0m\n\u001b[0m",
            "\u001b[0;31mTypeError\u001b[0m: list indices must be integers or slices, not str"
          ]
        }
      ]
    },
    {
      "cell_type": "code",
      "metadata": {
        "id": "M2_QsmmF-e7b"
      },
      "source": [
        " sum = 0\n",
        "avg = 0\n",
        "total =0\n",
        "print(a[\"name\"], \"class:\", a[\"class\"])\n",
        "for i in a[\"pointsData\"].keys():\n",
        "    print(i,a[\"pointsData\"][i][\"needsModeration\"])\n",
        "    \n",
        "print(\"sum:\",sum)\n",
        "avg = sum/total\n",
        "print(\"avg:\",avg)"
      ],
      "execution_count": null,
      "outputs": []
    },
    {
      "cell_type": "code",
      "metadata": {
        "colab": {
          "base_uri": "https://localhost:8080/"
        },
        "id": "q44IUGRB5_8P",
        "outputId": "1fcd8fb6-8759-4651-9140-f7640f3873fa"
      },
      "source": [
        "sum = 0\n",
        "avg = 0\n",
        "total =0\n",
        "print(a[\"name\"], \"class:\", a[\"class\"])\n",
        "for i in a[\"pointsData\"].keys():\n",
        "    print(i,a[\"pointsData\"][i][\"tosdr\"]['point'],a[\"pointsData\"][i][\"tosdr\"]['score'])\n",
        "    sum = sum + a[\"pointsData\"][i][\"tosdr\"]['score']\n",
        "    total += 1\n",
        "print(\"sum:\",sum)\n",
        "avg = sum/total\n",
        "print(\"avg:\",avg)"
      ],
      "execution_count": null,
      "outputs": [
        {
          "output_type": "stream",
          "text": [
            "Facebook class: E\n",
            "627 neutral 10\n",
            "646 good 40\n",
            "743 bad 60\n",
            "751 bad 35\n",
            "984 bad 40\n",
            "997 neutral 10\n",
            "1059 bad 80\n",
            "1120 bad 30\n",
            "4356 blocker 30\n",
            "4598 blocker 90\n",
            "9462 neutral 15\n",
            "9465 neutral 10\n",
            "9504 neutral 20\n",
            "10493 blocker 100\n",
            "10686 bad 75\n",
            "10687 blocker 70\n",
            "10688 bad 70\n",
            "10689 bad 50\n",
            "10690 bad 50\n",
            "10691 good 50\n",
            "10692 bad 50\n",
            "10693 good 30\n",
            "10697 neutral 10\n",
            "10698 good 0\n",
            "10700 bad 70\n",
            "10701 bad 100\n",
            "10702 good 15\n",
            "10717 good 25\n",
            "10718 bad 40\n",
            "10719 neutral 50\n",
            "10720 bad 50\n",
            "10723 bad 20\n",
            "10728 neutral 10\n",
            "10730 neutral 30\n",
            "10731 neutral 10\n",
            "10732 bad 20\n",
            "10733 neutral 15\n",
            "10734 neutral 20\n",
            "10735 bad 25\n",
            "10736 bad 35\n",
            "10738 good 50\n",
            "10739 neutral 10\n",
            "10743 bad 10\n",
            "10744 good 25\n",
            "10745 neutral 50\n",
            "12117 bad 50\n",
            "12118 bad 30\n",
            "16745 good 40\n",
            "17260 bad 70\n",
            "17261 blocker 50\n",
            "sum: 1945\n",
            "avg: 38.9\n"
          ],
          "name": "stdout"
        }
      ]
    },
    {
      "cell_type": "code",
      "metadata": {
        "id": "CGXbAcu65_8Q"
      },
      "source": [
        "b = {\"id\":190,\"name\":\"Amazon\",\"slug\":\"amazon\",\"image\":\"https://s3.tosdr.org/logos/190.png\",\"class\":\"E\",\"links\":{\"Amazon Australia - Privacy Notice\":{\"name\":\"Amazon Australia - Privacy Notice\",\"url\":\"https://www.amazon.com.au/gp/help/customer/display.html?nodeId=468496&ref_=footer_privacy\"},\"Kindle Store Terms of Use\":{\"name\":\"Kindle Store Terms of Use\",\"url\":\"https://www.amazon.com/gp/help/customer/display.html?nodeId=201014950\"},\"Saving Your Wi-Fi Passwords to Amazon FAQs\":{\"name\":\"Saving Your Wi-Fi Passwords to Amazon FAQs\",\"url\":\"https://www.amazon.com/gp/help/customer/display.html?nodeId=201730860\"},\"Amazon Drive and Prime Photos Terms of Use\":{\"name\":\"Amazon Drive and Prime Photos Terms of Use\",\"url\":\"https://www.amazon.com/gp/help/customer/display.html?nodeId=201376540\"},\"Amazon Device Terms of Use\":{\"name\":\"Amazon Device Terms of Use\",\"url\":\"https://www.amazon.com/gp/help/customer/display.html?nodeId=202002080\"},\"Amazon Maps Terms of Use\":{\"name\":\"Amazon Maps Terms of Use\",\"url\":\"https://www.amazon.com/gp/help/customer/display.html?nodeId=201544030\"},\"Amazon Coins Terms\":{\"name\":\"Amazon Coins Terms\",\"url\":\"https://www.amazon.com/gp/help/customer/display.html?nodeId=201434520\"},\"Conditions of Use\":{\"name\":\"Conditions of Use\",\"url\":\"https://www.amazon.com/gp/help/customer/display.html?nodeId=508088\"},\"Amazon Privacy Notice\":{\"name\":\"Amazon Privacy Notice\",\"url\":\"https://www.amazon.com/gp/help/customer/display.html?nodeId=468496\"},\"Interest-Based Ads\":{\"name\":\"Interest-Based Ads\",\"url\":\"https://www.amazon.com/gp/help/customer/display.html?nodeId=202075050\"},\"Alexa Terms of Use\":{\"name\":\"Alexa Terms of Use\",\"url\":\"https://www.amazon.com/gp/help/customer/display.html?nodeId=201809740\"},\"Kindle Special Offer Text Notifications Terms & Conditions\":{\"name\":\"Kindle Special Offer Text Notifications Terms & Conditions\",\"url\":\"https://www.amazon.com/gp/help/customer/display.html?nodeId=201339340\"},\"Amazon Prime Terms\":{\"name\":\"Amazon Prime Terms\",\"url\":\"https://www.amazon.com/gp/help/customer/display.html?nodeId=13819201\"},\"Amazon Appstore for Android Terms of Use\":{\"name\":\"Amazon Appstore for Android Terms of Use\",\"url\":\"https://www.amazon.com/gp/help/customer/display.html?nodeId=201485660\"},\"Amazon Music Terms of Use\":{\"name\":\"Amazon Music Terms of Use\",\"url\":\"https://www.amazon.com/gp/help/customer/display.html?nodeId=201380010\"},\"Kindle Unlimited Terms of Use\":{\"name\":\"Kindle Unlimited Terms of Use\",\"url\":\"https://www.amazon.com/gp/help/customer/display.html?nodeId=201556940\"},\"Monthly Payments Terms & Conditions\":{\"name\":\"Monthly Payments Terms & Conditions\",\"url\":\"https://www.amazon.com/gp/help/customer/display.html?nodeId=202095050\"},\"Limited-Time Special Offers Promotional Discount Terms & Conditions\":{\"name\":\"Limited-Time Special Offers Promotional Discount Terms & Conditions\",\"url\":\"https://www.amazon.com/gp/help/customer/display.html?nodeId=201339330\"},\"Amazon GameCircle Terms of Use\":{\"name\":\"Amazon GameCircle Terms of Use\",\"url\":\"https://www.amazon.com/gp/help/customer/display.html?nodeId=201487670\"},\"Amazon Silk Terms & Conditions\":{\"name\":\"Amazon Silk Terms & Conditions\",\"url\":\"https://www.amazon.com/gp/help/customer/display.html?nodeId=200775270\"},\"Backup and Restore FAQ\":{\"name\":\"Backup and Restore FAQ\",\"url\":\"https://www.amazon.com/gp/help/customer/display.html?nodeId=201604180\"},\"EU-US and Swiss-US Privacy Shield\":{\"name\":\"EU-US and Swiss-US Privacy Shield\",\"url\":\"https://www.amazon.com/gp/help/customer/display.html/ref=hp_left_v4_sib?ie=UTF8&nodeId=202135380\"},\"Location Services FAQ\":{\"name\":\"Location Services FAQ\",\"url\":\"https://www.amazon.com/gp/help/customer/display.html?nodeId=201604200\"},\"Firefly FAQ\":{\"name\":\"Firefly FAQ\",\"url\":\"https://www.amazon.com/gp/help/customer/display.html?nodeId=201604140\"},\"Kindle E-Reader and Fire Tablet Terms\":{\"name\":\"Kindle E-Reader and Fire Tablet Terms\",\"url\":\"https://www.amazon.com/gp/help/customer/display.html?nodeId=200699130\"},\"Kindle Personal Documents Distributor Terms of Use\":{\"name\":\"Kindle Personal Documents Distributor Terms of Use\",\"url\":\"https://www.amazon.com/gp/help/customer/display.html?nodeId=201124320\"}},\"points\":[20756,5926,793,5930,622,20752,14306,5923,645,20754,1582,5929,1122,20757,20755,20758,706,10792,10791,5922,10790,1370,20753,5925],\"pointsData\":{\"622\":{\"discussion\":\"https://edit.tosdr.org/points/622\",\"id\":622,\"needsModeration\":False,\"quoteDoc\":\"Conditions of Use\",\"quoteText\":\"If you do post content or submit material, and unless we indicate otherwise, you grant Amazon a nonexclusive, royalty-free, perpetual, irrevocable, and fully sublicensable right to use, reproduce, modify, adapt, publish, perform, translate, create derivative works from, distribute, and display such content throughout the world in any media.\\nYou grant Amazon and sublicensees the right to use the name that you submit in connection with such content, if they choose.\",\"services\":[\"190\"],\"set\":\"set+service+and+topic\",\"slug\":None,\"title\":\"This service can license user content to third parties\",\"topics\":[],\"tosdr\":{\"binding\":True,\"case\":\"Your content can be licensed to third parties\",\"point\":\"bad\",\"score\":50,\"tldr\":\"[Bad] Amazon holds unlimited copyright license on your content\"}},\"645\":{\"discussion\":\"https://edit.tosdr.org/points/645\",\"id\":645,\"needsModeration\":False,\"quoteDoc\":\"Amazon Privacy Notice\",\"quoteText\":\" </strong>As we continue to develop our business, we might sell or buy other businesses or services.\\nIn such transactions, customer information generally is one of the transferred business assets but remains subject to the promises made in any pre-existing Privacy Notice (unless, of course, the customer consents otherwise).\\nAlso, in the unlikely event that Amazon.com, Inc.\\nor substantially all of its assets are acquired, customer information will of course be one of the transferred assets.\",\"services\":[\"190\"],\"set\":\"set+service+and+topic\",\"slug\":None,\"title\":\"The service can sell or otherwise transfer your personal data as part of a bankruptcy proceeding or other type of financial transaction.\",\"topics\":[],\"tosdr\":{\"binding\":True,\"case\":\"Your personal data may be sold or otherwise transferred as part of a bankruptcy proceeding or other type of financial transaction\",\"point\":\"bad\",\"score\":50,\"tldr\":\"Amazon may sell user data as part of a business transfer\"}},\"706\":{\"discussion\":\"https://edit.tosdr.org/points/706\",\"id\":706,\"needsModeration\":False,\"quoteDoc\":\"Conditions of Use\",\"quoteText\":\"Amazon reserves the right to refuse service, terminate accounts, terminate your rights to use Amazon Services, remove or edit content, or cancel orders in its sole discretion.\",\"services\":[\"190\"],\"set\":\"set+service+and+topic\",\"slug\":None,\"title\":\"They may stop providing the service at any time\",\"topics\":[],\"tosdr\":{\"binding\":True,\"case\":\"They may stop providing the service at any time\",\"point\":\"neutral\",\"score\":40,\"tldr\":\"Amazon can cancel your account and remove content at any time.\"}},\"793\":{\"discussion\":\"https://edit.tosdr.org/points/793\",\"id\":793,\"needsModeration\":False,\"quoteDoc\":\"Amazon Privacy Notice\",\"quoteText\":\"\\nLike many websites, we use \\\"cookies\\\" and other unique identifiers, and we obtain certain types of information when your web browser or device accesses Amazon Services and other content served by or on behalf of Amazon on other websites.\",\"services\":[\"190\"],\"set\":\"set+service+and+topic\",\"slug\":None,\"title\":\"This service tracks you on other websites\",\"topics\":[],\"tosdr\":{\"binding\":True,\"case\":\"This service tracks you on other websites\",\"point\":\"bad\",\"score\":60,\"tldr\":\"This service uses cookies to track you even if you are not interacting with them directly. Amazon for instance, use <a href=\\\"http://www.amazon.com/gp/help/customer/display.html/ref=hp_468496_cookies?nodeId=468496&amp;#cookies\\\">cookies</a> to track your device and serve targeted advertisements on other websites (Amazon associates, websites using Amazon Checkout). They “obtain certain types of information when your Web browser accesses Amazon.com or advertisements and other content served by or on behalf of Amazon.com on other Web sites”.\"}},\"1122\":{\"discussion\":\"https://edit.tosdr.org/points/1122\",\"id\":1122,\"needsModeration\":False,\"quoteDoc\":\"Interest-Based Ads\",\"quoteText\":\"To serve you interest-based ads, we use information such as your interactions with Amazon sites, content, or services.\",\"services\":[\"190\"],\"set\":\"set+service+and+topic\",\"slug\":None,\"title\":\"The service uses your personal data for advertising\",\"topics\":[],\"tosdr\":{\"binding\":True,\"case\":\"Your personal data is used for advertising\",\"point\":\"bad\",\"score\":30,\"tldr\":\"Amazon uses your personal data and your behavior data for advertisement.\"}},\"1370\":{\"discussion\":\"https://edit.tosdr.org/points/1370\",\"id\":1370,\"needsModeration\":False,\"quoteDoc\":\"Conditions of Use\",\"quoteText\":\"You are responsible for maintaining the confidentiality of your account and password and for restricting access to your account, and you agree to accept responsibility for all activities that occur under your account or password.\\n\",\"services\":[\"190\"],\"set\":\"set+service+and+topic\",\"slug\":None,\"title\":\"Users are responsible for maintaining the security of their Amazon account and for the activities on their account\",\"topics\":[],\"tosdr\":{\"binding\":True,\"case\":\"You are responsible for maintaining the security of your account and for the activities on your account\",\"point\":\"neutral\",\"score\":10,\"tldr\":\"\"}},\"1582\":{\"discussion\":\"https://edit.tosdr.org/points/1582\",\"id\":1582,\"needsModeration\":False,\"quoteDoc\":\"Amazon Privacy Notice\",\"quoteText\":\"This includes exchanging information with other companies and organizations for fraud protection and credit risk reduction.\",\"services\":[\"190\"],\"set\":\"set+service+and+topic\",\"slug\":None,\"title\":\"personal data is given to third parties\",\"topics\":[],\"tosdr\":{\"binding\":True,\"case\":\"This service gives your personal data to third parties involved in its operation\",\"point\":\"bad\",\"score\":35,\"tldr\":\"Amazon may release your data when they believe it appropriate\"}},\"5922\":{\"discussion\":\"https://edit.tosdr.org/points/5922\",\"id\":5922,\"needsModeration\":False,\"quoteDoc\":\"Conditions of Use\",\"quoteText\":\"THE AMAZON SERVICES AND ALL INFORMATION, CONTENT, MATERIALS, PRODUCTS (INCLUDING SOFTWARE) AND OTHER SERVICES INCLUDED ON OR OTHERWISE MADE AVAILABLE TO YOU THROUGH THE AMAZON SERVICES ARE PROVIDED BY AMAZON ON AN \\\"AS IS\\\" AND \\\"AS AVAILABLE\\\" BASIS, UNLESS OTHERWISE SPECIFIED IN WRITING.\\nAMAZON MAKES NO REPRESENTATIONS OR WARRANTIES OF ANY KIND, EXPRESS OR IMPLIED, AS TO THE OPERATION OF THE AMAZON SERVICES, OR THE INFORMATION, CONTENT, MATERIALS, PRODUCTS (INCLUDING SOFTWARE) OR OTHER SERVICES INCLUDED ON OR OTHERWISE MADE AVAILABLE TO YOU THROUGH THE AMAZON SERVICES, UNLESS OTHERWISE SPECIFIED IN WRITING.\\nYOU EXPRESSLY AGREE THAT YOUR USE OF THE AMAZON SERVICES IS AT YOUR SOLE RISK\",\"services\":[\"190\"],\"set\":\"set+service+and+topic\",\"slug\":None,\"title\":\"The service is provided 'as is' and to be used at the users' sole risk\",\"topics\":[],\"tosdr\":{\"binding\":True,\"case\":\"The service is provided 'as is' and to be used at your sole risk\",\"point\":\"neutral\",\"score\":20,\"tldr\":\"Generated through the annotate view\"}},\"5923\":{\"discussion\":\"https://edit.tosdr.org/points/5923\",\"id\":5923,\"needsModeration\":False,\"quoteDoc\":\"Conditions of Use\",\"quoteText\":\"Any dispute or claim relating in any way to your use of any Amazon Service, or to any products or services sold or distributed by Amazon or through Amazon.com will be resolved by binding arbitration, rather than in court</strong>, except that you may assert claims in small claims court if your claims qualify.\",\"services\":[\"190\"],\"set\":\"set+service+and+topic\",\"slug\":None,\"title\":\"This service forces users into binding arbitration in the case of disputes\",\"topics\":[],\"tosdr\":{\"binding\":True,\"case\":\"You are forced into binding arbitration in case of disputes\",\"point\":\"bad\",\"score\":50,\"tldr\":\"Generated through the annotate view\"}},\"5925\":{\"discussion\":\"https://edit.tosdr.org/points/5925\",\"id\":5925,\"needsModeration\":False,\"quoteDoc\":\"Conditions of Use\",\"quoteText\":\"Please review our other policies, such as our pricing policy, posted on this site.\\nThese policies also govern your use of Amazon Services\",\"services\":[\"190\"],\"set\":\"set+service+and+topic\",\"slug\":None,\"title\":\"This service employs separate policies for different parts of the service\",\"topics\":[],\"tosdr\":{\"binding\":True,\"case\":\"Separate policies are employed for different parts of the service\",\"point\":\"neutral\",\"score\":0,\"tldr\":\"Generated through the annotate view\"}},\"5926\":{\"discussion\":\"https://edit.tosdr.org/points/5926\",\"id\":5926,\"needsModeration\":False,\"quoteDoc\":\"Conditions of Use\",\"quoteText\":\"We reserve the right to make changes to our site, policies, Service Terms, and these Conditions of Use at any time\",\"services\":[\"190\"],\"set\":\"set+service+and+topic\",\"slug\":None,\"title\":\" Terms may be changed any time at their discretion, without notice to the user \",\"topics\":[],\"tosdr\":{\"binding\":True,\"case\":\" Terms may be changed any time at their discretion, without notice to you \",\"point\":\"bad\",\"score\":70,\"tldr\":\"Generated through the annotate view\"}},\"5929\":{\"discussion\":\"https://edit.tosdr.org/points/5929\",\"id\":5929,\"needsModeration\":False,\"quoteDoc\":\"EU-US and Swiss-US Privacy Shield\",\"quoteText\":\"The Amazon Group Companies are subject to the investigatory and enforcement powers of the Federal Trade Commission (FTC).\\nWe may be required to disclose personal information that we handle under the Privacy Shield in response to lawful requests by public authorities, including to meet national security or law enforcement requirements.\",\"services\":[\"190\"],\"set\":\"set+service+and+topic\",\"slug\":None,\"title\":\"This service can share your personal information to third parties \",\"topics\":[],\"tosdr\":{\"binding\":True,\"case\":\"This service gives your personal data to third parties involved in its operation\",\"point\":\"bad\",\"score\":35,\"tldr\":\"Generated through the annotate view\"}},\"5930\":{\"discussion\":\"https://edit.tosdr.org/points/5930\",\"id\":5930,\"needsModeration\":False,\"quoteDoc\":\"Amazon Maps Terms of Use\",\"quoteText\":\"We may terminate the Agreement or restrict, suspend or terminate your use of the Service at our discretion at any time without notice.</p>\",\"services\":[\"190\"],\"set\":\"set+service+and+topic\",\"slug\":None,\"title\":\"The service can delete your account without prior notice and without a reason\",\"topics\":[],\"tosdr\":{\"binding\":True,\"case\":\"Your account can be deleted without prior notice and without a reason\",\"point\":\"bad\",\"score\":60,\"tldr\":\"Generated through the annotate view\"}},\"10790\":{\"discussion\":\"https://edit.tosdr.org/points/10790\",\"id\":10790,\"needsModeration\":False,\"quoteDoc\":\"Conditions of Use\",\"quoteText\":\"If any of these conditions shall be deemed invalid, void, or for any reason unenforceable, that condition shall be deemed severable and shall not affect the validity and enforceability of any remaining condition.\",\"services\":[\"190\"],\"set\":\"set+service+and+topic\",\"slug\":None,\"title\":\"Invalidity of any portion of the Terms of Service does not entail invalidity of its remainder\",\"topics\":[],\"tosdr\":{\"binding\":True,\"case\":\"Invalidity of any portion of the Terms of Service does not entail invalidity of its remainder\",\"point\":\"neutral\",\"score\":10,\"tldr\":\"Generated through the annotate view\"}},\"10791\":{\"discussion\":\"https://edit.tosdr.org/points/10791\",\"id\":10791,\"needsModeration\":False,\"quoteDoc\":\"Conditions of Use\",\"quoteText\":\"commercial solicitation, chain letters, mass mailings, or any form of \\\"spam\\\" or unsolicited commercial electronic messages.\\n\",\"services\":[\"190\"],\"set\":\"set+service+and+topic\",\"slug\":None,\"title\":\"This service prohibits users sending chain letters, junk mail, spam or any unsolicited messages\",\"topics\":[],\"tosdr\":{\"binding\":True,\"case\":\"You are prohibited from sending chain letters, junk mail, spam or any unsolicited messages\",\"point\":\"neutral\",\"score\":25,\"tldr\":\"Full Quote: \\\"You may post reviews, comments, photos, videos, and other content. send e-cards and other communications. and submit suggestions, ideas, comments, questions, or other information, so long as the content is not illegal, obscene, threatening, defamatory, invasive of privacy, infringing of intellectual property rights (including publicity rights), or otherwise injurious to third parties or objectionable, and does not consist of or contain software viruses, political campaigning, commercial solicitation, chain letters, mass mailings, or any form of \\\"spam\\\" or unsolicited commercial electronic messages.\\\"\"}},\"10792\":{\"discussion\":\"https://edit.tosdr.org/points/10792\",\"id\":10792,\"needsModeration\":False,\"quoteDoc\":\"Conditions of Use\",\"quoteText\":\"political campaigning,\",\"services\":[\"190\"],\"set\":\"set+service+and+topic\",\"slug\":None,\"title\":\"Prohibits political discussions or campaigning\",\"topics\":[],\"tosdr\":{\"binding\":True,\"case\":\"Political discussions or campaining are prohibited\",\"point\":\"neutral\",\"score\":30,\"tldr\":\"Full Quote: \\\"You may post reviews, comments, photos, videos, and other content. send e-cards and other communications. and submit suggestions, ideas, comments, questions, or other information, so long as the content is not illegal, obscene, threatening, defamatory, invasive of privacy, infringing of intellectual property rights (including publicity rights), or otherwise injurious to third parties or objectionable, and does not consist of or contain software viruses, political campaigning, commercial solicitation, chain letters, mass mailings, or any form of \\\"spam\\\" or unsolicited commercial electronic messages.\\\"\"}},\"14306\":{\"discussion\":\"https://edit.tosdr.org/points/14306\",\"id\":14306,\"needsModeration\":False,\"quoteDoc\":\"Amazon Music Terms of Use\",\"quoteText\":\"Any dispute or claim arising from or relating to the Agreement or the Services is subject to the governing law, disclaimer of warranties and limitation of liability, binding arbitration and class action waiver (if applicable), and all other terms in the Conditions of Use applicable to you (noted here).\",\"services\":[\"190\"],\"set\":\"set+service+and+topic\",\"slug\":None,\"title\":\"You waive your right to a class action.\",\"topics\":[],\"tosdr\":{\"binding\":True,\"case\":\"You waive your right to a class action.\",\"point\":\"bad\",\"score\":50,\"tldr\":\"Generated through the annotate view\"}},\"20752\":{\"discussion\":\"https://edit.tosdr.org/points/20752\",\"id\":20752,\"needsModeration\":False,\"quoteDoc\":\"Amazon Privacy Notice\",\"quoteText\":\"\\n<strong>Provide voice, image and camera services.</strong> When you use our voice, image and camera services, we use your voice input, images, videos, and other personal information to respond to your requests, provide the requested service to you, and improve our services.\",\"services\":[\"190\"],\"set\":\"set+service+and+topic\",\"slug\":None,\"title\":\"Voice data is collected and shared with third-parties\",\"topics\":[],\"tosdr\":{\"binding\":True,\"case\":\"Voice data is collected and shared with third-parties\",\"point\":\"bad\",\"score\":50,\"tldr\":\"Generated through the annotate view\"}},\"20753\":{\"discussion\":\"https://edit.tosdr.org/points/20753\",\"id\":20753,\"needsModeration\":False,\"quoteDoc\":\"Amazon Privacy Notice\",\"quoteText\":\"We employ other companies and individuals to perform functions on our behalf.\\n\",\"services\":[\"190\"],\"set\":\"set+service+and+topic\",\"slug\":None,\"title\":\"Third parties are involved in operating the service\",\"topics\":[],\"tosdr\":{\"binding\":True,\"case\":\"Third parties are involved in operating the service\",\"point\":\"neutral\",\"score\":0,\"tldr\":\"Generated through the annotate view\"}},\"20754\":{\"discussion\":\"https://edit.tosdr.org/points/20754\",\"id\":20754,\"needsModeration\":False,\"quoteDoc\":\"Amazon Privacy Notice\",\"quoteText\":\"Examples include fulfilling orders for products or services, delivering packages, sending postal mail and email, removing repetitive information from customer lists, analyzing data, providing marketing assistance, providing search results and links (including paid listings and links), processing payments, transmitting content, scoring, assessing and managing credit risk, and providing customer service.\\nThese third-party service providers have access to personal information needed to perform their functions\",\"services\":[\"190\"],\"set\":\"set+service+and+topic\",\"slug\":None,\"title\":\"Your personal data may be used for marketing purposes\",\"topics\":[],\"tosdr\":{\"binding\":True,\"case\":\"Your personal data may be used for marketing purposes\",\"point\":\"bad\",\"score\":50,\"tldr\":\"Generated through the annotate view\"}},\"20755\":{\"discussion\":\"https://edit.tosdr.org/points/20755\",\"id\":20755,\"needsModeration\":False,\"quoteDoc\":\"Amazon Privacy Notice\",\"quoteText\":\"</p> What Personal Information About Customers Does Amazon Collect? \",\"services\":[\"190\"],\"set\":\"set+service+and+topic\",\"slug\":None,\"title\":\"Details are provided about what kind of information they collect\",\"topics\":[],\"tosdr\":{\"binding\":True,\"case\":\"Details are provided about what kind of information they collect\",\"point\":\"good\",\"score\":30,\"tldr\":\"Generated through the annotate view\"}},\"20756\":{\"discussion\":\"https://edit.tosdr.org/points/20756\",\"id\":20756,\"needsModeration\":False,\"quoteDoc\":\"Amazon Privacy Notice\",\"quoteText\":\"Use of Third-Party Advertising Services:</strong> We provide ad companies with information that allows them to serve you with more useful and relevant Amazon ads and to measure their effectiveness.\\nWe never share your name or other information that directly identifies you when we do this.\\nInstead, we use an advertising identifier like a cookie or other device identifier.\\n\",\"services\":[\"190\"],\"set\":\"set+service+and+topic\",\"slug\":None,\"title\":\"Third-party cookies are used for advertising\",\"topics\":[],\"tosdr\":{\"binding\":True,\"case\":\"Third-party cookies are used for advertising\",\"point\":\"bad\",\"score\":70,\"tldr\":\"Generated through the annotate view\"}},\"20757\":{\"discussion\":\"https://edit.tosdr.org/points/20757\",\"id\":20757,\"needsModeration\":False,\"quoteDoc\":\"Amazon Prime Terms\",\"quoteText\":\"<p>IN ADDITION TO OTHER LIMITATIONS AND EXCLUSIONS IN AMAZON.COM'S CONDITIONS OF USE, OUR TOTAL LIABILITY, WHETHER IN CONTRACT, WARRANTY, TORT (INCLUDING NEGLIGENCE) OR OTHERWISE, WILL NOT EXCEED THE LAST MEMBERSHIP FEE YOU PAID.\",\"services\":[\"190\"],\"set\":\"set+service+and+topic\",\"slug\":None,\"title\":\"Any liability on behalf of the service is only limited to the fees you paid as a user\",\"topics\":[],\"tosdr\":{\"binding\":True,\"case\":\"Any liability on behalf of the service is only limited to the fees you paid as a user\",\"point\":\"bad\",\"score\":10,\"tldr\":\"Generated through the annotate view\"}},\"20758\":{\"discussion\":\"https://edit.tosdr.org/points/20758\",\"id\":20758,\"needsModeration\":False,\"quoteDoc\":\"Amazon Privacy Notice\",\"quoteText\":\"\\nIf you do not want to receive email or other communications from us, please adjust your Customer Communication Preferences\",\"services\":[\"190\"],\"set\":\"set+service+and+topic\",\"slug\":None,\"title\":\"You can opt out of promotional communications\",\"topics\":[],\"tosdr\":{\"binding\":True,\"case\":\"You can opt out of promotional communications\",\"point\":\"good\",\"score\":10,\"tldr\":\"Generated through the annotate view\"}}},\"urls\":[\"amazon.com\",\"amazon.com.au\",\"amazon.de\",\"amazon.co.uk\",\"amazon.nl\",\"amazon.pl\",\"amazon.sa\",\"amazon.sg\",\"amazon.se\",\"amazon.com.tr\",\"amazon.ae\",\"amazon.co.jp\",\"amazon.es\",\"amazon.in\",\"amazon.ca\",\"amazon.fr\",\"amazon.it\",\"amazon.com.br\",\"amazon.cn\",\"amazon.com.mx\"]}"
      ],
      "execution_count": null,
      "outputs": []
    },
    {
      "cell_type": "code",
      "metadata": {
        "colab": {
          "base_uri": "https://localhost:8080/"
        },
        "id": "V-yDedo7GCye",
        "outputId": "d8cdbe0c-33a6-4b16-d77d-916f56564eb8"
      },
      "source": [
        "\n",
        "for i in b[\"pointsData\"].keys():\n",
        "    print(i,b[\"pointsData\"][i][\"quoteDoc\"])"
      ],
      "execution_count": null,
      "outputs": [
        {
          "output_type": "stream",
          "text": [
            "622 Conditions of Use\n",
            "645 Amazon Privacy Notice\n",
            "706 Conditions of Use\n",
            "793 Amazon Privacy Notice\n",
            "1122 Interest-Based Ads\n",
            "1370 Conditions of Use\n",
            "1582 Amazon Privacy Notice\n",
            "5922 Conditions of Use\n",
            "5923 Conditions of Use\n",
            "5925 Conditions of Use\n",
            "5926 Conditions of Use\n",
            "5929 EU-US and Swiss-US Privacy Shield\n",
            "5930 Amazon Maps Terms of Use\n",
            "10790 Conditions of Use\n",
            "10791 Conditions of Use\n",
            "10792 Conditions of Use\n",
            "14306 Amazon Music Terms of Use\n",
            "20752 Amazon Privacy Notice\n",
            "20753 Amazon Privacy Notice\n",
            "20754 Amazon Privacy Notice\n",
            "20755 Amazon Privacy Notice\n",
            "20756 Amazon Privacy Notice\n",
            "20757 Amazon Prime Terms\n",
            "20758 Amazon Privacy Notice\n"
          ],
          "name": "stdout"
        }
      ]
    },
    {
      "cell_type": "code",
      "metadata": {
        "id": "czpnUAwS5_8U",
        "outputId": "01596db9-e296-4cce-cabb-aa0fffb18534"
      },
      "source": [
        "sum = 0\n",
        "avg = 0\n",
        "total =0\n",
        "print(a[\"name\"], \"class:\", a[\"class\"])\n",
        "for i in a[\"pointsData\"].keys():\n",
        "    print(i,a[\"pointsData\"][i][\"tosdr\"]['score'])\n",
        "    sum = sum + a[\"pointsData\"][i][\"tosdr\"]['score']\n",
        "    total += 1\n",
        "print(\"sum:\",sum)\n",
        "avg = sum/total\n",
        "print(\"avg:\",avg)"
      ],
      "execution_count": null,
      "outputs": [
        {
          "output_type": "stream",
          "text": [
            "Amazon class: E\n",
            "622 50\n",
            "645 50\n",
            "706 40\n",
            "793 60\n",
            "1122 30\n",
            "1370 10\n",
            "1582 35\n",
            "5922 20\n",
            "5923 50\n",
            "5925 0\n",
            "5926 70\n",
            "5929 35\n",
            "5930 60\n",
            "10790 10\n",
            "10791 25\n",
            "10792 30\n",
            "14306 50\n",
            "20752 50\n",
            "20753 0\n",
            "20754 50\n",
            "20755 30\n",
            "20756 70\n",
            "20757 10\n",
            "20758 10\n",
            "sum: 845\n",
            "avg: 35.208333333333336\n"
          ],
          "name": "stdout"
        }
      ]
    },
    {
      "cell_type": "code",
      "metadata": {
        "id": "82A9f-_Q5_8W"
      },
      "source": [
        "c = {\"id\":185,\"name\":\"Netflix\",\"slug\":\"netflix\",\"image\":\"https://s3.tosdr.org/logos/185.png\",\"class\":\"C\",\"links\":{\"Terms of Use\":{\"name\":\"Terms of Use\",\"url\":\"https://help.netflix.com/legal/termsofuse\"},\"Privacy Statement\":{\"name\":\"Privacy Statement\",\"url\":\"https://help.netflix.com/legal/privacy\"}},\"points\":[12995,13000,13643,12998,13629,13006,13634,13640,13004,13002,13003,11355,11354,1051,13639,13631,12996,13005,13637,13635,14311,13649,13633,13630,13632,757,13642,1348,13009,13641,13648,13627,13007,13636,13628,13644,716,639,13638,13626,13650,13645,12997,14310,13647,10682,20835,13008,20837,12999,11356,20836,13001],\"pointsData\":{\"639\":{\"discussion\":\"https://edit.tosdr.org/points/639\",\"id\":639,\"needsModeration\":False,\"quoteDoc\":None,\"quoteText\":None,\"services\":[\"185\"],\"set\":\"set+service+and+topic\",\"slug\":None,\"title\":\"Terms and privacy policy pages are organized and formatted well.\",\"topics\":[],\"tosdr\":{\"binding\":True,\"case\":\"The terms for this service are easy to read\",\"point\":\"good\",\"score\":15,\"tldr\":\"Index at the top with links to #anchors down the page. The pages are long, but the index helps alleviate that a lot.\"}},\"716\":{\"discussion\":\"https://edit.tosdr.org/points/716\",\"id\":716,\"needsModeration\":False,\"quoteDoc\":\"Terms of Use\",\"quoteText\":\"You can cancel your Netflix membership at any time, and you will continue to have access to the Netflix service through the end of your billing period.\",\"services\":[\"185\"],\"set\":\"set+service+and+topic\",\"slug\":None,\"title\":\"You have the right to leave this service at any time\",\"topics\":[],\"tosdr\":{\"binding\":True,\"case\":\"You have the right to leave this service at any time\",\"point\":\"good\",\"score\":15,\"tldr\":\"You may cancel your Netflix membership at any time. WE DO NOT PROVIDE REFUNDS OR CREDITS FOR ANY PARTIAL-MONTH MEMBERSHIP PERIODS OR UNWATCHED MOVIES OR TV SHOWS.\"}},\"757\":{\"discussion\":\"https://edit.tosdr.org/points/757\",\"id\":757,\"needsModeration\":False,\"quoteDoc\":\"Privacy Statement\",\"quoteText\":\"You can request access to your personal information, or correct or update out-of-date or inaccurate personal information we hold about you.\",\"services\":[\"185\"],\"set\":\"set+service+and+topic\",\"slug\":None,\"title\":\"Users can request access and deletion of personal info.\",\"topics\":[],\"tosdr\":{\"binding\":True,\"case\":\"You can request access, correction and/or deletion of your data\",\"point\":\"good\",\"score\":50,\"tldr\":\"With respect to your personal information, you can request access and that we correct or delete this personal information by emailing your request to pri...@netflix.com.\"}},\"1051\":{\"discussion\":\"https://edit.tosdr.org/points/1051\",\"id\":1051,\"needsModeration\":False,\"quoteDoc\":\"Privacy Statement\",\"quoteText\":\"We disclose your information for certain purposes and to third parties, as described below\",\"services\":[\"185\"],\"set\":\"set+service+and+topic\",\"slug\":None,\"title\":\"Netflix reserve the right to disclose personal info, no notification.\",\"topics\":[],\"tosdr\":{\"binding\":True,\"case\":\"This service reserves the right to disclose your personal information without notifying you\",\"point\":\"bad\",\"score\":50,\"tldr\":\"Netflix also reserves the right to disclose personal information if we reasonably believe that access, use, preservation or disclosure of such information is reasonably necessary to (a) satisfy any applicable law, regulation, legal process, or enforceable governmental request, (b) enforce applicable terms of use, including investigation of potential violations thereof, (c) detect, prevent, or otherwise address illegal or suspected illegal activities, security or technical issues, or (d) protect against harm to the rights, property or safety of Netflix, its users or the public as required or permitted by law. In connection with any reorganization, restructuring, merger or sale, or other transferring of assets we reserve the right to transfer information, including personal information, provided that the receiving party agrees to respect your personal information in a manner that is consistent with our privacy policy.\"}},\"1348\":{\"discussion\":\"https://edit.tosdr.org/points/1348\",\"id\":1348,\"needsModeration\":False,\"quoteDoc\":\"Privacy Statement\",\"quoteText\":\"In connection with any reorganization, restructuring, merger or sale, or other transfer of assets, we will transfer information, including personal information, provided that the receiving party agrees to respect your personal information in a manner that is consistent with our Privacy Statement.\\n</p>\\n</li\",\"services\":[\"185\"],\"set\":\"set+service+and+topic\",\"slug\":None,\"title\":\"Promises will be kept after a merger or acquisition\",\"topics\":[],\"tosdr\":{\"binding\":True,\"case\":\"Promises will be kept after a merger or acquisition\",\"point\":\"good\",\"score\":50,\"tldr\":\"Your information can be transferred to a new company, but only if it complies with Netflix's Privacy Policy.\"}},\"10682\":{\"discussion\":\"https://edit.tosdr.org/points/10682\",\"id\":10682,\"needsModeration\":False,\"quoteDoc\":\"Terms of Use\",\"quoteText\":\"\\nuse any robot, spider, scraper or other automated means to access the Netflix service.\",\"services\":[\"185\"],\"set\":\"set+service+and+topic\",\"slug\":None,\"title\":\"Spidering or crawling is not allowed\",\"topics\":[],\"tosdr\":{\"binding\":True,\"case\":\"Spidering, crawling, or accessing the site through any automated means is not allowed\",\"point\":\"neutral\",\"score\":20,\"tldr\":\"Generated through the annotate view\"}},\"11354\":{\"discussion\":\"https://edit.tosdr.org/points/11354\",\"id\":11354,\"needsModeration\":False,\"quoteDoc\":\"Privacy Statement\",\"quoteText\":\"The Netflix service may be provided through and/or utilize features (such as voice controls) operated by third party platforms, or contain links to sites operated by third parties whose policies regarding the handling of information may differ from ours.\",\"services\":[\"185\"],\"set\":\"set+service+and+topic\",\"slug\":None,\"title\":\"Many third parties are involved in operating the service\",\"topics\":[],\"tosdr\":{\"binding\":True,\"case\":\"Many third parties are involved in operating the service\",\"point\":\"bad\",\"score\":50,\"tldr\":\"Generated through the annotate view\"}},\"11355\":{\"discussion\":\"https://edit.tosdr.org/points/11355\",\"id\":11355,\"needsModeration\":False,\"quoteDoc\":\"Privacy Statement\",\"quoteText\":\"We and our Service Providers use cookies and other technologies (such as web beacons)\",\"services\":[\"185\"],\"set\":\"set+service+and+topic\",\"slug\":None,\"title\":\"The service may use tracking pixels, web beacons, browser fingerprinting, and/or device fingerprinting on users.\",\"topics\":[],\"tosdr\":{\"binding\":True,\"case\":\"You are tracked via web beacons, tracking pixels, browser fingerprinting, and/or device fingerprinting\",\"point\":\"bad\",\"score\":50,\"tldr\":\"Generated through the annotate view\"}},\"11356\":{\"discussion\":\"https://edit.tosdr.org/points/11356\",\"id\":11356,\"needsModeration\":False,\"quoteDoc\":\"Terms of Use\",\"quoteText\":\"These Terms of Use shall be governed by and consTrued in accordance with the laws of the Netherlands.\",\"services\":[\"185\"],\"set\":\"set+service+and+topic\",\"slug\":None,\"title\":\"The court of law governing the terms is in location Netherlands\",\"topics\":[],\"tosdr\":{\"binding\":True,\"case\":\"The court of law governing the terms is in location X\",\"point\":\"neutral\",\"score\":0,\"tldr\":\"Generated through the annotate view\"}},\"12995\":{\"discussion\":\"https://edit.tosdr.org/points/12995\",\"id\":12995,\"needsModeration\":False,\"quoteDoc\":\"Privacy Statement\",\"quoteText\":\"If you use the Netflix app on a mobile device, tablet, or streaming media device, we may collect a resettable device identifier from your device.\\nResettable device identifiers (also known as advertising identifiers) are similar to cookies and are found on many mobile devices and tablets (for example, the \\\"Identifier for Advertisers\\\" (or IDFA) on Apple iOS devices and the \\\"Google Advertising ID\\\" on Android devices), and certain streaming media devices.\",\"services\":[\"185\"],\"set\":\"set+service+and+topic\",\"slug\":None,\"title\":\"App required for this service requires broad device permissions\",\"topics\":[],\"tosdr\":{\"binding\":True,\"case\":\"App required for this service requires broad device permissions\",\"point\":\"bad\",\"score\":80,\"tldr\":\"Generated through the annotate view\"}},\"12996\":{\"discussion\":\"https://edit.tosdr.org/points/12996\",\"id\":12996,\"needsModeration\":False,\"quoteDoc\":\"Privacy Statement\",\"quoteText\":\"We use these types of technologies for various reasons, like making it easy to access our services by remembering you when you return.\\nto provide, analyze, understand and enhance the use of our services.\\nto enforce our terms, prevent fraud.\\nto improve site performance, monitor visitor traffic and actions on our site.\\nand to deliver and tailor our marketing or advertising, and to understand interactions with our emails, marketing, and online ads on third party sites.\",\"services\":[\"185\"],\"set\":\"set+service+and+topic\",\"slug\":None,\"title\":\"This service uses your personal information for many different purposes\",\"topics\":[],\"tosdr\":{\"binding\":True,\"case\":\"Your personal information is used for many different purposes\",\"point\":\"bad\",\"score\":40,\"tldr\":\"Generated through the annotate view\"}},\"12997\":{\"discussion\":\"https://edit.tosdr.org/points/12997\",\"id\":12997,\"needsModeration\":False,\"quoteDoc\":\"Privacy Statement\",\"quoteText\":\"These cookies are strictly necessary to provide our website or online service.\\n\",\"services\":[\"185\"],\"set\":\"set+service+and+topic\",\"slug\":None,\"title\":\"Blocking first party cookies may limit your ability to use the service\",\"topics\":[],\"tosdr\":{\"binding\":True,\"case\":\"Blocking first party cookies may limit your ability to use the service\",\"point\":\"neutral\",\"score\":50,\"tldr\":\"Generated through the annotate view\"}},\"12998\":{\"discussion\":\"https://edit.tosdr.org/points/12998\",\"id\":12998,\"needsModeration\":False,\"quoteDoc\":\"Privacy Statement\",\"quoteText\":\"\\n<strong>Advertising cookies and resettable device identifiers:</strong> These cookies and resettable device identifiers use information about your use of this and other websites and apps, your response to ads and emails, and to deliver ads that are more relevant to you and for analytics and optimization purposes.\\nThese types of ads are called \\\"interest-based advertising.\\\" The advertising cookies associated with our service belong to our Service Providers.\",\"services\":[\"185\"],\"set\":\"set+service+and+topic\",\"slug\":None,\"title\":\"Tracking via third-party cookies for other purposes without your consent.\",\"topics\":[],\"tosdr\":{\"binding\":True,\"case\":\"Third-party cookies are used for advertising\",\"point\":\"bad\",\"score\":70,\"tldr\":\"Generated through the annotate view\"}},\"12999\":{\"discussion\":\"https://edit.tosdr.org/points/12999\",\"id\":12999,\"needsModeration\":False,\"quoteDoc\":\"Privacy Statement\",\"quoteText\":\"For example, we and our Service Providers may use these cookies to authenticate and identify our members when they use our websites and applications so we can provide our service to them.\",\"services\":[\"185\"],\"set\":\"set+service+and+topic\",\"slug\":None,\"title\":\"This service requires first-party cookies\",\"topics\":[],\"tosdr\":{\"binding\":True,\"case\":\"First-party cookies are used\",\"point\":\"neutral\",\"score\":10,\"tldr\":\"Generated through the annotate view\"}},\"13000\":{\"discussion\":\"https://edit.tosdr.org/points/13000\",\"id\":13000,\"needsModeration\":False,\"quoteDoc\":\"Privacy Statement\",\"quoteText\":\"service providers that help us determine a location based on your IP address in order to customize our service and for other uses consistent with this Privacy Statement.\",\"services\":[\"185\"],\"set\":\"set+service+and+topic\",\"slug\":None,\"title\":\"This service may collect, use, and share location data\",\"topics\":[],\"tosdr\":{\"binding\":True,\"case\":\"This service may collect, use, and share location data\",\"point\":\"bad\",\"score\":75,\"tldr\":\"Generated through the annotate view\"}},\"13001\":{\"discussion\":\"https://edit.tosdr.org/points/13001\",\"id\":13001,\"needsModeration\":False,\"quoteDoc\":\"Privacy Statement\",\"quoteText\":\" IP address (which may tell us your general location)\",\"services\":[\"185\"],\"set\":\"set+service+and+topic\",\"slug\":None,\"title\":\"This service collects your IP address, which can be used to view your approximate location\",\"topics\":[],\"tosdr\":{\"binding\":True,\"case\":\"Your IP address is collected, which can be used to view your approximate location\",\"point\":\"neutral\",\"score\":0,\"tldr\":\"\\\"We collect information about you and your use of our service,[...] This information includes: [...] IP address (which may tell us your general location),\\\"\"}},\"13002\":{\"discussion\":\"https://edit.tosdr.org/points/13002\",\"id\":13002,\"needsModeration\":False,\"quoteDoc\":\"Privacy Statement\",\"quoteText\":\"referring source (for example, referral URLs),\",\"services\":[\"185\"],\"set\":\"set+service+and+topic\",\"slug\":None,\"title\":\"This service tracks which web page referred you to it\",\"topics\":[],\"tosdr\":{\"binding\":True,\"case\":\"This service tracks which web page referred you to it\",\"point\":\"bad\",\"score\":50,\"tldr\":\"\\\"We collect information about you and your use of our service, [...]This information includes: [...] referring source (for example, referral URLs),\\\"\"}},\"13003\":{\"discussion\":\"https://edit.tosdr.org/points/13003\",\"id\":13003,\"needsModeration\":False,\"quoteDoc\":\"Privacy Statement\",\"quoteText\":\" We collect information from other companies with whom you have a relationship (“Partners”).\\nThese Partners might include (depending on what services you use): your TV or internet service provider, or other streaming media device providers who make our service available on their device.\\n\",\"services\":[\"185\"],\"set\":\"set+service+and+topic\",\"slug\":None,\"title\":\"This service gathers information about you through third parties\",\"topics\":[],\"tosdr\":{\"binding\":True,\"case\":\"Information is gathered about you through third parties\",\"point\":\"bad\",\"score\":50,\"tldr\":\"Generated through the annotate view\"}},\"13004\":{\"discussion\":\"https://edit.tosdr.org/points/13004\",\"id\":13004,\"needsModeration\":False,\"quoteDoc\":\"Privacy Statement\",\"quoteText\":\" <p>We use information to provide, analyze, administer, enhance and personalize our services and marketing efforts,\",\"services\":[\"185\"],\"set\":\"set+service+and+topic\",\"slug\":None,\"title\":\"This service may use your personal information for marketing purposes\",\"topics\":[],\"tosdr\":{\"binding\":True,\"case\":\"Your personal data may be used for marketing purposes\",\"point\":\"bad\",\"score\":50,\"tldr\":\"Generated through the annotate view\"}},\"13005\":{\"discussion\":\"https://edit.tosdr.org/points/13005\",\"id\":13005,\"needsModeration\":False,\"quoteDoc\":\"Privacy Statement\",\"quoteText\":\"\\n<p>In connection with our use of these technologies, some of the websites and apps where we advertise, as well as advertising technology companies that we use to purchase, deliver, optimize, and/or measure our advertisements (collectively “Advertising Partners”), may receive limited information from us as part of our campaign targeting, measurement, and optimization (e.g., steps completed in sign-up and site visit or app open/install information).</p>\\n\",\"services\":[\"185\"],\"set\":\"set+service+and+topic\",\"slug\":None,\"title\":\"The service uses your personal data to employ targeted third-party advertising\",\"topics\":[],\"tosdr\":{\"binding\":True,\"case\":\"Your personal data is used to employ targeted third-party advertising\",\"point\":\"bad\",\"score\":40,\"tldr\":\"Generated through the annotate view\"}},\"13006\":{\"discussion\":\"https://edit.tosdr.org/points/13006\",\"id\":13006,\"needsModeration\":False,\"quoteDoc\":\"Privacy Statement\",\"quoteText\":\"<strong>Promotional offers:</strong> We may offer joint promotions or programs that, in order for your participation, will require us to share your information with third parties.\\nIn fulfilling these types of promotions, we may share your name and other information in connection with fulfilling the incentive.\",\"services\":[\"185\"],\"set\":\"set+service+and+topic\",\"slug\":None,\"title\":\"This service can share your personal information to third parties \",\"topics\":[],\"tosdr\":{\"binding\":True,\"case\":\"This service shares your personal data with third parties that are not essential to its operation\",\"point\":\"bad\",\"score\":70,\"tldr\":\"Generated through the annotate view\"}},\"13007\":{\"discussion\":\"https://edit.tosdr.org/points/13007\",\"id\":13007,\"needsModeration\":False,\"quoteDoc\":\"Privacy Statement\",\"quoteText\":\"</strong> Netflix and its Service Providers may disclose and otherwise use your personal and other information where we or they reasonably believe such disclosure is needed to (a) satisfy any applicable law, regulation, legal process, or governmental request,\",\"services\":[\"185\"],\"set\":\"set+service+and+topic\",\"slug\":None,\"title\":\"The service will only respond to government requests that are reasonable\",\"topics\":[],\"tosdr\":{\"binding\":True,\"case\":\"The service will only respond to government requests that are reasonable\",\"point\":\"good\",\"score\":30,\"tldr\":\"Generated through the annotate view\"}},\"13008\":{\"discussion\":\"https://edit.tosdr.org/points/13008\",\"id\":13008,\"needsModeration\":False,\"quoteDoc\":\"Terms of Use\",\"quoteText\":\"\\nIf any provision or provisions of these Terms of Use shall be held to be invalid, illegal, or unenforceable, the validity, legality and enforceability of the remaining provisions shall remain in full force and effect.\",\"services\":[\"185\"],\"set\":\"set+service+and+topic\",\"slug\":None,\"title\":\"Invalidity of any portion of the Terms of Service does not entail invalidity of its remainder\",\"topics\":[],\"tosdr\":{\"binding\":True,\"case\":\"Invalidity of any portion of the Terms of Service does not entail invalidity of its remainder\",\"point\":\"neutral\",\"score\":10,\"tldr\":\"Generated through the annotate view\"}},\"13009\":{\"discussion\":\"https://edit.tosdr.org/points/13009\",\"id\":13009,\"needsModeration\":False,\"quoteDoc\":\"Terms of Use\",\"quoteText\":\"Changes to Terms of Use.\\nNetflix may, from time to time, change these Terms of Use.\\nWe will notify you at least 30 days before such changes apply to you.\\n\",\"services\":[\"185\"],\"set\":\"set+service+and+topic\",\"slug\":None,\"title\":\"When the service wants to make a material change to its terms, users are notified at least 30 days in advance\",\"topics\":[],\"tosdr\":{\"binding\":True,\"case\":\"When the service wants to make a material change to its terms, you are notified at least 30 days in advance\",\"point\":\"good\",\"score\":40,\"tldr\":\"Generated through the annotate view\"}},\"13626\":{\"discussion\":\"https://edit.tosdr.org/points/13626\",\"id\":13626,\"needsModeration\":False,\"quoteDoc\":\"Privacy Statement\",\"quoteText\":\"<p>If you have general questions about your account or how to contact customer service for assistance, please visit our online help center at help.netflix.com.\",\"services\":[\"185\"],\"set\":\"set+service+and+topic\",\"slug\":None,\"title\":\"The service provides a free help desk\",\"topics\":[],\"tosdr\":{\"binding\":True,\"case\":\"A free help desk is provided\",\"point\":\"good\",\"score\":10,\"tldr\":\"Generated through the annotate view\"}},\"13627\":{\"discussion\":\"https://edit.tosdr.org/points/13627\",\"id\":13627,\"needsModeration\":False,\"quoteDoc\":\"Privacy Statement\",\"quoteText\":\"For questions specifically about this Privacy Statement, or our use of your personal information, cookies or similar technologies, please contact our Data Protection Officer/Privacy Office by email at privacy@netflix.com.\\n</p>\\n<p>The data controller of your personal information is Netflix International B.V.\\nPlease note that if you contact us to assist you, for your safety and ours we may need to authenticate your identity before fulfilling your request.\",\"services\":[\"185\"],\"set\":\"set+service+and+topic\",\"slug\":None,\"title\":\"The service provides a complaint mechanism for the handling of personal data\",\"topics\":[],\"tosdr\":{\"binding\":True,\"case\":\"A complaint mechanism is provided for the handling of personal data\",\"point\":\"good\",\"score\":30,\"tldr\":\"Generated through the annotate view\"}},\"13628\":{\"discussion\":\"https://edit.tosdr.org/points/13628\",\"id\":13628,\"needsModeration\":False,\"quoteDoc\":\"Privacy Statement\",\"quoteText\":\"We receive and store information about you such as:\",\"services\":[\"185\"],\"set\":\"set+service+and+topic\",\"slug\":None,\"title\":\"The service provides details about what kinds of personal information they collect\",\"topics\":[],\"tosdr\":{\"binding\":True,\"case\":\"Details are provided about what kind of information they collect\",\"point\":\"good\",\"score\":30,\"tldr\":\"Generated through the annotate view\"}},\"13629\":{\"discussion\":\"https://edit.tosdr.org/points/13629\",\"id\":13629,\"needsModeration\":False,\"quoteDoc\":\"Privacy Statement\",\"quoteText\":\"Collection of Information\",\"services\":[\"185\"],\"set\":\"set+service+and+topic\",\"slug\":None,\"title\":\"The service collects many different types of personal data\",\"topics\":[],\"tosdr\":{\"binding\":True,\"case\":\"Many different types of personal data are collected\",\"point\":\"bad\",\"score\":70,\"tldr\":\"\\\"[...]Information you provide to us: We collect information you provide to us which includes: your name, email address, address or postal code, payment method(s), and telephone number.[...]\\r\\ninformation when you choose to provide ratings, taste preferences, account settings (including preferences set in the \\\"Account\\\" section of our website), or otherwise provide information to us through our service or elsewhere.\\r\\nInformation we collect automatically[...]\\\"\"}},\"13630\":{\"discussion\":\"https://edit.tosdr.org/points/13630\",\"id\":13630,\"needsModeration\":False,\"quoteDoc\":\"Privacy Statement\",\"quoteText\":\"interact with our customer service,\",\"services\":[\"185\"],\"set\":\"set+service+and+topic\",\"slug\":None,\"title\":\"Tracking pixels are used in service-to-user communication\",\"topics\":[],\"tosdr\":{\"binding\":True,\"case\":\"Tracking pixels are used in service-to-user communication\",\"point\":\"bad\",\"score\":5,\"tldr\":\"Full quote: \\\"Information you provide to us: We collect information you provide to us which includes: your name, email address, address or postal code, payment method(s), and telephone number. In certain countries, we collect a government identification number for purposes such as billing and tax compliance. We collect this information in a number of ways, including when you enter it while using our service, interact with our customer service, or participate in surveys or marketing promotions.\\\"\"}},\"13631\":{\"discussion\":\"https://edit.tosdr.org/points/13631\",\"id\":13631,\"needsModeration\":False,\"quoteDoc\":\"Privacy Statement\",\"quoteText\":\"or participate in surveys or marketing promotions.\",\"services\":[\"185\"],\"set\":\"set+service+and+topic\",\"slug\":None,\"title\":\"The service may collect extra data about you through promotions\",\"topics\":[],\"tosdr\":{\"binding\":True,\"case\":\"Extra data may be collected about you through promotions\",\"point\":\"bad\",\"score\":50,\"tldr\":\"Full quote: \\\"Information you provide to us: We collect information you provide to us which includes: your name, email address, address or postal code, payment method(s), and telephone number. In certain countries, we collect a government identification number for purposes such as billing and tax compliance. We collect this information in a number of ways, including when you enter it while using our service, interact with our customer service, or participate in surveys or marketing promotions.\\\"\"}},\"13632\":{\"discussion\":\"https://edit.tosdr.org/points/13632\",\"id\":13632,\"needsModeration\":False,\"quoteDoc\":\"Privacy Statement\",\"quoteText\":\"We collect this information in a number of ways, including\",\"services\":[\"185\"],\"set\":\"set+service+and+topic\",\"slug\":None,\"title\":\"The service provides information about how they collect personal data\",\"topics\":[],\"tosdr\":{\"binding\":True,\"case\":\"Information is provided about how they collect personal data\",\"point\":\"good\",\"score\":50,\"tldr\":\"Generated through the annotate view\"}},\"13633\":{\"discussion\":\"https://edit.tosdr.org/points/13633\",\"id\":13633,\"needsModeration\":False,\"quoteDoc\":\"Privacy Statement\",\"quoteText\":\"<p>online and offline data providers, from which we obtain aggregated demographic, interest based and online advertising related data.\",\"services\":[\"185\"],\"set\":\"set+service+and+topic\",\"slug\":None,\"title\":\"This service uses third-party cookies for statistics\",\"topics\":[],\"tosdr\":{\"binding\":True,\"case\":\"Third-party cookies are used for statistics\",\"point\":\"bad\",\"score\":10,\"tldr\":\"Generated through the annotate view\"}},\"13634\":{\"discussion\":\"https://edit.tosdr.org/points/13634\",\"id\":13634,\"needsModeration\":False,\"quoteDoc\":\"Privacy Statement\",\"quoteText\":\"publicly-available sources such as publicly available posts on social media platforms and information available through public databases associating IP addresses with internet service providers (ISPs).</p>\",\"services\":[\"185\"],\"set\":\"set+service+and+topic\",\"slug\":None,\"title\":\"This service tracks you on social media and public databases.\",\"topics\":[],\"tosdr\":{\"binding\":True,\"case\":\"This service tracks you on other websites\",\"point\":\"bad\",\"score\":60,\"tldr\":\"\\\"These sources vary over time, but could include: [...] publicly-available sources such as publicly available posts on social media platforms and information available through public databases associating IP addresses with internet service providers (ISPs).\\\"\"}},\"13635\":{\"discussion\":\"https://edit.tosdr.org/points/13635\",\"id\":13635,\"needsModeration\":False,\"quoteDoc\":\"Privacy Statement\",\"quoteText\":\"For example, we use such information to: </p>\\n<ul>\\n<li>\\n<p>determine your general geographic location, provide localized content, provide you with customized and personalized viewing recommendations for movies and TV shows we think will be of interest to you,\",\"services\":[\"185\"],\"set\":\"set+service+and+topic\",\"slug\":None,\"title\":\"The service uses your personal data for advertising\",\"topics\":[],\"tosdr\":{\"binding\":True,\"case\":\"Your personal data is used for advertising\",\"point\":\"bad\",\"score\":30,\"tldr\":\"Generated through the annotate view\"}},\"13636\":{\"discussion\":\"https://edit.tosdr.org/points/13636\",\"id\":13636,\"needsModeration\":False,\"quoteDoc\":\"Privacy Statement\",\"quoteText\":\"Use of Information\",\"services\":[\"185\"],\"set\":\"set+service+and+topic\",\"slug\":None,\"title\":\"The service provides information about how they intend to use your personal data\",\"topics\":[],\"tosdr\":{\"binding\":True,\"case\":\"Information is provided about how your personal data is used\",\"point\":\"good\",\"score\":30,\"tldr\":\"Generated through the annotate view\"}},\"13637\":{\"discussion\":\"https://edit.tosdr.org/points/13637\",\"id\":13637,\"needsModeration\":False,\"quoteDoc\":\"Privacy Statement\",\"quoteText\":\"details of your interactions with our customer service, such as the date, time and reason for contacting us, transcripts of any chat conversations, and if you call us, your phone number and call recordings.\",\"services\":[\"185\"],\"set\":\"set+service+and+topic\",\"slug\":None,\"title\":\"Your biometric data is collected\",\"topics\":[],\"tosdr\":{\"binding\":True,\"case\":\"Your biometric data is collected\",\"point\":\"bad\",\"score\":30,\"tldr\":\"Generated through the annotate view\"}},\"13638\":{\"discussion\":\"https://edit.tosdr.org/points/13638\",\"id\":13638,\"needsModeration\":False,\"quoteDoc\":\"Privacy Statement\",\"quoteText\":\"If you no longer want to receive certain communications from us via email or text message, simply access the \\\"Communications Settings\\\" option in the \\\"Account\\\" section of our website and uncheck those items to unsubscribe.\\nAlternatively, click the \\\"unsubscribe\\\" link in the email or reply STOP (or as otherwise instructed) to the text message.\\nPlease note that you cannot unsubscribe from service-related correspondence from us, such as messages relating to your account transactions.\",\"services\":[\"185\"],\"set\":\"set+service+and+topic\",\"slug\":None,\"title\":\"You can opt out of promotional communications\",\"topics\":[],\"tosdr\":{\"binding\":True,\"case\":\"You can opt out of promotional communications\",\"point\":\"good\",\"score\":10,\"tldr\":\"Generated through the annotate view\"}},\"13639\":{\"discussion\":\"https://edit.tosdr.org/points/13639\",\"id\":13639,\"needsModeration\":False,\"quoteDoc\":\"Privacy Statement\",\"quoteText\":\"<p>social plugins and similar technologies allow you to share information.\\n</p>\\n</li>\\n</ul>\\n<p>Social plugins and social applications are operated by the social networks themselves, and are subject to their terms of use and privacy policies.\",\"services\":[\"185\"],\"set\":\"set+service+and+topic\",\"slug\":None,\"title\":\"The service uses social media cookies/pixels\",\"topics\":[],\"tosdr\":{\"binding\":True,\"case\":\" You are being tracked via social media cookies/pixels\",\"point\":\"bad\",\"score\":50,\"tldr\":\"Generated through the annotate view\"}},\"13640\":{\"discussion\":\"https://edit.tosdr.org/points/13640\",\"id\":13640,\"needsModeration\":False,\"quoteDoc\":\"Privacy Statement\",\"quoteText\":\"At this time, we do not respond to web browser \\\"do not track\\\" signals.\",\"services\":[\"185\"],\"set\":\"set+service+and+topic\",\"slug\":None,\"title\":\"This service ignores the Do Not Track (DNT) header and tracks users anyway even if they set this header.\",\"topics\":[],\"tosdr\":{\"binding\":True,\"case\":\"Do Not Track (DNT) headers are ignored and you are tracked anyway even if you set this header.\",\"point\":\"bad\",\"score\":60,\"tldr\":\"Generated through the annotate view\"}},\"13641\":{\"discussion\":\"https://edit.tosdr.org/points/13641\",\"id\":13641,\"needsModeration\":False,\"quoteDoc\":\"Privacy Statement\",\"quoteText\":\"<p>If you are the account owner, to download a copy of your personal information go to: www.netflix.com/account/getmyinfo (you must be signed in to access the \\\"Account\\\" section), and follow the instructions.\",\"services\":[\"185\"],\"set\":\"set+service+and+topic\",\"slug\":None,\"title\":\"This service allows you to retrieve an archive of your data\",\"topics\":[],\"tosdr\":{\"binding\":True,\"case\":\"You can retrieve an archive of your data\",\"point\":\"good\",\"score\":40,\"tldr\":\"Generated through the annotate view\"}},\"13642\":{\"discussion\":\"https://edit.tosdr.org/points/13642\",\"id\":13642,\"needsModeration\":False,\"quoteDoc\":\"Privacy Statement\",\"quoteText\":\"You can object to processing of your personal information, ask us to restrict processing of your personal information or request portability of your personal information.\\nif we have collected and process your personal information with your consent, then you can withdraw your consent at any time.\\nwithdrawing your consent will not affect the lawfulness of any processing we conducted prior to your withdrawal, nor will it affect processing of your personal information conducted in reliance on lawful processing grounds other than consent.\\nyou have the right to complain to a data protection authority about our collection and use of your personal information.\",\"services\":[\"185\"],\"set\":\"set+service+and+topic\",\"slug\":None,\"title\":\"You can limit how your information is used by third-parties and the service\",\"topics\":[],\"tosdr\":{\"binding\":True,\"case\":\"You can limit how your information is used by third-parties and the service\",\"point\":\"good\",\"score\":50,\"tldr\":\"Generated through the annotate view\"}},\"13643\":{\"discussion\":\"https://edit.tosdr.org/points/13643\",\"id\":13643,\"needsModeration\":False,\"quoteDoc\":\"Privacy Statement\",\"quoteText\":\"We may retain information as required or permitted by applicable laws and regulations, including to honor your choices, for our billing or records purposes and to fulfill the purposes described in this Privacy Statement.\\nWe take reasonable measures to destroy or de-identify personal information in a secure manner when it is no longer required.\",\"services\":[\"185\"],\"set\":\"set+service+and+topic\",\"slug\":None,\"title\":\"This service may keep personal data after a request for erasure for business interests or legal obligations\",\"topics\":[],\"tosdr\":{\"binding\":True,\"case\":\"Some personal data may be kept after the end of the data retention period or a request for erasure\",\"point\":\"bad\",\"score\":70,\"tldr\":\"Generated through the annotate view\"}},\"13644\":{\"discussion\":\"https://edit.tosdr.org/points/13644\",\"id\":13644,\"needsModeration\":False,\"quoteDoc\":\"Privacy Statement\",\"quoteText\":\"To opt out of interest-based ads from Netflix in connection with a resettable device identifier on a mobile device, tablet, or streaming media devices, please configure the appropriate setting on your device (usually found under \\\"privacy\\\" or \\\"ads\\\" in your device's settings).\\nYou may still see Netflix ads on your device, but they will not be tailored to your likely interests.\",\"services\":[\"185\"],\"set\":\"set+service+and+topic\",\"slug\":None,\"title\":\"You can opt out of targeted advertising\",\"topics\":[],\"tosdr\":{\"binding\":True,\"case\":\"You can opt out of targeted advertising\",\"point\":\"good\",\"score\":25,\"tldr\":\"Generated through the annotate view\"}},\"13645\":{\"discussion\":\"https://edit.tosdr.org/points/13645\",\"id\":13645,\"needsModeration\":False,\"quoteDoc\":\"Terms of Use\",\"quoteText\":\"You authorize us to charge any Payment Method associated to your account in case your primary Payment Method is declined or no longer available to us for payment of your subscription fee.\\n\",\"services\":[\"185\"],\"set\":\"set+service+and+topic\",\"slug\":None,\"title\":\"You authorise the service to charge a credit card supplied on re-occurring basis\",\"topics\":[],\"tosdr\":{\"binding\":True,\"case\":\"You authorise the service to charge a credit card supplied on re-occurring basis\",\"point\":\"neutral\",\"score\":50,\"tldr\":\"Generated through the annotate view\"}},\"13647\":{\"discussion\":\"https://edit.tosdr.org/points/13647\",\"id\":13647,\"needsModeration\":False,\"quoteDoc\":\"Terms of Use\",\"quoteText\":\"The Netflix service and any content viewed through the service are for your personal and non-commercial use only and may not be shared with individuals beyond your household.\",\"services\":[\"185\"],\"set\":\"set+service+and+topic\",\"slug\":None,\"title\":\"This service is only available for use individually and non-commercially.\",\"topics\":[],\"tosdr\":{\"binding\":True,\"case\":\"This service is only available for use individually and non-commercially.\",\"point\":\"neutral\",\"score\":25,\"tldr\":\"Generated through the annotate view\"}},\"13648\":{\"discussion\":\"https://edit.tosdr.org/points/13648\",\"id\":13648,\"needsModeration\":False,\"quoteDoc\":\"Terms of Use\",\"quoteText\":\"To maintain control over the account and to prevent anyone from accessing the account (which would include information on viewing history for the account), the Account Owner should maintain control over the Netflix ready devices that are used to access the service and not reveal the password or details of the Payment Method associated with the account to anyone.\",\"services\":[\"185\"],\"set\":\"set+service+and+topic\",\"slug\":None,\"title\":\"The service informs users about the risk of publishing personal info online\",\"topics\":[],\"tosdr\":{\"binding\":True,\"case\":\"You are informed about the risk of publishing personal info online\",\"point\":\"good\",\"score\":40,\"tldr\":\"Generated through the annotate view\"}},\"13649\":{\"discussion\":\"https://edit.tosdr.org/points/13649\",\"id\":13649,\"needsModeration\":False,\"quoteDoc\":\"Terms of Use\",\"quoteText\":\"You are responsible for updating and maintaining the accuracy of the information you provide to us relating to your account.\\nWe can terminate your account or place your account on hold in order to protect you, Netflix or our partners from identity theft or other fraudulent activity.\\n\",\"services\":[\"185\"],\"set\":\"set+service+and+topic\",\"slug\":None,\"title\":\"You must provide your legal name, pseudonyms are not allowed\",\"topics\":[],\"tosdr\":{\"binding\":True,\"case\":\"You must provide your legal name, pseudonyms are not allowed\",\"point\":\"bad\",\"score\":20,\"tldr\":\"Generated through the annotate view\"}},\"13650\":{\"discussion\":\"https://edit.tosdr.org/points/13650\",\"id\":13650,\"needsModeration\":False,\"quoteDoc\":\"Terms of Use\",\"quoteText\":\"Last Updated:</strong> December 31, 2019</p>\",\"services\":[\"185\"],\"set\":\"set+service+and+topic\",\"slug\":None,\"title\":\"There is a date of the last update of the agreements\",\"topics\":[],\"tosdr\":{\"binding\":True,\"case\":\"There is a date of the last update of the agreements\",\"point\":\"neutral\",\"score\":50,\"tldr\":\"Generated through the annotate view\"}},\"14310\":{\"discussion\":\"https://edit.tosdr.org/points/14310\",\"id\":14310,\"needsModeration\":False,\"quoteDoc\":\"Terms of Use\",\"quoteText\":\"Payments are non-refundable and we do not provide refunds or credits for any partial - month membership periods or unwatched Netflix content.\",\"services\":[\"185\"],\"set\":\"set+service+and+topic\",\"slug\":None,\"title\":\"The service has a no refund policy\",\"topics\":[],\"tosdr\":{\"binding\":True,\"case\":\"The service has a no refund policy\",\"point\":\"neutral\",\"score\":50,\"tldr\":\"Generated through the annotate view\"}},\"14311\":{\"discussion\":\"https://edit.tosdr.org/points/14311\",\"id\":14311,\"needsModeration\":False,\"quoteDoc\":\"Privacy Statement\",\"quoteText\":\"Whenever in the course of sharing information we transfer personal information to countries outside of the European Economic Area and other regions with comprehensive data protection laws, we will ensure that the information is transferred in accordance with this Privacy Statement and as permitted by the applicable laws on data protection.\",\"services\":[\"185\"],\"set\":\"set+service+and+topic\",\"slug\":None,\"title\":\"Your data may be processed and stored anywhere in the world\",\"topics\":[],\"tosdr\":{\"binding\":True,\"case\":\"Your data may be processed and stored anywhere in the world\",\"point\":\"bad\",\"score\":25,\"tldr\":\"Generated through the annotate view\"}},\"20835\":{\"discussion\":\"https://edit.tosdr.org/points/20835\",\"id\":20835,\"needsModeration\":False,\"quoteDoc\":\"Terms of Use\",\"quoteText\":\"You must be 18 years of age, or the age of majority in your province, territory or country, to become a member of the Netflix service.\",\"services\":[\"185\"],\"set\":\"set+service+and+topic\",\"slug\":None,\"title\":\"This service is only available to users over 18 years old\",\"topics\":[],\"tosdr\":{\"binding\":True,\"case\":\"This service is only available to users over a certain age\",\"point\":\"neutral\",\"score\":15,\"tldr\":\"Generated through the annotate view\"}},\"20836\":{\"discussion\":\"https://edit.tosdr.org/points/20836\",\"id\":20836,\"needsModeration\":False,\"quoteDoc\":\"Terms of Use\",\"quoteText\":\"Minors may only use the service under the supervision of an adult.\",\"services\":[\"185\"],\"set\":\"set+service+and+topic\",\"slug\":None,\"title\":\"Minors must have the authorization of their legal guardians to use the service\",\"topics\":[],\"tosdr\":{\"binding\":True,\"case\":\"Minors must have the authorization of their legal guardians to use the service\",\"point\":\"neutral\",\"score\":0,\"tldr\":\"Generated through the annotate view\"}},\"20837\":{\"discussion\":\"https://edit.tosdr.org/points/20837\",\"id\":20837,\"needsModeration\":False,\"quoteDoc\":\"Terms of Use\",\"quoteText\":\"The member who created the Netflix account and whose Payment Method is charged (the \\\"Account Owner\\\") has access and control over the Netflix account and the Netflix ready devices that are used to access our service and is responsible for any activity that occurs through the Netflix account.\\n\",\"services\":[\"185\"],\"set\":\"set+service+and+topic\",\"slug\":None,\"title\":\"You are responsible for maintaining the security of your account and for the activities on your account\",\"topics\":[],\"tosdr\":{\"binding\":True,\"case\":\"You are responsible for maintaining the security of your account and for the activities on your account\",\"point\":\"neutral\",\"score\":10,\"tldr\":\"Generated through the annotate view\"}}},\"urls\":[\"netflix.com\"]}"
      ],
      "execution_count": null,
      "outputs": []
    },
    {
      "cell_type": "code",
      "metadata": {
        "colab": {
          "base_uri": "https://localhost:8080/"
        },
        "id": "fwtNqgOUGLrx",
        "outputId": "0f3499fa-a733-4e02-8e83-98e453b9bc8b"
      },
      "source": [
        "\n",
        "for i in c[\"pointsData\"].keys():\n",
        "    print(i,c[\"pointsData\"][i][\"quoteDoc\"])"
      ],
      "execution_count": null,
      "outputs": [
        {
          "output_type": "stream",
          "text": [
            "639 None\n",
            "716 Terms of Use\n",
            "757 Privacy Statement\n",
            "1051 Privacy Statement\n",
            "1348 Privacy Statement\n",
            "10682 Terms of Use\n",
            "11354 Privacy Statement\n",
            "11355 Privacy Statement\n",
            "11356 Terms of Use\n",
            "12995 Privacy Statement\n",
            "12996 Privacy Statement\n",
            "12997 Privacy Statement\n",
            "12998 Privacy Statement\n",
            "12999 Privacy Statement\n",
            "13000 Privacy Statement\n",
            "13001 Privacy Statement\n",
            "13002 Privacy Statement\n",
            "13003 Privacy Statement\n",
            "13004 Privacy Statement\n",
            "13005 Privacy Statement\n",
            "13006 Privacy Statement\n",
            "13007 Privacy Statement\n",
            "13008 Terms of Use\n",
            "13009 Terms of Use\n",
            "13626 Privacy Statement\n",
            "13627 Privacy Statement\n",
            "13628 Privacy Statement\n",
            "13629 Privacy Statement\n",
            "13630 Privacy Statement\n",
            "13631 Privacy Statement\n",
            "13632 Privacy Statement\n",
            "13633 Privacy Statement\n",
            "13634 Privacy Statement\n",
            "13635 Privacy Statement\n",
            "13636 Privacy Statement\n",
            "13637 Privacy Statement\n",
            "13638 Privacy Statement\n",
            "13639 Privacy Statement\n",
            "13640 Privacy Statement\n",
            "13641 Privacy Statement\n",
            "13642 Privacy Statement\n",
            "13643 Privacy Statement\n",
            "13644 Privacy Statement\n",
            "13645 Terms of Use\n",
            "13647 Terms of Use\n",
            "13648 Terms of Use\n",
            "13649 Terms of Use\n",
            "13650 Terms of Use\n",
            "14310 Terms of Use\n",
            "14311 Privacy Statement\n",
            "20835 Terms of Use\n",
            "20836 Terms of Use\n",
            "20837 Terms of Use\n"
          ],
          "name": "stdout"
        }
      ]
    },
    {
      "cell_type": "code",
      "metadata": {
        "id": "Ty_FVD9Q5_8X",
        "outputId": "eb023113-f92c-4a86-ad44-d8d3d83dee52"
      },
      "source": [
        "sum = 0\n",
        "avg = 0\n",
        "total =0\n",
        "print(a[\"name\"], \"class:\", a[\"class\"])\n",
        "for i in a[\"pointsData\"].keys():\n",
        "    print(i,a[\"pointsData\"][i][\"tosdr\"]['score'])\n",
        "    sum = sum + a[\"pointsData\"][i][\"tosdr\"]['score']\n",
        "    total += 1\n",
        "print(\"sum:\",sum)\n",
        "avg = sum/total\n",
        "print(\"avg:\",avg)"
      ],
      "execution_count": null,
      "outputs": [
        {
          "output_type": "stream",
          "text": [
            "Netflix class: C\n",
            "639 15\n",
            "716 15\n",
            "757 50\n",
            "1051 50\n",
            "1348 50\n",
            "10682 20\n",
            "11354 50\n",
            "11355 50\n",
            "11356 0\n",
            "12995 80\n",
            "12996 40\n",
            "12997 50\n",
            "12998 70\n",
            "12999 10\n",
            "13000 75\n",
            "13001 0\n",
            "13002 50\n",
            "13003 50\n",
            "13004 50\n",
            "13005 40\n",
            "13006 70\n",
            "13007 30\n",
            "13008 10\n",
            "13009 40\n",
            "13626 10\n",
            "13627 30\n",
            "13628 30\n",
            "13629 70\n",
            "13630 5\n",
            "13631 50\n",
            "13632 50\n",
            "13633 10\n",
            "13634 60\n",
            "13635 30\n",
            "13636 30\n",
            "13637 30\n",
            "13638 10\n",
            "13639 50\n",
            "13640 60\n",
            "13641 40\n",
            "13642 50\n",
            "13643 70\n",
            "13644 25\n",
            "13645 50\n",
            "13647 25\n",
            "13648 40\n",
            "13649 20\n",
            "13650 50\n",
            "14310 50\n",
            "14311 25\n",
            "20835 15\n",
            "20836 0\n",
            "20837 10\n",
            "sum: 1960\n",
            "avg: 36.9811320754717\n"
          ],
          "name": "stdout"
        }
      ]
    },
    {
      "cell_type": "code",
      "metadata": {
        "id": "HYgDSizs5_8Y"
      },
      "source": [
        ""
      ],
      "execution_count": null,
      "outputs": []
    }
  ]
}