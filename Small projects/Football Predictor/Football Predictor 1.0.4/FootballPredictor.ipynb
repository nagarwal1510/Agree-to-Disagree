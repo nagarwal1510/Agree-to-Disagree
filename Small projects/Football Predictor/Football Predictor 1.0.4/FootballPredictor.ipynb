{
 "cells": [
  {
   "cell_type": "code",
   "execution_count": 1,
   "metadata": {
    "id": "dxWsPRF0XeEz"
   },
   "outputs": [],
   "source": [
    "import pandas as pd\n",
    "import numpy as np"
   ]
  },
  {
   "cell_type": "code",
   "execution_count": 2,
   "metadata": {
    "id": "s84XvQEjXhV-"
   },
   "outputs": [],
   "source": [
    "data = pd.read_csv(\"results.csv\")"
   ]
  },
  {
   "cell_type": "code",
   "execution_count": 3,
   "metadata": {
    "colab": {
     "base_uri": "https://localhost:8080/",
     "height": 402
    },
    "id": "sXv3Oew8Xtdz",
    "outputId": "4407465e-cc91-4d1e-9fa5-0a0831dc9b35"
   },
   "outputs": [
    {
     "data": {
      "text/html": [
       "<div>\n",
       "<style scoped>\n",
       "    .dataframe tbody tr th:only-of-type {\n",
       "        vertical-align: middle;\n",
       "    }\n",
       "\n",
       "    .dataframe tbody tr th {\n",
       "        vertical-align: top;\n",
       "    }\n",
       "\n",
       "    .dataframe thead th {\n",
       "        text-align: right;\n",
       "    }\n",
       "</style>\n",
       "<table border=\"1\" class=\"dataframe\">\n",
       "  <thead>\n",
       "    <tr style=\"text-align: right;\">\n",
       "      <th></th>\n",
       "      <th>date</th>\n",
       "      <th>home_team</th>\n",
       "      <th>away_team</th>\n",
       "      <th>home_score</th>\n",
       "      <th>away_score</th>\n",
       "      <th>tournament</th>\n",
       "      <th>city</th>\n",
       "      <th>country</th>\n",
       "      <th>neutral</th>\n",
       "    </tr>\n",
       "  </thead>\n",
       "  <tbody>\n",
       "    <tr>\n",
       "      <th>0</th>\n",
       "      <td>1872-11-30</td>\n",
       "      <td>Scotland</td>\n",
       "      <td>England</td>\n",
       "      <td>0</td>\n",
       "      <td>0</td>\n",
       "      <td>Friendly</td>\n",
       "      <td>Glasgow</td>\n",
       "      <td>Scotland</td>\n",
       "      <td>False</td>\n",
       "    </tr>\n",
       "    <tr>\n",
       "      <th>1</th>\n",
       "      <td>1873-03-08</td>\n",
       "      <td>England</td>\n",
       "      <td>Scotland</td>\n",
       "      <td>4</td>\n",
       "      <td>2</td>\n",
       "      <td>Friendly</td>\n",
       "      <td>London</td>\n",
       "      <td>England</td>\n",
       "      <td>False</td>\n",
       "    </tr>\n",
       "    <tr>\n",
       "      <th>2</th>\n",
       "      <td>1874-03-07</td>\n",
       "      <td>Scotland</td>\n",
       "      <td>England</td>\n",
       "      <td>2</td>\n",
       "      <td>1</td>\n",
       "      <td>Friendly</td>\n",
       "      <td>Glasgow</td>\n",
       "      <td>Scotland</td>\n",
       "      <td>False</td>\n",
       "    </tr>\n",
       "    <tr>\n",
       "      <th>3</th>\n",
       "      <td>1875-03-06</td>\n",
       "      <td>England</td>\n",
       "      <td>Scotland</td>\n",
       "      <td>2</td>\n",
       "      <td>2</td>\n",
       "      <td>Friendly</td>\n",
       "      <td>London</td>\n",
       "      <td>England</td>\n",
       "      <td>False</td>\n",
       "    </tr>\n",
       "    <tr>\n",
       "      <th>4</th>\n",
       "      <td>1876-03-04</td>\n",
       "      <td>Scotland</td>\n",
       "      <td>England</td>\n",
       "      <td>3</td>\n",
       "      <td>0</td>\n",
       "      <td>Friendly</td>\n",
       "      <td>Glasgow</td>\n",
       "      <td>Scotland</td>\n",
       "      <td>False</td>\n",
       "    </tr>\n",
       "    <tr>\n",
       "      <th>...</th>\n",
       "      <td>...</td>\n",
       "      <td>...</td>\n",
       "      <td>...</td>\n",
       "      <td>...</td>\n",
       "      <td>...</td>\n",
       "      <td>...</td>\n",
       "      <td>...</td>\n",
       "      <td>...</td>\n",
       "      <td>...</td>\n",
       "    </tr>\n",
       "    <tr>\n",
       "      <th>42079</th>\n",
       "      <td>2021-03-31</td>\n",
       "      <td>Andorra</td>\n",
       "      <td>Hungary</td>\n",
       "      <td>1</td>\n",
       "      <td>4</td>\n",
       "      <td>FIFA World Cup qualification</td>\n",
       "      <td>Andorra la Vella</td>\n",
       "      <td>Andorra</td>\n",
       "      <td>False</td>\n",
       "    </tr>\n",
       "    <tr>\n",
       "      <th>42080</th>\n",
       "      <td>2021-03-31</td>\n",
       "      <td>San Marino</td>\n",
       "      <td>Albania</td>\n",
       "      <td>0</td>\n",
       "      <td>2</td>\n",
       "      <td>FIFA World Cup qualification</td>\n",
       "      <td>Serravalle</td>\n",
       "      <td>San Marino</td>\n",
       "      <td>False</td>\n",
       "    </tr>\n",
       "    <tr>\n",
       "      <th>42081</th>\n",
       "      <td>2021-03-31</td>\n",
       "      <td>Armenia</td>\n",
       "      <td>Romania</td>\n",
       "      <td>3</td>\n",
       "      <td>2</td>\n",
       "      <td>FIFA World Cup qualification</td>\n",
       "      <td>Yerevan</td>\n",
       "      <td>Armenia</td>\n",
       "      <td>False</td>\n",
       "    </tr>\n",
       "    <tr>\n",
       "      <th>42082</th>\n",
       "      <td>2021-03-31</td>\n",
       "      <td>Germany</td>\n",
       "      <td>North Macedonia</td>\n",
       "      <td>1</td>\n",
       "      <td>2</td>\n",
       "      <td>FIFA World Cup qualification</td>\n",
       "      <td>Duisburg</td>\n",
       "      <td>Germany</td>\n",
       "      <td>False</td>\n",
       "    </tr>\n",
       "    <tr>\n",
       "      <th>42083</th>\n",
       "      <td>2021-03-31</td>\n",
       "      <td>Liechtenstein</td>\n",
       "      <td>Iceland</td>\n",
       "      <td>1</td>\n",
       "      <td>4</td>\n",
       "      <td>FIFA World Cup qualification</td>\n",
       "      <td>Vaduz</td>\n",
       "      <td>Liechtenstein</td>\n",
       "      <td>False</td>\n",
       "    </tr>\n",
       "  </tbody>\n",
       "</table>\n",
       "<p>42084 rows × 9 columns</p>\n",
       "</div>"
      ],
      "text/plain": [
       "             date      home_team        away_team  home_score  away_score  \\\n",
       "0      1872-11-30       Scotland          England           0           0   \n",
       "1      1873-03-08        England         Scotland           4           2   \n",
       "2      1874-03-07       Scotland          England           2           1   \n",
       "3      1875-03-06        England         Scotland           2           2   \n",
       "4      1876-03-04       Scotland          England           3           0   \n",
       "...           ...            ...              ...         ...         ...   \n",
       "42079  2021-03-31        Andorra          Hungary           1           4   \n",
       "42080  2021-03-31     San Marino          Albania           0           2   \n",
       "42081  2021-03-31        Armenia          Romania           3           2   \n",
       "42082  2021-03-31        Germany  North Macedonia           1           2   \n",
       "42083  2021-03-31  Liechtenstein          Iceland           1           4   \n",
       "\n",
       "                         tournament              city        country  neutral  \n",
       "0                          Friendly           Glasgow       Scotland    False  \n",
       "1                          Friendly            London        England    False  \n",
       "2                          Friendly           Glasgow       Scotland    False  \n",
       "3                          Friendly            London        England    False  \n",
       "4                          Friendly           Glasgow       Scotland    False  \n",
       "...                             ...               ...            ...      ...  \n",
       "42079  FIFA World Cup qualification  Andorra la Vella        Andorra    False  \n",
       "42080  FIFA World Cup qualification        Serravalle     San Marino    False  \n",
       "42081  FIFA World Cup qualification           Yerevan        Armenia    False  \n",
       "42082  FIFA World Cup qualification          Duisburg        Germany    False  \n",
       "42083  FIFA World Cup qualification             Vaduz  Liechtenstein    False  \n",
       "\n",
       "[42084 rows x 9 columns]"
      ]
     },
     "execution_count": 3,
     "metadata": {},
     "output_type": "execute_result"
    }
   ],
   "source": [
    "data"
   ]
  },
  {
   "cell_type": "code",
   "execution_count": 4,
   "metadata": {
    "id": "sOrCtdcKYjYZ"
   },
   "outputs": [],
   "source": [
    "x=[]\n",
    "\n",
    "for h,a in data.iterrows():\n",
    "    \n",
    "    if a['home_score'] > a['away_score']:\n",
    "            x.append(1)\n",
    "            \n",
    "    elif a['home_score'] < a['away_score']:\n",
    "            \n",
    "            x.append(0)\n",
    "    else:\n",
    "        x.append(2)   "
   ]
  },
  {
   "cell_type": "code",
   "execution_count": 5,
   "metadata": {
    "id": "Iuxbp1WQZgvm"
   },
   "outputs": [],
   "source": [
    "#x"
   ]
  },
  {
   "cell_type": "code",
   "execution_count": 6,
   "metadata": {
    "colab": {
     "base_uri": "https://localhost:8080/",
     "height": 402
    },
    "id": "5viCjLfiZ6MQ",
    "outputId": "d8340586-b2ab-47d5-f965-991809f16a82"
   },
   "outputs": [
    {
     "data": {
      "text/html": [
       "<div>\n",
       "<style scoped>\n",
       "    .dataframe tbody tr th:only-of-type {\n",
       "        vertical-align: middle;\n",
       "    }\n",
       "\n",
       "    .dataframe tbody tr th {\n",
       "        vertical-align: top;\n",
       "    }\n",
       "\n",
       "    .dataframe thead th {\n",
       "        text-align: right;\n",
       "    }\n",
       "</style>\n",
       "<table border=\"1\" class=\"dataframe\">\n",
       "  <thead>\n",
       "    <tr style=\"text-align: right;\">\n",
       "      <th></th>\n",
       "      <th>result</th>\n",
       "      <th>home_team</th>\n",
       "      <th>away_team</th>\n",
       "      <th>home_score</th>\n",
       "      <th>away_score</th>\n",
       "      <th>tournament</th>\n",
       "      <th>city</th>\n",
       "      <th>country</th>\n",
       "      <th>neutral</th>\n",
       "    </tr>\n",
       "  </thead>\n",
       "  <tbody>\n",
       "    <tr>\n",
       "      <th>0</th>\n",
       "      <td>1872-11-30</td>\n",
       "      <td>Scotland</td>\n",
       "      <td>England</td>\n",
       "      <td>0</td>\n",
       "      <td>0</td>\n",
       "      <td>Friendly</td>\n",
       "      <td>Glasgow</td>\n",
       "      <td>Scotland</td>\n",
       "      <td>False</td>\n",
       "    </tr>\n",
       "    <tr>\n",
       "      <th>1</th>\n",
       "      <td>1873-03-08</td>\n",
       "      <td>England</td>\n",
       "      <td>Scotland</td>\n",
       "      <td>4</td>\n",
       "      <td>2</td>\n",
       "      <td>Friendly</td>\n",
       "      <td>London</td>\n",
       "      <td>England</td>\n",
       "      <td>False</td>\n",
       "    </tr>\n",
       "    <tr>\n",
       "      <th>2</th>\n",
       "      <td>1874-03-07</td>\n",
       "      <td>Scotland</td>\n",
       "      <td>England</td>\n",
       "      <td>2</td>\n",
       "      <td>1</td>\n",
       "      <td>Friendly</td>\n",
       "      <td>Glasgow</td>\n",
       "      <td>Scotland</td>\n",
       "      <td>False</td>\n",
       "    </tr>\n",
       "    <tr>\n",
       "      <th>3</th>\n",
       "      <td>1875-03-06</td>\n",
       "      <td>England</td>\n",
       "      <td>Scotland</td>\n",
       "      <td>2</td>\n",
       "      <td>2</td>\n",
       "      <td>Friendly</td>\n",
       "      <td>London</td>\n",
       "      <td>England</td>\n",
       "      <td>False</td>\n",
       "    </tr>\n",
       "    <tr>\n",
       "      <th>4</th>\n",
       "      <td>1876-03-04</td>\n",
       "      <td>Scotland</td>\n",
       "      <td>England</td>\n",
       "      <td>3</td>\n",
       "      <td>0</td>\n",
       "      <td>Friendly</td>\n",
       "      <td>Glasgow</td>\n",
       "      <td>Scotland</td>\n",
       "      <td>False</td>\n",
       "    </tr>\n",
       "    <tr>\n",
       "      <th>...</th>\n",
       "      <td>...</td>\n",
       "      <td>...</td>\n",
       "      <td>...</td>\n",
       "      <td>...</td>\n",
       "      <td>...</td>\n",
       "      <td>...</td>\n",
       "      <td>...</td>\n",
       "      <td>...</td>\n",
       "      <td>...</td>\n",
       "    </tr>\n",
       "    <tr>\n",
       "      <th>42079</th>\n",
       "      <td>2021-03-31</td>\n",
       "      <td>Andorra</td>\n",
       "      <td>Hungary</td>\n",
       "      <td>1</td>\n",
       "      <td>4</td>\n",
       "      <td>FIFA World Cup qualification</td>\n",
       "      <td>Andorra la Vella</td>\n",
       "      <td>Andorra</td>\n",
       "      <td>False</td>\n",
       "    </tr>\n",
       "    <tr>\n",
       "      <th>42080</th>\n",
       "      <td>2021-03-31</td>\n",
       "      <td>San Marino</td>\n",
       "      <td>Albania</td>\n",
       "      <td>0</td>\n",
       "      <td>2</td>\n",
       "      <td>FIFA World Cup qualification</td>\n",
       "      <td>Serravalle</td>\n",
       "      <td>San Marino</td>\n",
       "      <td>False</td>\n",
       "    </tr>\n",
       "    <tr>\n",
       "      <th>42081</th>\n",
       "      <td>2021-03-31</td>\n",
       "      <td>Armenia</td>\n",
       "      <td>Romania</td>\n",
       "      <td>3</td>\n",
       "      <td>2</td>\n",
       "      <td>FIFA World Cup qualification</td>\n",
       "      <td>Yerevan</td>\n",
       "      <td>Armenia</td>\n",
       "      <td>False</td>\n",
       "    </tr>\n",
       "    <tr>\n",
       "      <th>42082</th>\n",
       "      <td>2021-03-31</td>\n",
       "      <td>Germany</td>\n",
       "      <td>North Macedonia</td>\n",
       "      <td>1</td>\n",
       "      <td>2</td>\n",
       "      <td>FIFA World Cup qualification</td>\n",
       "      <td>Duisburg</td>\n",
       "      <td>Germany</td>\n",
       "      <td>False</td>\n",
       "    </tr>\n",
       "    <tr>\n",
       "      <th>42083</th>\n",
       "      <td>2021-03-31</td>\n",
       "      <td>Liechtenstein</td>\n",
       "      <td>Iceland</td>\n",
       "      <td>1</td>\n",
       "      <td>4</td>\n",
       "      <td>FIFA World Cup qualification</td>\n",
       "      <td>Vaduz</td>\n",
       "      <td>Liechtenstein</td>\n",
       "      <td>False</td>\n",
       "    </tr>\n",
       "  </tbody>\n",
       "</table>\n",
       "<p>42084 rows × 9 columns</p>\n",
       "</div>"
      ],
      "text/plain": [
       "           result      home_team        away_team  home_score  away_score  \\\n",
       "0      1872-11-30       Scotland          England           0           0   \n",
       "1      1873-03-08        England         Scotland           4           2   \n",
       "2      1874-03-07       Scotland          England           2           1   \n",
       "3      1875-03-06        England         Scotland           2           2   \n",
       "4      1876-03-04       Scotland          England           3           0   \n",
       "...           ...            ...              ...         ...         ...   \n",
       "42079  2021-03-31        Andorra          Hungary           1           4   \n",
       "42080  2021-03-31     San Marino          Albania           0           2   \n",
       "42081  2021-03-31        Armenia          Romania           3           2   \n",
       "42082  2021-03-31        Germany  North Macedonia           1           2   \n",
       "42083  2021-03-31  Liechtenstein          Iceland           1           4   \n",
       "\n",
       "                         tournament              city        country  neutral  \n",
       "0                          Friendly           Glasgow       Scotland    False  \n",
       "1                          Friendly            London        England    False  \n",
       "2                          Friendly           Glasgow       Scotland    False  \n",
       "3                          Friendly            London        England    False  \n",
       "4                          Friendly           Glasgow       Scotland    False  \n",
       "...                             ...               ...            ...      ...  \n",
       "42079  FIFA World Cup qualification  Andorra la Vella        Andorra    False  \n",
       "42080  FIFA World Cup qualification        Serravalle     San Marino    False  \n",
       "42081  FIFA World Cup qualification           Yerevan        Armenia    False  \n",
       "42082  FIFA World Cup qualification          Duisburg        Germany    False  \n",
       "42083  FIFA World Cup qualification             Vaduz  Liechtenstein    False  \n",
       "\n",
       "[42084 rows x 9 columns]"
      ]
     },
     "execution_count": 6,
     "metadata": {},
     "output_type": "execute_result"
    }
   ],
   "source": [
    "data=data.rename(columns={'date':'result'})\n",
    "\n",
    "data"
   ]
  },
  {
   "cell_type": "code",
   "execution_count": 7,
   "metadata": {
    "colab": {
     "base_uri": "https://localhost:8080/",
     "height": 777
    },
    "id": "9JI_50FTaHRg",
    "outputId": "b2267647-c174-48aa-92be-fd58fe3c02f2"
   },
   "outputs": [
    {
     "name": "stderr",
     "output_type": "stream",
     "text": [
      "<__array_function__ internals>:5: RuntimeWarning: Converting input from bool to <class 'numpy.uint8'> for compatibility.\n",
      "<__array_function__ internals>:5: RuntimeWarning: Converting input from bool to <class 'numpy.uint8'> for compatibility.\n"
     ]
    },
    {
     "data": {
      "text/plain": [
       "<seaborn.axisgrid.PairGrid at 0x1964ca693d0>"
      ]
     },
     "execution_count": 7,
     "metadata": {},
     "output_type": "execute_result"
    },
    {
     "data": {
      "image/png": "[encoded data removed]",
      "text/plain": [
       "<Figure size 720x720 with 20 Axes>"
      ]
     },
     "metadata": {
      "needs_background": "light"
     },
     "output_type": "display_data"
    }
   ],
   "source": [
    "data['result']=x\n",
    "\n",
    "###For analysis of how data actually is###\n",
    "#Didnt help though lol XD #\n",
    "import seaborn as sns\n",
    "\n",
    "\n",
    "sns.pairplot(data)"
   ]
  },
  {
   "cell_type": "code",
   "execution_count": 8,
   "metadata": {
    "colab": {
     "base_uri": "https://localhost:8080/",
     "height": 402
    },
    "id": "Oa_f6COAaKHv",
    "outputId": "597261c5-400f-470c-d4ad-2a447106e2e1"
   },
   "outputs": [
    {
     "data": {
      "text/html": [
       "<div>\n",
       "<style scoped>\n",
       "    .dataframe tbody tr th:only-of-type {\n",
       "        vertical-align: middle;\n",
       "    }\n",
       "\n",
       "    .dataframe tbody tr th {\n",
       "        vertical-align: top;\n",
       "    }\n",
       "\n",
       "    .dataframe thead th {\n",
       "        text-align: right;\n",
       "    }\n",
       "</style>\n",
       "<table border=\"1\" class=\"dataframe\">\n",
       "  <thead>\n",
       "    <tr style=\"text-align: right;\">\n",
       "      <th></th>\n",
       "      <th>result</th>\n",
       "      <th>home_team</th>\n",
       "      <th>away_team</th>\n",
       "      <th>home_score</th>\n",
       "      <th>away_score</th>\n",
       "      <th>tournament</th>\n",
       "      <th>city</th>\n",
       "      <th>country</th>\n",
       "      <th>neutral</th>\n",
       "    </tr>\n",
       "  </thead>\n",
       "  <tbody>\n",
       "    <tr>\n",
       "      <th>0</th>\n",
       "      <td>2</td>\n",
       "      <td>Scotland</td>\n",
       "      <td>England</td>\n",
       "      <td>0</td>\n",
       "      <td>0</td>\n",
       "      <td>Friendly</td>\n",
       "      <td>Glasgow</td>\n",
       "      <td>Scotland</td>\n",
       "      <td>False</td>\n",
       "    </tr>\n",
       "    <tr>\n",
       "      <th>1</th>\n",
       "      <td>1</td>\n",
       "      <td>England</td>\n",
       "      <td>Scotland</td>\n",
       "      <td>4</td>\n",
       "      <td>2</td>\n",
       "      <td>Friendly</td>\n",
       "      <td>London</td>\n",
       "      <td>England</td>\n",
       "      <td>False</td>\n",
       "    </tr>\n",
       "    <tr>\n",
       "      <th>2</th>\n",
       "      <td>1</td>\n",
       "      <td>Scotland</td>\n",
       "      <td>England</td>\n",
       "      <td>2</td>\n",
       "      <td>1</td>\n",
       "      <td>Friendly</td>\n",
       "      <td>Glasgow</td>\n",
       "      <td>Scotland</td>\n",
       "      <td>False</td>\n",
       "    </tr>\n",
       "    <tr>\n",
       "      <th>3</th>\n",
       "      <td>2</td>\n",
       "      <td>England</td>\n",
       "      <td>Scotland</td>\n",
       "      <td>2</td>\n",
       "      <td>2</td>\n",
       "      <td>Friendly</td>\n",
       "      <td>London</td>\n",
       "      <td>England</td>\n",
       "      <td>False</td>\n",
       "    </tr>\n",
       "    <tr>\n",
       "      <th>4</th>\n",
       "      <td>1</td>\n",
       "      <td>Scotland</td>\n",
       "      <td>England</td>\n",
       "      <td>3</td>\n",
       "      <td>0</td>\n",
       "      <td>Friendly</td>\n",
       "      <td>Glasgow</td>\n",
       "      <td>Scotland</td>\n",
       "      <td>False</td>\n",
       "    </tr>\n",
       "    <tr>\n",
       "      <th>...</th>\n",
       "      <td>...</td>\n",
       "      <td>...</td>\n",
       "      <td>...</td>\n",
       "      <td>...</td>\n",
       "      <td>...</td>\n",
       "      <td>...</td>\n",
       "      <td>...</td>\n",
       "      <td>...</td>\n",
       "      <td>...</td>\n",
       "    </tr>\n",
       "    <tr>\n",
       "      <th>42079</th>\n",
       "      <td>0</td>\n",
       "      <td>Andorra</td>\n",
       "      <td>Hungary</td>\n",
       "      <td>1</td>\n",
       "      <td>4</td>\n",
       "      <td>FIFA World Cup qualification</td>\n",
       "      <td>Andorra la Vella</td>\n",
       "      <td>Andorra</td>\n",
       "      <td>False</td>\n",
       "    </tr>\n",
       "    <tr>\n",
       "      <th>42080</th>\n",
       "      <td>0</td>\n",
       "      <td>San Marino</td>\n",
       "      <td>Albania</td>\n",
       "      <td>0</td>\n",
       "      <td>2</td>\n",
       "      <td>FIFA World Cup qualification</td>\n",
       "      <td>Serravalle</td>\n",
       "      <td>San Marino</td>\n",
       "      <td>False</td>\n",
       "    </tr>\n",
       "    <tr>\n",
       "      <th>42081</th>\n",
       "      <td>1</td>\n",
       "      <td>Armenia</td>\n",
       "      <td>Romania</td>\n",
       "      <td>3</td>\n",
       "      <td>2</td>\n",
       "      <td>FIFA World Cup qualification</td>\n",
       "      <td>Yerevan</td>\n",
       "      <td>Armenia</td>\n",
       "      <td>False</td>\n",
       "    </tr>\n",
       "    <tr>\n",
       "      <th>42082</th>\n",
       "      <td>0</td>\n",
       "      <td>Germany</td>\n",
       "      <td>North Macedonia</td>\n",
       "      <td>1</td>\n",
       "      <td>2</td>\n",
       "      <td>FIFA World Cup qualification</td>\n",
       "      <td>Duisburg</td>\n",
       "      <td>Germany</td>\n",
       "      <td>False</td>\n",
       "    </tr>\n",
       "    <tr>\n",
       "      <th>42083</th>\n",
       "      <td>0</td>\n",
       "      <td>Liechtenstein</td>\n",
       "      <td>Iceland</td>\n",
       "      <td>1</td>\n",
       "      <td>4</td>\n",
       "      <td>FIFA World Cup qualification</td>\n",
       "      <td>Vaduz</td>\n",
       "      <td>Liechtenstein</td>\n",
       "      <td>False</td>\n",
       "    </tr>\n",
       "  </tbody>\n",
       "</table>\n",
       "<p>42084 rows × 9 columns</p>\n",
       "</div>"
      ],
      "text/plain": [
       "       result      home_team        away_team  home_score  away_score  \\\n",
       "0           2       Scotland          England           0           0   \n",
       "1           1        England         Scotland           4           2   \n",
       "2           1       Scotland          England           2           1   \n",
       "3           2        England         Scotland           2           2   \n",
       "4           1       Scotland          England           3           0   \n",
       "...       ...            ...              ...         ...         ...   \n",
       "42079       0        Andorra          Hungary           1           4   \n",
       "42080       0     San Marino          Albania           0           2   \n",
       "42081       1        Armenia          Romania           3           2   \n",
       "42082       0        Germany  North Macedonia           1           2   \n",
       "42083       0  Liechtenstein          Iceland           1           4   \n",
       "\n",
       "                         tournament              city        country  neutral  \n",
       "0                          Friendly           Glasgow       Scotland    False  \n",
       "1                          Friendly            London        England    False  \n",
       "2                          Friendly           Glasgow       Scotland    False  \n",
       "3                          Friendly            London        England    False  \n",
       "4                          Friendly           Glasgow       Scotland    False  \n",
       "...                             ...               ...            ...      ...  \n",
       "42079  FIFA World Cup qualification  Andorra la Vella        Andorra    False  \n",
       "42080  FIFA World Cup qualification        Serravalle     San Marino    False  \n",
       "42081  FIFA World Cup qualification           Yerevan        Armenia    False  \n",
       "42082  FIFA World Cup qualification          Duisburg        Germany    False  \n",
       "42083  FIFA World Cup qualification             Vaduz  Liechtenstein    False  \n",
       "\n",
       "[42084 rows x 9 columns]"
      ]
     },
     "execution_count": 8,
     "metadata": {},
     "output_type": "execute_result"
    }
   ],
   "source": [
    "data"
   ]
  },
  {
   "cell_type": "code",
   "execution_count": 9,
   "metadata": {
    "id": "vOX94x9GaOZg"
   },
   "outputs": [],
   "source": [
    "data=data.loc[:,['result', 'home_team' , 'away_team' , 'home_score' , 'away_score' , 'country']]"
   ]
  },
  {
   "cell_type": "code",
   "execution_count": 10,
   "metadata": {
    "colab": {
     "base_uri": "https://localhost:8080/",
     "height": 402
    },
    "id": "gj8BsqRdaeEr",
    "outputId": "74a5266e-466a-416c-a696-beaa35ac5179"
   },
   "outputs": [
    {
     "data": {
      "text/html": [
       "<div>\n",
       "<style scoped>\n",
       "    .dataframe tbody tr th:only-of-type {\n",
       "        vertical-align: middle;\n",
       "    }\n",
       "\n",
       "    .dataframe tbody tr th {\n",
       "        vertical-align: top;\n",
       "    }\n",
       "\n",
       "    .dataframe thead th {\n",
       "        text-align: right;\n",
       "    }\n",
       "</style>\n",
       "<table border=\"1\" class=\"dataframe\">\n",
       "  <thead>\n",
       "    <tr style=\"text-align: right;\">\n",
       "      <th></th>\n",
       "      <th>result</th>\n",
       "      <th>home_team</th>\n",
       "      <th>away_team</th>\n",
       "      <th>home_score</th>\n",
       "      <th>away_score</th>\n",
       "      <th>country</th>\n",
       "    </tr>\n",
       "  </thead>\n",
       "  <tbody>\n",
       "    <tr>\n",
       "      <th>0</th>\n",
       "      <td>2</td>\n",
       "      <td>Scotland</td>\n",
       "      <td>England</td>\n",
       "      <td>0</td>\n",
       "      <td>0</td>\n",
       "      <td>Scotland</td>\n",
       "    </tr>\n",
       "    <tr>\n",
       "      <th>1</th>\n",
       "      <td>1</td>\n",
       "      <td>England</td>\n",
       "      <td>Scotland</td>\n",
       "      <td>4</td>\n",
       "      <td>2</td>\n",
       "      <td>England</td>\n",
       "    </tr>\n",
       "    <tr>\n",
       "      <th>2</th>\n",
       "      <td>1</td>\n",
       "      <td>Scotland</td>\n",
       "      <td>England</td>\n",
       "      <td>2</td>\n",
       "      <td>1</td>\n",
       "      <td>Scotland</td>\n",
       "    </tr>\n",
       "    <tr>\n",
       "      <th>3</th>\n",
       "      <td>2</td>\n",
       "      <td>England</td>\n",
       "      <td>Scotland</td>\n",
       "      <td>2</td>\n",
       "      <td>2</td>\n",
       "      <td>England</td>\n",
       "    </tr>\n",
       "    <tr>\n",
       "      <th>4</th>\n",
       "      <td>1</td>\n",
       "      <td>Scotland</td>\n",
       "      <td>England</td>\n",
       "      <td>3</td>\n",
       "      <td>0</td>\n",
       "      <td>Scotland</td>\n",
       "    </tr>\n",
       "    <tr>\n",
       "      <th>...</th>\n",
       "      <td>...</td>\n",
       "      <td>...</td>\n",
       "      <td>...</td>\n",
       "      <td>...</td>\n",
       "      <td>...</td>\n",
       "      <td>...</td>\n",
       "    </tr>\n",
       "    <tr>\n",
       "      <th>42079</th>\n",
       "      <td>0</td>\n",
       "      <td>Andorra</td>\n",
       "      <td>Hungary</td>\n",
       "      <td>1</td>\n",
       "      <td>4</td>\n",
       "      <td>Andorra</td>\n",
       "    </tr>\n",
       "    <tr>\n",
       "      <th>42080</th>\n",
       "      <td>0</td>\n",
       "      <td>San Marino</td>\n",
       "      <td>Albania</td>\n",
       "      <td>0</td>\n",
       "      <td>2</td>\n",
       "      <td>San Marino</td>\n",
       "    </tr>\n",
       "    <tr>\n",
       "      <th>42081</th>\n",
       "      <td>1</td>\n",
       "      <td>Armenia</td>\n",
       "      <td>Romania</td>\n",
       "      <td>3</td>\n",
       "      <td>2</td>\n",
       "      <td>Armenia</td>\n",
       "    </tr>\n",
       "    <tr>\n",
       "      <th>42082</th>\n",
       "      <td>0</td>\n",
       "      <td>Germany</td>\n",
       "      <td>North Macedonia</td>\n",
       "      <td>1</td>\n",
       "      <td>2</td>\n",
       "      <td>Germany</td>\n",
       "    </tr>\n",
       "    <tr>\n",
       "      <th>42083</th>\n",
       "      <td>0</td>\n",
       "      <td>Liechtenstein</td>\n",
       "      <td>Iceland</td>\n",
       "      <td>1</td>\n",
       "      <td>4</td>\n",
       "      <td>Liechtenstein</td>\n",
       "    </tr>\n",
       "  </tbody>\n",
       "</table>\n",
       "<p>42084 rows × 6 columns</p>\n",
       "</div>"
      ],
      "text/plain": [
       "       result      home_team        away_team  home_score  away_score  \\\n",
       "0           2       Scotland          England           0           0   \n",
       "1           1        England         Scotland           4           2   \n",
       "2           1       Scotland          England           2           1   \n",
       "3           2        England         Scotland           2           2   \n",
       "4           1       Scotland          England           3           0   \n",
       "...       ...            ...              ...         ...         ...   \n",
       "42079       0        Andorra          Hungary           1           4   \n",
       "42080       0     San Marino          Albania           0           2   \n",
       "42081       1        Armenia          Romania           3           2   \n",
       "42082       0        Germany  North Macedonia           1           2   \n",
       "42083       0  Liechtenstein          Iceland           1           4   \n",
       "\n",
       "             country  \n",
       "0           Scotland  \n",
       "1            England  \n",
       "2           Scotland  \n",
       "3            England  \n",
       "4           Scotland  \n",
       "...              ...  \n",
       "42079        Andorra  \n",
       "42080     San Marino  \n",
       "42081        Armenia  \n",
       "42082        Germany  \n",
       "42083  Liechtenstein  \n",
       "\n",
       "[42084 rows x 6 columns]"
      ]
     },
     "execution_count": 10,
     "metadata": {},
     "output_type": "execute_result"
    }
   ],
   "source": [
    "data"
   ]
  },
  {
   "cell_type": "code",
   "execution_count": 11,
   "metadata": {
    "id": "h__7tScuafQu"
   },
   "outputs": [],
   "source": [
    "array=data.loc[:,'home_team'].unique().copy()"
   ]
  },
  {
   "cell_type": "code",
   "execution_count": 12,
   "metadata": {
    "colab": {
     "base_uri": "https://localhost:8080/"
    },
    "id": "NyPUpDvCakZn",
    "outputId": "ae3d16a9-4e33-4eda-a71f-3a96eb2f44ed"
   },
   "outputs": [
    {
     "data": {
      "text/plain": [
       "array(['Scotland', 'England', 'Wales', 'Northern Ireland',\n",
       "       'United States', 'Uruguay', 'Austria', 'Hungary', 'Argentina',\n",
       "       'Belgium', 'France', 'Netherlands', 'Czechoslovakia',\n",
       "       'Switzerland', 'Sweden', 'Germany', 'Italy', 'Chile', 'Norway',\n",
       "       'Finland', 'Luxembourg', 'Russia', 'Denmark', 'Catalonia',\n",
       "       'Basque Country', 'Brazil', 'Japan', 'Paraguay', 'Canada',\n",
       "       'Estonia', 'Costa Rica', 'Guatemala', 'Spain', 'Brittany',\n",
       "       'Poland', 'Yugoslavia', 'New Zealand', 'Romania', 'Latvia',\n",
       "       'Galicia', 'Portugal', 'Andalusia', 'China PR', 'Australia',\n",
       "       'Lithuania', 'Turkey', 'Central Spain', 'Mexico', 'Aruba', 'Egypt',\n",
       "       'Haiti', 'Philippines', 'Bulgaria', 'Jamaica', 'Kenya', 'Bolivia',\n",
       "       'Peru', 'Honduras', 'Guyana', 'Uganda', 'Belarus', 'El Salvador',\n",
       "       'Barbados', 'Republic of Ireland', 'Trinidad and Tobago', 'Greece',\n",
       "       'Curaçao', 'Dominica', 'Silesia', 'Guadeloupe', 'Israel',\n",
       "       'Suriname', 'French Guiana', 'Cuba', 'Colombia', 'Ecuador',\n",
       "       'Saint Kitts and Nevis', 'Panama', 'Slovakia', 'Manchukuo',\n",
       "       'Croatia', 'Nicaragua', 'Afghanistan', 'India', 'Martinique',\n",
       "       'Zimbabwe', 'Iceland', 'Albania', 'Madagascar', 'Zambia',\n",
       "       'Mauritius', 'Tanzania', 'Iran', 'Djibouti', 'DR Congo', 'Vietnam',\n",
       "       'Macau', 'Ethiopia', 'Puerto Rico', 'Réunion', 'Sierra Leone',\n",
       "       'Zanzibar', 'South Korea', 'Ghana', 'South Africa',\n",
       "       'New Caledonia', 'Fiji', 'Nigeria', 'Venezuela', 'Burma',\n",
       "       'Sri Lanka', 'Tahiti', 'Gambia', 'Hong Kong', 'Singapore',\n",
       "       'Malaysia', 'Indonesia', 'Guinea-Bissau', 'German DR', 'Vanuatu',\n",
       "       'Kernow', 'Saarland', 'Cambodia', 'Lebanon', 'Pakistan',\n",
       "       'Vietnam Republic', 'North Korea', 'Togo', 'Sudan', 'Malta',\n",
       "       'Syria', 'Tunisia', 'Malawi', 'Morocco', 'Benin', 'Cameroon',\n",
       "       'Central African Republic', 'Gabon', 'Ivory Coast', 'Congo',\n",
       "       'Mali', 'North Vietnam', 'Mongolia', 'Chinese Taipei', 'Cyprus',\n",
       "       'Iraq', 'Saint Lucia', 'Grenada', 'Thailand', 'Senegal', 'Libya',\n",
       "       'Guinea', 'Algeria', 'Kuwait', 'Jordan', 'Solomon Islands',\n",
       "       'Liberia', 'Laos', 'Saint Vincent and the Grenadines', 'Bermuda',\n",
       "       'Niger', 'Bahrain', 'Montenegro', 'Palestine', 'Papua New Guinea',\n",
       "       'Burkina Faso', 'Mauritania', 'Saudi Arabia', 'Eswatini',\n",
       "       'Somalia', 'Lesotho', 'Cook Islands', 'Qatar',\n",
       "       'Antigua and Barbuda', 'Faroe Islands', 'Bangladesh', 'Oman',\n",
       "       'Yemen DPR', 'Burundi', 'Yemen', 'Mozambique', 'Guam', 'Chad',\n",
       "       'Angola', 'Dominican Republic', 'Seychelles', 'Rwanda',\n",
       "       'São Tomé and Príncipe', 'Botswana', 'Northern Cyprus',\n",
       "       'Cape Verde', 'Kyrgyzstan', 'Georgia', 'Azerbaijan', 'Kiribati',\n",
       "       'Tonga', 'Wallis Islands and Futuna', 'United Arab Emirates',\n",
       "       'Brunei', 'Equatorial Guinea', 'Liechtenstein', 'Nepal',\n",
       "       'Greenland', 'Niue', 'Samoa', 'American Samoa', 'Belize',\n",
       "       'Anguilla', 'Cayman Islands', 'Palau', 'Sint Maarten', 'Namibia',\n",
       "       'Åland Islands', 'Ynys Môn', 'Saint Martin', 'San Marino',\n",
       "       'Slovenia', 'Jersey', 'Shetland', 'Isle of Wight', 'Moldova',\n",
       "       'Ukraine', 'Kazakhstan', 'Tajikistan', 'Uzbekistan',\n",
       "       'Turkmenistan', 'Armenia', 'Czech Republic', 'Guernsey',\n",
       "       'Gibraltar', 'Isle of Man', 'North Macedonia', 'Montserrat',\n",
       "       'Serbia', 'Canary Islands', 'Bosnia and Herzegovina', 'Maldives',\n",
       "       'Andorra', 'British Virgin Islands', 'Frøya', 'Hitra',\n",
       "       'U.S. Virgin Islands', 'Corsica', 'Eritrea', 'Bahamas', 'Gotland',\n",
       "       'Saare County', 'Rhodes', 'Micronesia', 'Bhutan', 'Orkney',\n",
       "       'Monaco', 'Tuvalu', 'Sark', 'Alderney', 'Mayotte',\n",
       "       'Turks and Caicos Islands', 'East Timor', 'Western Isles',\n",
       "       'Falkland Islands', 'Kosovo', 'Republic of St. Pauli', 'Găgăuzia',\n",
       "       'Tibet', 'Crimea', 'Occitania', 'Sápmi',\n",
       "       'Northern Mariana Islands', 'Menorca', 'Comoros', 'Provence',\n",
       "       'Arameans Suryoye', 'Padania', 'Iraqi Kurdistan', 'Gozo',\n",
       "       'Bonaire', 'Western Sahara', 'Raetia', 'Darfur', 'Tamil Eelam',\n",
       "       'South Sudan', 'Abkhazia', 'Saint Pierre and Miquelon', 'Artsakh',\n",
       "       'Madrid', 'Vatican City', 'Ellan Vannin', 'South Ossetia',\n",
       "       'County of Nice', 'Székely Land', 'Romani people', 'Felvidék',\n",
       "       'Chagos Islands', 'United Koreans in Japan', 'Somaliland',\n",
       "       'Western Armenia', 'Barawa', 'Kárpátalja', 'Yorkshire', 'Panjab',\n",
       "       'Matabeleland', 'Cascadia', 'Kabylia', 'Timor-Leste', 'Myanmar',\n",
       "       'Parishes of Jersey', 'Chameria', 'Saint Helena'], dtype=object)"
      ]
     },
     "execution_count": 12,
     "metadata": {},
     "output_type": "execute_result"
    }
   ],
   "source": [
    "#array contians all the names for dictionary\n",
    "array"
   ]
  },
  {
   "cell_type": "code",
   "execution_count": 13,
   "metadata": {
    "id": "yBqthtQcapEc"
   },
   "outputs": [],
   "source": [
    "d1 = dict(enumerate(array.flatten(), 1))"
   ]
  },
  {
   "cell_type": "code",
   "execution_count": 14,
   "metadata": {
    "id": "htkOLzHRauI0"
   },
   "outputs": [],
   "source": [
    "d={key : value for (value,key) in d1.items()}"
   ]
  },
  {
   "cell_type": "code",
   "execution_count": 15,
   "metadata": {
    "colab": {
     "base_uri": "https://localhost:8080/"
    },
    "id": "5aC_mFYDax6Y",
    "outputId": "8798c17a-4172-4bf9-ae1b-e74cf6735349"
   },
   "outputs": [
    {
     "data": {
      "text/plain": [
       "{'Scotland': 1,\n",
       " 'England': 2,\n",
       " 'Wales': 3,\n",
       " 'Northern Ireland': 4,\n",
       " 'United States': 5,\n",
       " 'Uruguay': 6,\n",
       " 'Austria': 7,\n",
       " 'Hungary': 8,\n",
       " 'Argentina': 9,\n",
       " 'Belgium': 10,\n",
       " 'France': 11,\n",
       " 'Netherlands': 12,\n",
       " 'Czechoslovakia': 13,\n",
       " 'Switzerland': 14,\n",
       " 'Sweden': 15,\n",
       " 'Germany': 16,\n",
       " 'Italy': 17,\n",
       " 'Chile': 18,\n",
       " 'Norway': 19,\n",
       " 'Finland': 20,\n",
       " 'Luxembourg': 21,\n",
       " 'Russia': 22,\n",
       " 'Denmark': 23,\n",
       " 'Catalonia': 24,\n",
       " 'Basque Country': 25,\n",
       " 'Brazil': 26,\n",
       " 'Japan': 27,\n",
       " 'Paraguay': 28,\n",
       " 'Canada': 29,\n",
       " 'Estonia': 30,\n",
       " 'Costa Rica': 31,\n",
       " 'Guatemala': 32,\n",
       " 'Spain': 33,\n",
       " 'Brittany': 34,\n",
       " 'Poland': 35,\n",
       " 'Yugoslavia': 36,\n",
       " 'New Zealand': 37,\n",
       " 'Romania': 38,\n",
       " 'Latvia': 39,\n",
       " 'Galicia': 40,\n",
       " 'Portugal': 41,\n",
       " 'Andalusia': 42,\n",
       " 'China PR': 43,\n",
       " 'Australia': 44,\n",
       " 'Lithuania': 45,\n",
       " 'Turkey': 46,\n",
       " 'Central Spain': 47,\n",
       " 'Mexico': 48,\n",
       " 'Aruba': 49,\n",
       " 'Egypt': 50,\n",
       " 'Haiti': 51,\n",
       " 'Philippines': 52,\n",
       " 'Bulgaria': 53,\n",
       " 'Jamaica': 54,\n",
       " 'Kenya': 55,\n",
       " 'Bolivia': 56,\n",
       " 'Peru': 57,\n",
       " 'Honduras': 58,\n",
       " 'Guyana': 59,\n",
       " 'Uganda': 60,\n",
       " 'Belarus': 61,\n",
       " 'El Salvador': 62,\n",
       " 'Barbados': 63,\n",
       " 'Republic of Ireland': 64,\n",
       " 'Trinidad and Tobago': 65,\n",
       " 'Greece': 66,\n",
       " 'Curaçao': 67,\n",
       " 'Dominica': 68,\n",
       " 'Silesia': 69,\n",
       " 'Guadeloupe': 70,\n",
       " 'Israel': 71,\n",
       " 'Suriname': 72,\n",
       " 'French Guiana': 73,\n",
       " 'Cuba': 74,\n",
       " 'Colombia': 75,\n",
       " 'Ecuador': 76,\n",
       " 'Saint Kitts and Nevis': 77,\n",
       " 'Panama': 78,\n",
       " 'Slovakia': 79,\n",
       " 'Manchukuo': 80,\n",
       " 'Croatia': 81,\n",
       " 'Nicaragua': 82,\n",
       " 'Afghanistan': 83,\n",
       " 'India': 84,\n",
       " 'Martinique': 85,\n",
       " 'Zimbabwe': 86,\n",
       " 'Iceland': 87,\n",
       " 'Albania': 88,\n",
       " 'Madagascar': 89,\n",
       " 'Zambia': 90,\n",
       " 'Mauritius': 91,\n",
       " 'Tanzania': 92,\n",
       " 'Iran': 93,\n",
       " 'Djibouti': 94,\n",
       " 'DR Congo': 95,\n",
       " 'Vietnam': 96,\n",
       " 'Macau': 97,\n",
       " 'Ethiopia': 98,\n",
       " 'Puerto Rico': 99,\n",
       " 'Réunion': 100,\n",
       " 'Sierra Leone': 101,\n",
       " 'Zanzibar': 102,\n",
       " 'South Korea': 103,\n",
       " 'Ghana': 104,\n",
       " 'South Africa': 105,\n",
       " 'New Caledonia': 106,\n",
       " 'Fiji': 107,\n",
       " 'Nigeria': 108,\n",
       " 'Venezuela': 109,\n",
       " 'Burma': 110,\n",
       " 'Sri Lanka': 111,\n",
       " 'Tahiti': 112,\n",
       " 'Gambia': 113,\n",
       " 'Hong Kong': 114,\n",
       " 'Singapore': 115,\n",
       " 'Malaysia': 116,\n",
       " 'Indonesia': 117,\n",
       " 'Guinea-Bissau': 118,\n",
       " 'German DR': 119,\n",
       " 'Vanuatu': 120,\n",
       " 'Kernow': 121,\n",
       " 'Saarland': 122,\n",
       " 'Cambodia': 123,\n",
       " 'Lebanon': 124,\n",
       " 'Pakistan': 125,\n",
       " 'Vietnam Republic': 126,\n",
       " 'North Korea': 127,\n",
       " 'Togo': 128,\n",
       " 'Sudan': 129,\n",
       " 'Malta': 130,\n",
       " 'Syria': 131,\n",
       " 'Tunisia': 132,\n",
       " 'Malawi': 133,\n",
       " 'Morocco': 134,\n",
       " 'Benin': 135,\n",
       " 'Cameroon': 136,\n",
       " 'Central African Republic': 137,\n",
       " 'Gabon': 138,\n",
       " 'Ivory Coast': 139,\n",
       " 'Congo': 140,\n",
       " 'Mali': 141,\n",
       " 'North Vietnam': 142,\n",
       " 'Mongolia': 143,\n",
       " 'Chinese Taipei': 144,\n",
       " 'Cyprus': 145,\n",
       " 'Iraq': 146,\n",
       " 'Saint Lucia': 147,\n",
       " 'Grenada': 148,\n",
       " 'Thailand': 149,\n",
       " 'Senegal': 150,\n",
       " 'Libya': 151,\n",
       " 'Guinea': 152,\n",
       " 'Algeria': 153,\n",
       " 'Kuwait': 154,\n",
       " 'Jordan': 155,\n",
       " 'Solomon Islands': 156,\n",
       " 'Liberia': 157,\n",
       " 'Laos': 158,\n",
       " 'Saint Vincent and the Grenadines': 159,\n",
       " 'Bermuda': 160,\n",
       " 'Niger': 161,\n",
       " 'Bahrain': 162,\n",
       " 'Montenegro': 163,\n",
       " 'Palestine': 164,\n",
       " 'Papua New Guinea': 165,\n",
       " 'Burkina Faso': 166,\n",
       " 'Mauritania': 167,\n",
       " 'Saudi Arabia': 168,\n",
       " 'Eswatini': 169,\n",
       " 'Somalia': 170,\n",
       " 'Lesotho': 171,\n",
       " 'Cook Islands': 172,\n",
       " 'Qatar': 173,\n",
       " 'Antigua and Barbuda': 174,\n",
       " 'Faroe Islands': 175,\n",
       " 'Bangladesh': 176,\n",
       " 'Oman': 177,\n",
       " 'Yemen DPR': 178,\n",
       " 'Burundi': 179,\n",
       " 'Yemen': 180,\n",
       " 'Mozambique': 181,\n",
       " 'Guam': 182,\n",
       " 'Chad': 183,\n",
       " 'Angola': 184,\n",
       " 'Dominican Republic': 185,\n",
       " 'Seychelles': 186,\n",
       " 'Rwanda': 187,\n",
       " 'São Tomé and Príncipe': 188,\n",
       " 'Botswana': 189,\n",
       " 'Northern Cyprus': 190,\n",
       " 'Cape Verde': 191,\n",
       " 'Kyrgyzstan': 192,\n",
       " 'Georgia': 193,\n",
       " 'Azerbaijan': 194,\n",
       " 'Kiribati': 195,\n",
       " 'Tonga': 196,\n",
       " 'Wallis Islands and Futuna': 197,\n",
       " 'United Arab Emirates': 198,\n",
       " 'Brunei': 199,\n",
       " 'Equatorial Guinea': 200,\n",
       " 'Liechtenstein': 201,\n",
       " 'Nepal': 202,\n",
       " 'Greenland': 203,\n",
       " 'Niue': 204,\n",
       " 'Samoa': 205,\n",
       " 'American Samoa': 206,\n",
       " 'Belize': 207,\n",
       " 'Anguilla': 208,\n",
       " 'Cayman Islands': 209,\n",
       " 'Palau': 210,\n",
       " 'Sint Maarten': 211,\n",
       " 'Namibia': 212,\n",
       " 'Åland Islands': 213,\n",
       " 'Ynys Môn': 214,\n",
       " 'Saint Martin': 215,\n",
       " 'San Marino': 216,\n",
       " 'Slovenia': 217,\n",
       " 'Jersey': 218,\n",
       " 'Shetland': 219,\n",
       " 'Isle of Wight': 220,\n",
       " 'Moldova': 221,\n",
       " 'Ukraine': 222,\n",
       " 'Kazakhstan': 223,\n",
       " 'Tajikistan': 224,\n",
       " 'Uzbekistan': 225,\n",
       " 'Turkmenistan': 226,\n",
       " 'Armenia': 227,\n",
       " 'Czech Republic': 228,\n",
       " 'Guernsey': 229,\n",
       " 'Gibraltar': 230,\n",
       " 'Isle of Man': 231,\n",
       " 'North Macedonia': 232,\n",
       " 'Montserrat': 233,\n",
       " 'Serbia': 234,\n",
       " 'Canary Islands': 235,\n",
       " 'Bosnia and Herzegovina': 236,\n",
       " 'Maldives': 237,\n",
       " 'Andorra': 238,\n",
       " 'British Virgin Islands': 239,\n",
       " 'Frøya': 240,\n",
       " 'Hitra': 241,\n",
       " 'U.S. Virgin Islands': 242,\n",
       " 'Corsica': 243,\n",
       " 'Eritrea': 244,\n",
       " 'Bahamas': 245,\n",
       " 'Gotland': 246,\n",
       " 'Saare County': 247,\n",
       " 'Rhodes': 248,\n",
       " 'Micronesia': 249,\n",
       " 'Bhutan': 250,\n",
       " 'Orkney': 251,\n",
       " 'Monaco': 252,\n",
       " 'Tuvalu': 253,\n",
       " 'Sark': 254,\n",
       " 'Alderney': 255,\n",
       " 'Mayotte': 256,\n",
       " 'Turks and Caicos Islands': 257,\n",
       " 'East Timor': 258,\n",
       " 'Western Isles': 259,\n",
       " 'Falkland Islands': 260,\n",
       " 'Kosovo': 261,\n",
       " 'Republic of St. Pauli': 262,\n",
       " 'Găgăuzia': 263,\n",
       " 'Tibet': 264,\n",
       " 'Crimea': 265,\n",
       " 'Occitania': 266,\n",
       " 'Sápmi': 267,\n",
       " 'Northern Mariana Islands': 268,\n",
       " 'Menorca': 269,\n",
       " 'Comoros': 270,\n",
       " 'Provence': 271,\n",
       " 'Arameans Suryoye': 272,\n",
       " 'Padania': 273,\n",
       " 'Iraqi Kurdistan': 274,\n",
       " 'Gozo': 275,\n",
       " 'Bonaire': 276,\n",
       " 'Western Sahara': 277,\n",
       " 'Raetia': 278,\n",
       " 'Darfur': 279,\n",
       " 'Tamil Eelam': 280,\n",
       " 'South Sudan': 281,\n",
       " 'Abkhazia': 282,\n",
       " 'Saint Pierre and Miquelon': 283,\n",
       " 'Artsakh': 284,\n",
       " 'Madrid': 285,\n",
       " 'Vatican City': 286,\n",
       " 'Ellan Vannin': 287,\n",
       " 'South Ossetia': 288,\n",
       " 'County of Nice': 289,\n",
       " 'Székely Land': 290,\n",
       " 'Romani people': 291,\n",
       " 'Felvidék': 292,\n",
       " 'Chagos Islands': 293,\n",
       " 'United Koreans in Japan': 294,\n",
       " 'Somaliland': 295,\n",
       " 'Western Armenia': 296,\n",
       " 'Barawa': 297,\n",
       " 'Kárpátalja': 298,\n",
       " 'Yorkshire': 299,\n",
       " 'Panjab': 300,\n",
       " 'Matabeleland': 301,\n",
       " 'Cascadia': 302,\n",
       " 'Kabylia': 303,\n",
       " 'Timor-Leste': 304,\n",
       " 'Myanmar': 305,\n",
       " 'Parishes of Jersey': 306,\n",
       " 'Chameria': 307,\n",
       " 'Saint Helena': 308}"
      ]
     },
     "execution_count": 15,
     "metadata": {},
     "output_type": "execute_result"
    }
   ],
   "source": [
    "d\n",
    "\n",
    "#it is printing the country name alphabetically but the mapping is done fine as per order in variable 'array'"
   ]
  },
  {
   "cell_type": "code",
   "execution_count": 16,
   "metadata": {
    "id": "4uNoVY2PaymL"
   },
   "outputs": [],
   "source": [
    "data['home_team']=data['home_team'].map(d).values\n",
    "data['away_team']=data['away_team'].map(d).values"
   ]
  },
  {
   "cell_type": "code",
   "execution_count": 17,
   "metadata": {
    "id": "Wz5k159pbQ0T"
   },
   "outputs": [],
   "source": [
    "data['country']=data['country'].map(d).values"
   ]
  },
  {
   "cell_type": "code",
   "execution_count": 18,
   "metadata": {
    "colab": {
     "base_uri": "https://localhost:8080/",
     "height": 402
    },
    "id": "2gRW-CuNbTHY",
    "outputId": "99e5441a-2d01-4049-8f45-353799c9f2a7"
   },
   "outputs": [
    {
     "data": {
      "text/html": [
       "<div>\n",
       "<style scoped>\n",
       "    .dataframe tbody tr th:only-of-type {\n",
       "        vertical-align: middle;\n",
       "    }\n",
       "\n",
       "    .dataframe tbody tr th {\n",
       "        vertical-align: top;\n",
       "    }\n",
       "\n",
       "    .dataframe thead th {\n",
       "        text-align: right;\n",
       "    }\n",
       "</style>\n",
       "<table border=\"1\" class=\"dataframe\">\n",
       "  <thead>\n",
       "    <tr style=\"text-align: right;\">\n",
       "      <th></th>\n",
       "      <th>result</th>\n",
       "      <th>home_team</th>\n",
       "      <th>away_team</th>\n",
       "      <th>home_score</th>\n",
       "      <th>away_score</th>\n",
       "      <th>country</th>\n",
       "    </tr>\n",
       "  </thead>\n",
       "  <tbody>\n",
       "    <tr>\n",
       "      <th>0</th>\n",
       "      <td>2</td>\n",
       "      <td>1</td>\n",
       "      <td>2.0</td>\n",
       "      <td>0</td>\n",
       "      <td>0</td>\n",
       "      <td>1.0</td>\n",
       "    </tr>\n",
       "    <tr>\n",
       "      <th>1</th>\n",
       "      <td>1</td>\n",
       "      <td>2</td>\n",
       "      <td>1.0</td>\n",
       "      <td>4</td>\n",
       "      <td>2</td>\n",
       "      <td>2.0</td>\n",
       "    </tr>\n",
       "    <tr>\n",
       "      <th>2</th>\n",
       "      <td>1</td>\n",
       "      <td>1</td>\n",
       "      <td>2.0</td>\n",
       "      <td>2</td>\n",
       "      <td>1</td>\n",
       "      <td>1.0</td>\n",
       "    </tr>\n",
       "    <tr>\n",
       "      <th>3</th>\n",
       "      <td>2</td>\n",
       "      <td>2</td>\n",
       "      <td>1.0</td>\n",
       "      <td>2</td>\n",
       "      <td>2</td>\n",
       "      <td>2.0</td>\n",
       "    </tr>\n",
       "    <tr>\n",
       "      <th>4</th>\n",
       "      <td>1</td>\n",
       "      <td>1</td>\n",
       "      <td>2.0</td>\n",
       "      <td>3</td>\n",
       "      <td>0</td>\n",
       "      <td>1.0</td>\n",
       "    </tr>\n",
       "    <tr>\n",
       "      <th>...</th>\n",
       "      <td>...</td>\n",
       "      <td>...</td>\n",
       "      <td>...</td>\n",
       "      <td>...</td>\n",
       "      <td>...</td>\n",
       "      <td>...</td>\n",
       "    </tr>\n",
       "    <tr>\n",
       "      <th>42079</th>\n",
       "      <td>0</td>\n",
       "      <td>238</td>\n",
       "      <td>8.0</td>\n",
       "      <td>1</td>\n",
       "      <td>4</td>\n",
       "      <td>238.0</td>\n",
       "    </tr>\n",
       "    <tr>\n",
       "      <th>42080</th>\n",
       "      <td>0</td>\n",
       "      <td>216</td>\n",
       "      <td>88.0</td>\n",
       "      <td>0</td>\n",
       "      <td>2</td>\n",
       "      <td>216.0</td>\n",
       "    </tr>\n",
       "    <tr>\n",
       "      <th>42081</th>\n",
       "      <td>1</td>\n",
       "      <td>227</td>\n",
       "      <td>38.0</td>\n",
       "      <td>3</td>\n",
       "      <td>2</td>\n",
       "      <td>227.0</td>\n",
       "    </tr>\n",
       "    <tr>\n",
       "      <th>42082</th>\n",
       "      <td>0</td>\n",
       "      <td>16</td>\n",
       "      <td>232.0</td>\n",
       "      <td>1</td>\n",
       "      <td>2</td>\n",
       "      <td>16.0</td>\n",
       "    </tr>\n",
       "    <tr>\n",
       "      <th>42083</th>\n",
       "      <td>0</td>\n",
       "      <td>201</td>\n",
       "      <td>87.0</td>\n",
       "      <td>1</td>\n",
       "      <td>4</td>\n",
       "      <td>201.0</td>\n",
       "    </tr>\n",
       "  </tbody>\n",
       "</table>\n",
       "<p>42084 rows × 6 columns</p>\n",
       "</div>"
      ],
      "text/plain": [
       "       result  home_team  away_team  home_score  away_score  country\n",
       "0           2          1        2.0           0           0      1.0\n",
       "1           1          2        1.0           4           2      2.0\n",
       "2           1          1        2.0           2           1      1.0\n",
       "3           2          2        1.0           2           2      2.0\n",
       "4           1          1        2.0           3           0      1.0\n",
       "...       ...        ...        ...         ...         ...      ...\n",
       "42079       0        238        8.0           1           4    238.0\n",
       "42080       0        216       88.0           0           2    216.0\n",
       "42081       1        227       38.0           3           2    227.0\n",
       "42082       0         16      232.0           1           2     16.0\n",
       "42083       0        201       87.0           1           4    201.0\n",
       "\n",
       "[42084 rows x 6 columns]"
      ]
     },
     "execution_count": 18,
     "metadata": {},
     "output_type": "execute_result"
    }
   ],
   "source": [
    "data"
   ]
  },
  {
   "cell_type": "code",
   "execution_count": 19,
   "metadata": {
    "id": "3-69_sDgbT6o"
   },
   "outputs": [],
   "source": [
    "#Since everything is with respect to home team , i decided to take goal difference as a label to predict and from that the result of the match could be predicted easily (+ve goal\n",
    "# difference would symbolize a win for home team , -ve GD would symbolize a defeat for home team )\n",
    "### EVERYTHING IS WITH RESPECT TO HOME TEAM FOR BETTER UNDERSTANDING ###\n",
    "\n",
    "\n",
    "data['home_score'] = data['home_score']-data['away_score']\n",
    "\n",
    "\n",
    "data=data.rename(columns={'home_score':'goal_diff'})\n",
    "\n",
    "\n"
   ]
  },
  {
   "cell_type": "code",
   "execution_count": 20,
   "metadata": {
    "id": "v1mXhd3BbpKT"
   },
   "outputs": [],
   "source": [
    "#filling nan values with average , it was later that i realized i could've predicted it using any regressor but i was in a hurry to complete it so i just put in averages\n",
    "mean_home_team = data['home_team'].mean()\n",
    "mean_away_team = data['away_team'].mean()\n",
    "mean_country = data['country'].mean()\n",
    "mean_score = data['goal_diff'].mean()\n",
    "\n",
    "\n",
    "data['home_team'] = data['home_team'].fillna(mean_home_team)\n",
    "data['away_team'] = data['away_team'].fillna(mean_away_team)\n",
    "data['country'] = data['country'].fillna(mean_country)\n",
    "data['goal_diff'] = data['goal_diff'].fillna(mean_score)"
   ]
  },
  {
   "cell_type": "code",
   "execution_count": 21,
   "metadata": {
    "colab": {
     "base_uri": "https://localhost:8080/",
     "height": 402
    },
    "id": "QrfMO3iFc7R5",
    "outputId": "b906dd4e-3633-4bc0-df93-1a4f46330225"
   },
   "outputs": [
    {
     "data": {
      "text/html": [
       "<div>\n",
       "<style scoped>\n",
       "    .dataframe tbody tr th:only-of-type {\n",
       "        vertical-align: middle;\n",
       "    }\n",
       "\n",
       "    .dataframe tbody tr th {\n",
       "        vertical-align: top;\n",
       "    }\n",
       "\n",
       "    .dataframe thead th {\n",
       "        text-align: right;\n",
       "    }\n",
       "</style>\n",
       "<table border=\"1\" class=\"dataframe\">\n",
       "  <thead>\n",
       "    <tr style=\"text-align: right;\">\n",
       "      <th></th>\n",
       "      <th>result</th>\n",
       "      <th>home_team</th>\n",
       "      <th>away_team</th>\n",
       "      <th>goal_diff</th>\n",
       "      <th>away_score</th>\n",
       "      <th>country</th>\n",
       "    </tr>\n",
       "  </thead>\n",
       "  <tbody>\n",
       "    <tr>\n",
       "      <th>0</th>\n",
       "      <td>2</td>\n",
       "      <td>1</td>\n",
       "      <td>2.0</td>\n",
       "      <td>0</td>\n",
       "      <td>0</td>\n",
       "      <td>1.0</td>\n",
       "    </tr>\n",
       "    <tr>\n",
       "      <th>1</th>\n",
       "      <td>1</td>\n",
       "      <td>2</td>\n",
       "      <td>1.0</td>\n",
       "      <td>2</td>\n",
       "      <td>2</td>\n",
       "      <td>2.0</td>\n",
       "    </tr>\n",
       "    <tr>\n",
       "      <th>2</th>\n",
       "      <td>1</td>\n",
       "      <td>1</td>\n",
       "      <td>2.0</td>\n",
       "      <td>1</td>\n",
       "      <td>1</td>\n",
       "      <td>1.0</td>\n",
       "    </tr>\n",
       "    <tr>\n",
       "      <th>3</th>\n",
       "      <td>2</td>\n",
       "      <td>2</td>\n",
       "      <td>1.0</td>\n",
       "      <td>0</td>\n",
       "      <td>2</td>\n",
       "      <td>2.0</td>\n",
       "    </tr>\n",
       "    <tr>\n",
       "      <th>4</th>\n",
       "      <td>1</td>\n",
       "      <td>1</td>\n",
       "      <td>2.0</td>\n",
       "      <td>3</td>\n",
       "      <td>0</td>\n",
       "      <td>1.0</td>\n",
       "    </tr>\n",
       "    <tr>\n",
       "      <th>...</th>\n",
       "      <td>...</td>\n",
       "      <td>...</td>\n",
       "      <td>...</td>\n",
       "      <td>...</td>\n",
       "      <td>...</td>\n",
       "      <td>...</td>\n",
       "    </tr>\n",
       "    <tr>\n",
       "      <th>42079</th>\n",
       "      <td>0</td>\n",
       "      <td>238</td>\n",
       "      <td>8.0</td>\n",
       "      <td>-3</td>\n",
       "      <td>4</td>\n",
       "      <td>238.0</td>\n",
       "    </tr>\n",
       "    <tr>\n",
       "      <th>42080</th>\n",
       "      <td>0</td>\n",
       "      <td>216</td>\n",
       "      <td>88.0</td>\n",
       "      <td>-2</td>\n",
       "      <td>2</td>\n",
       "      <td>216.0</td>\n",
       "    </tr>\n",
       "    <tr>\n",
       "      <th>42081</th>\n",
       "      <td>1</td>\n",
       "      <td>227</td>\n",
       "      <td>38.0</td>\n",
       "      <td>1</td>\n",
       "      <td>2</td>\n",
       "      <td>227.0</td>\n",
       "    </tr>\n",
       "    <tr>\n",
       "      <th>42082</th>\n",
       "      <td>0</td>\n",
       "      <td>16</td>\n",
       "      <td>232.0</td>\n",
       "      <td>-1</td>\n",
       "      <td>2</td>\n",
       "      <td>16.0</td>\n",
       "    </tr>\n",
       "    <tr>\n",
       "      <th>42083</th>\n",
       "      <td>0</td>\n",
       "      <td>201</td>\n",
       "      <td>87.0</td>\n",
       "      <td>-3</td>\n",
       "      <td>4</td>\n",
       "      <td>201.0</td>\n",
       "    </tr>\n",
       "  </tbody>\n",
       "</table>\n",
       "<p>42084 rows × 6 columns</p>\n",
       "</div>"
      ],
      "text/plain": [
       "       result  home_team  away_team  goal_diff  away_score  country\n",
       "0           2          1        2.0          0           0      1.0\n",
       "1           1          2        1.0          2           2      2.0\n",
       "2           1          1        2.0          1           1      1.0\n",
       "3           2          2        1.0          0           2      2.0\n",
       "4           1          1        2.0          3           0      1.0\n",
       "...       ...        ...        ...        ...         ...      ...\n",
       "42079       0        238        8.0         -3           4    238.0\n",
       "42080       0        216       88.0         -2           2    216.0\n",
       "42081       1        227       38.0          1           2    227.0\n",
       "42082       0         16      232.0         -1           2     16.0\n",
       "42083       0        201       87.0         -3           4    201.0\n",
       "\n",
       "[42084 rows x 6 columns]"
      ]
     },
     "execution_count": 21,
     "metadata": {},
     "output_type": "execute_result"
    }
   ],
   "source": [
    "data"
   ]
  },
  {
   "cell_type": "code",
   "execution_count": 22,
   "metadata": {
    "id": "4rPrYo5Pc797"
   },
   "outputs": [],
   "source": [
    "data['foal_diff'] = data['goal_diff'].values.astype('float')"
   ]
  },
  {
   "cell_type": "code",
   "execution_count": 23,
   "metadata": {
    "colab": {
     "base_uri": "https://localhost:8080/",
     "height": 402
    },
    "id": "WKxTmKLQeDkn",
    "outputId": "160bc4bc-01dd-48e5-c74b-b047d9f8ef08"
   },
   "outputs": [
    {
     "data": {
      "text/html": [
       "<div>\n",
       "<style scoped>\n",
       "    .dataframe tbody tr th:only-of-type {\n",
       "        vertical-align: middle;\n",
       "    }\n",
       "\n",
       "    .dataframe tbody tr th {\n",
       "        vertical-align: top;\n",
       "    }\n",
       "\n",
       "    .dataframe thead th {\n",
       "        text-align: right;\n",
       "    }\n",
       "</style>\n",
       "<table border=\"1\" class=\"dataframe\">\n",
       "  <thead>\n",
       "    <tr style=\"text-align: right;\">\n",
       "      <th></th>\n",
       "      <th>result</th>\n",
       "      <th>home_team</th>\n",
       "      <th>away_team</th>\n",
       "      <th>goal_diff</th>\n",
       "      <th>away_score</th>\n",
       "      <th>country</th>\n",
       "      <th>foal_diff</th>\n",
       "    </tr>\n",
       "  </thead>\n",
       "  <tbody>\n",
       "    <tr>\n",
       "      <th>0</th>\n",
       "      <td>2</td>\n",
       "      <td>1</td>\n",
       "      <td>2.0</td>\n",
       "      <td>0</td>\n",
       "      <td>0</td>\n",
       "      <td>1.0</td>\n",
       "      <td>0.0</td>\n",
       "    </tr>\n",
       "    <tr>\n",
       "      <th>1</th>\n",
       "      <td>1</td>\n",
       "      <td>2</td>\n",
       "      <td>1.0</td>\n",
       "      <td>2</td>\n",
       "      <td>2</td>\n",
       "      <td>2.0</td>\n",
       "      <td>2.0</td>\n",
       "    </tr>\n",
       "    <tr>\n",
       "      <th>2</th>\n",
       "      <td>1</td>\n",
       "      <td>1</td>\n",
       "      <td>2.0</td>\n",
       "      <td>1</td>\n",
       "      <td>1</td>\n",
       "      <td>1.0</td>\n",
       "      <td>1.0</td>\n",
       "    </tr>\n",
       "    <tr>\n",
       "      <th>3</th>\n",
       "      <td>2</td>\n",
       "      <td>2</td>\n",
       "      <td>1.0</td>\n",
       "      <td>0</td>\n",
       "      <td>2</td>\n",
       "      <td>2.0</td>\n",
       "      <td>0.0</td>\n",
       "    </tr>\n",
       "    <tr>\n",
       "      <th>4</th>\n",
       "      <td>1</td>\n",
       "      <td>1</td>\n",
       "      <td>2.0</td>\n",
       "      <td>3</td>\n",
       "      <td>0</td>\n",
       "      <td>1.0</td>\n",
       "      <td>3.0</td>\n",
       "    </tr>\n",
       "    <tr>\n",
       "      <th>...</th>\n",
       "      <td>...</td>\n",
       "      <td>...</td>\n",
       "      <td>...</td>\n",
       "      <td>...</td>\n",
       "      <td>...</td>\n",
       "      <td>...</td>\n",
       "      <td>...</td>\n",
       "    </tr>\n",
       "    <tr>\n",
       "      <th>42079</th>\n",
       "      <td>0</td>\n",
       "      <td>238</td>\n",
       "      <td>8.0</td>\n",
       "      <td>-3</td>\n",
       "      <td>4</td>\n",
       "      <td>238.0</td>\n",
       "      <td>-3.0</td>\n",
       "    </tr>\n",
       "    <tr>\n",
       "      <th>42080</th>\n",
       "      <td>0</td>\n",
       "      <td>216</td>\n",
       "      <td>88.0</td>\n",
       "      <td>-2</td>\n",
       "      <td>2</td>\n",
       "      <td>216.0</td>\n",
       "      <td>-2.0</td>\n",
       "    </tr>\n",
       "    <tr>\n",
       "      <th>42081</th>\n",
       "      <td>1</td>\n",
       "      <td>227</td>\n",
       "      <td>38.0</td>\n",
       "      <td>1</td>\n",
       "      <td>2</td>\n",
       "      <td>227.0</td>\n",
       "      <td>1.0</td>\n",
       "    </tr>\n",
       "    <tr>\n",
       "      <th>42082</th>\n",
       "      <td>0</td>\n",
       "      <td>16</td>\n",
       "      <td>232.0</td>\n",
       "      <td>-1</td>\n",
       "      <td>2</td>\n",
       "      <td>16.0</td>\n",
       "      <td>-1.0</td>\n",
       "    </tr>\n",
       "    <tr>\n",
       "      <th>42083</th>\n",
       "      <td>0</td>\n",
       "      <td>201</td>\n",
       "      <td>87.0</td>\n",
       "      <td>-3</td>\n",
       "      <td>4</td>\n",
       "      <td>201.0</td>\n",
       "      <td>-3.0</td>\n",
       "    </tr>\n",
       "  </tbody>\n",
       "</table>\n",
       "<p>42084 rows × 7 columns</p>\n",
       "</div>"
      ],
      "text/plain": [
       "       result  home_team  away_team  goal_diff  away_score  country  foal_diff\n",
       "0           2          1        2.0          0           0      1.0        0.0\n",
       "1           1          2        1.0          2           2      2.0        2.0\n",
       "2           1          1        2.0          1           1      1.0        1.0\n",
       "3           2          2        1.0          0           2      2.0        0.0\n",
       "4           1          1        2.0          3           0      1.0        3.0\n",
       "...       ...        ...        ...        ...         ...      ...        ...\n",
       "42079       0        238        8.0         -3           4    238.0       -3.0\n",
       "42080       0        216       88.0         -2           2    216.0       -2.0\n",
       "42081       1        227       38.0          1           2    227.0        1.0\n",
       "42082       0         16      232.0         -1           2     16.0       -1.0\n",
       "42083       0        201       87.0         -3           4    201.0       -3.0\n",
       "\n",
       "[42084 rows x 7 columns]"
      ]
     },
     "execution_count": 23,
     "metadata": {},
     "output_type": "execute_result"
    }
   ],
   "source": [
    "data"
   ]
  },
  {
   "cell_type": "code",
   "execution_count": 24,
   "metadata": {
    "id": "JpEbDb5teEPv"
   },
   "outputs": [],
   "source": [
    "###Splitting Data into Training and Test sets###\n",
    "\n",
    "from sklearn.model_selection import train_test_split"
   ]
  },
  {
   "cell_type": "code",
   "execution_count": 25,
   "metadata": {
    "id": "Xgh7WbhUeNN8"
   },
   "outputs": [],
   "source": [
    "X= data.loc[:,['home_team','away_team','country']].values.copy()\n",
    "y= data['goal_diff'].values.copy()"
   ]
  },
  {
   "cell_type": "code",
   "execution_count": 26,
   "metadata": {
    "colab": {
     "base_uri": "https://localhost:8080/"
    },
    "id": "bDmtctiueRY6",
    "outputId": "30b9e990-abe1-4b1a-8210-8ba5f1283ce3"
   },
   "outputs": [
    {
     "name": "stdout",
     "output_type": "stream",
     "text": [
      "[[  1.   2.   1.]\n",
      " [  2.   1.   2.]\n",
      " [  1.   2.   1.]\n",
      " ...\n",
      " [227.  38. 227.]\n",
      " [ 16. 232.  16.]\n",
      " [201.  87. 201.]]\n",
      "[ 0  2  1 ...  1 -1 -3]\n"
     ]
    }
   ],
   "source": [
    "print(X)\n",
    "print(y)"
   ]
  },
  {
   "cell_type": "code",
   "execution_count": 27,
   "metadata": {
    "id": "EXfe_xK4ezfb"
   },
   "outputs": [],
   "source": [
    "X_train , X_test , y_train , y_test = train_test_split(X,y, test_size=0.3, random_state=1)"
   ]
  },
  {
   "cell_type": "code",
   "execution_count": 28,
   "metadata": {
    "colab": {
     "base_uri": "https://localhost:8080/"
    },
    "id": "NYy45IrXe-qn",
    "outputId": "f7679801-8daf-41e1-d4e1-bfe929aad019"
   },
   "outputs": [
    {
     "data": {
      "text/plain": [
       "(29458, 3)"
      ]
     },
     "execution_count": 28,
     "metadata": {},
     "output_type": "execute_result"
    }
   ],
   "source": [
    "X_train.shape"
   ]
  },
  {
   "cell_type": "code",
   "execution_count": 29,
   "metadata": {
    "colab": {
     "base_uri": "https://localhost:8080/"
    },
    "id": "jw07bFXVfBOe",
    "outputId": "48264a42-61c7-4e10-ac95-344214294f0c"
   },
   "outputs": [
    {
     "data": {
      "text/plain": [
       "(12626, 3)"
      ]
     },
     "execution_count": 29,
     "metadata": {},
     "output_type": "execute_result"
    }
   ],
   "source": [
    "X_test.shape"
   ]
  },
  {
   "cell_type": "code",
   "execution_count": 30,
   "metadata": {
    "id": "Mwwm3_UFfD_j"
   },
   "outputs": [],
   "source": [
    "from sklearn.preprocessing import StandardScaler"
   ]
  },
  {
   "cell_type": "code",
   "execution_count": 31,
   "metadata": {
    "id": "MJPTYqCql0Gu"
   },
   "outputs": [],
   "source": [
    "sc = StandardScaler()\n",
    "\n",
    "sc.fit(X_train)\n",
    "\n",
    "X_train_std = sc.transform(X_train)"
   ]
  },
  {
   "cell_type": "code",
   "execution_count": 32,
   "metadata": {
    "id": "vxi8R0fcl1rc"
   },
   "outputs": [],
   "source": [
    "sc.fit(X_test)\n",
    "X_test_std = sc.transform(X_test)"
   ]
  },
  {
   "cell_type": "code",
   "execution_count": 33,
   "metadata": {
    "colab": {
     "base_uri": "https://localhost:8080/"
    },
    "id": "nOaCaq5dl37z",
    "outputId": "29f61e88-c464-425d-d2a2-de534361c818"
   },
   "outputs": [
    {
     "data": {
      "text/plain": [
       "array([[-0.18101028, -0.50789495, -0.10932869],\n",
       "       [-0.98968809, -1.05919838, -0.94943115],\n",
       "       [ 0.62766752,  1.11699935,  0.73077376],\n",
       "       ...,\n",
       "       [-1.04850102, -1.04469039, -1.01052951],\n",
       "       [ 0.92173218,  0.08693242,  1.00571639],\n",
       "       [-1.09261072, -1.24780218, -1.05635328]])"
      ]
     },
     "execution_count": 33,
     "metadata": {},
     "output_type": "execute_result"
    }
   ],
   "source": [
    "X_train_std"
   ]
  },
  {
   "cell_type": "code",
   "execution_count": 34,
   "metadata": {
    "colab": {
     "base_uri": "https://localhost:8080/"
    },
    "id": "hPhRsQS9l52X",
    "outputId": "5ff1ba0e-9aa6-4257-f15b-5700c4cbbd52"
   },
   "outputs": [
    {
     "data": {
      "text/plain": [
       "{'Scotland': 1,\n",
       " 'England': 2,\n",
       " 'Wales': 3,\n",
       " 'Northern Ireland': 4,\n",
       " 'United States': 5,\n",
       " 'Uruguay': 6,\n",
       " 'Austria': 7,\n",
       " 'Hungary': 8,\n",
       " 'Argentina': 9,\n",
       " 'Belgium': 10,\n",
       " 'France': 11,\n",
       " 'Netherlands': 12,\n",
       " 'Czechoslovakia': 13,\n",
       " 'Switzerland': 14,\n",
       " 'Sweden': 15,\n",
       " 'Germany': 16,\n",
       " 'Italy': 17,\n",
       " 'Chile': 18,\n",
       " 'Norway': 19,\n",
       " 'Finland': 20,\n",
       " 'Luxembourg': 21,\n",
       " 'Russia': 22,\n",
       " 'Denmark': 23,\n",
       " 'Catalonia': 24,\n",
       " 'Basque Country': 25,\n",
       " 'Brazil': 26,\n",
       " 'Japan': 27,\n",
       " 'Paraguay': 28,\n",
       " 'Canada': 29,\n",
       " 'Estonia': 30,\n",
       " 'Costa Rica': 31,\n",
       " 'Guatemala': 32,\n",
       " 'Spain': 33,\n",
       " 'Brittany': 34,\n",
       " 'Poland': 35,\n",
       " 'Yugoslavia': 36,\n",
       " 'New Zealand': 37,\n",
       " 'Romania': 38,\n",
       " 'Latvia': 39,\n",
       " 'Galicia': 40,\n",
       " 'Portugal': 41,\n",
       " 'Andalusia': 42,\n",
       " 'China PR': 43,\n",
       " 'Australia': 44,\n",
       " 'Lithuania': 45,\n",
       " 'Turkey': 46,\n",
       " 'Central Spain': 47,\n",
       " 'Mexico': 48,\n",
       " 'Aruba': 49,\n",
       " 'Egypt': 50,\n",
       " 'Haiti': 51,\n",
       " 'Philippines': 52,\n",
       " 'Bulgaria': 53,\n",
       " 'Jamaica': 54,\n",
       " 'Kenya': 55,\n",
       " 'Bolivia': 56,\n",
       " 'Peru': 57,\n",
       " 'Honduras': 58,\n",
       " 'Guyana': 59,\n",
       " 'Uganda': 60,\n",
       " 'Belarus': 61,\n",
       " 'El Salvador': 62,\n",
       " 'Barbados': 63,\n",
       " 'Republic of Ireland': 64,\n",
       " 'Trinidad and Tobago': 65,\n",
       " 'Greece': 66,\n",
       " 'Curaçao': 67,\n",
       " 'Dominica': 68,\n",
       " 'Silesia': 69,\n",
       " 'Guadeloupe': 70,\n",
       " 'Israel': 71,\n",
       " 'Suriname': 72,\n",
       " 'French Guiana': 73,\n",
       " 'Cuba': 74,\n",
       " 'Colombia': 75,\n",
       " 'Ecuador': 76,\n",
       " 'Saint Kitts and Nevis': 77,\n",
       " 'Panama': 78,\n",
       " 'Slovakia': 79,\n",
       " 'Manchukuo': 80,\n",
       " 'Croatia': 81,\n",
       " 'Nicaragua': 82,\n",
       " 'Afghanistan': 83,\n",
       " 'India': 84,\n",
       " 'Martinique': 85,\n",
       " 'Zimbabwe': 86,\n",
       " 'Iceland': 87,\n",
       " 'Albania': 88,\n",
       " 'Madagascar': 89,\n",
       " 'Zambia': 90,\n",
       " 'Mauritius': 91,\n",
       " 'Tanzania': 92,\n",
       " 'Iran': 93,\n",
       " 'Djibouti': 94,\n",
       " 'DR Congo': 95,\n",
       " 'Vietnam': 96,\n",
       " 'Macau': 97,\n",
       " 'Ethiopia': 98,\n",
       " 'Puerto Rico': 99,\n",
       " 'Réunion': 100,\n",
       " 'Sierra Leone': 101,\n",
       " 'Zanzibar': 102,\n",
       " 'South Korea': 103,\n",
       " 'Ghana': 104,\n",
       " 'South Africa': 105,\n",
       " 'New Caledonia': 106,\n",
       " 'Fiji': 107,\n",
       " 'Nigeria': 108,\n",
       " 'Venezuela': 109,\n",
       " 'Burma': 110,\n",
       " 'Sri Lanka': 111,\n",
       " 'Tahiti': 112,\n",
       " 'Gambia': 113,\n",
       " 'Hong Kong': 114,\n",
       " 'Singapore': 115,\n",
       " 'Malaysia': 116,\n",
       " 'Indonesia': 117,\n",
       " 'Guinea-Bissau': 118,\n",
       " 'German DR': 119,\n",
       " 'Vanuatu': 120,\n",
       " 'Kernow': 121,\n",
       " 'Saarland': 122,\n",
       " 'Cambodia': 123,\n",
       " 'Lebanon': 124,\n",
       " 'Pakistan': 125,\n",
       " 'Vietnam Republic': 126,\n",
       " 'North Korea': 127,\n",
       " 'Togo': 128,\n",
       " 'Sudan': 129,\n",
       " 'Malta': 130,\n",
       " 'Syria': 131,\n",
       " 'Tunisia': 132,\n",
       " 'Malawi': 133,\n",
       " 'Morocco': 134,\n",
       " 'Benin': 135,\n",
       " 'Cameroon': 136,\n",
       " 'Central African Republic': 137,\n",
       " 'Gabon': 138,\n",
       " 'Ivory Coast': 139,\n",
       " 'Congo': 140,\n",
       " 'Mali': 141,\n",
       " 'North Vietnam': 142,\n",
       " 'Mongolia': 143,\n",
       " 'Chinese Taipei': 144,\n",
       " 'Cyprus': 145,\n",
       " 'Iraq': 146,\n",
       " 'Saint Lucia': 147,\n",
       " 'Grenada': 148,\n",
       " 'Thailand': 149,\n",
       " 'Senegal': 150,\n",
       " 'Libya': 151,\n",
       " 'Guinea': 152,\n",
       " 'Algeria': 153,\n",
       " 'Kuwait': 154,\n",
       " 'Jordan': 155,\n",
       " 'Solomon Islands': 156,\n",
       " 'Liberia': 157,\n",
       " 'Laos': 158,\n",
       " 'Saint Vincent and the Grenadines': 159,\n",
       " 'Bermuda': 160,\n",
       " 'Niger': 161,\n",
       " 'Bahrain': 162,\n",
       " 'Montenegro': 163,\n",
       " 'Palestine': 164,\n",
       " 'Papua New Guinea': 165,\n",
       " 'Burkina Faso': 166,\n",
       " 'Mauritania': 167,\n",
       " 'Saudi Arabia': 168,\n",
       " 'Eswatini': 169,\n",
       " 'Somalia': 170,\n",
       " 'Lesotho': 171,\n",
       " 'Cook Islands': 172,\n",
       " 'Qatar': 173,\n",
       " 'Antigua and Barbuda': 174,\n",
       " 'Faroe Islands': 175,\n",
       " 'Bangladesh': 176,\n",
       " 'Oman': 177,\n",
       " 'Yemen DPR': 178,\n",
       " 'Burundi': 179,\n",
       " 'Yemen': 180,\n",
       " 'Mozambique': 181,\n",
       " 'Guam': 182,\n",
       " 'Chad': 183,\n",
       " 'Angola': 184,\n",
       " 'Dominican Republic': 185,\n",
       " 'Seychelles': 186,\n",
       " 'Rwanda': 187,\n",
       " 'São Tomé and Príncipe': 188,\n",
       " 'Botswana': 189,\n",
       " 'Northern Cyprus': 190,\n",
       " 'Cape Verde': 191,\n",
       " 'Kyrgyzstan': 192,\n",
       " 'Georgia': 193,\n",
       " 'Azerbaijan': 194,\n",
       " 'Kiribati': 195,\n",
       " 'Tonga': 196,\n",
       " 'Wallis Islands and Futuna': 197,\n",
       " 'United Arab Emirates': 198,\n",
       " 'Brunei': 199,\n",
       " 'Equatorial Guinea': 200,\n",
       " 'Liechtenstein': 201,\n",
       " 'Nepal': 202,\n",
       " 'Greenland': 203,\n",
       " 'Niue': 204,\n",
       " 'Samoa': 205,\n",
       " 'American Samoa': 206,\n",
       " 'Belize': 207,\n",
       " 'Anguilla': 208,\n",
       " 'Cayman Islands': 209,\n",
       " 'Palau': 210,\n",
       " 'Sint Maarten': 211,\n",
       " 'Namibia': 212,\n",
       " 'Åland Islands': 213,\n",
       " 'Ynys Môn': 214,\n",
       " 'Saint Martin': 215,\n",
       " 'San Marino': 216,\n",
       " 'Slovenia': 217,\n",
       " 'Jersey': 218,\n",
       " 'Shetland': 219,\n",
       " 'Isle of Wight': 220,\n",
       " 'Moldova': 221,\n",
       " 'Ukraine': 222,\n",
       " 'Kazakhstan': 223,\n",
       " 'Tajikistan': 224,\n",
       " 'Uzbekistan': 225,\n",
       " 'Turkmenistan': 226,\n",
       " 'Armenia': 227,\n",
       " 'Czech Republic': 228,\n",
       " 'Guernsey': 229,\n",
       " 'Gibraltar': 230,\n",
       " 'Isle of Man': 231,\n",
       " 'North Macedonia': 232,\n",
       " 'Montserrat': 233,\n",
       " 'Serbia': 234,\n",
       " 'Canary Islands': 235,\n",
       " 'Bosnia and Herzegovina': 236,\n",
       " 'Maldives': 237,\n",
       " 'Andorra': 238,\n",
       " 'British Virgin Islands': 239,\n",
       " 'Frøya': 240,\n",
       " 'Hitra': 241,\n",
       " 'U.S. Virgin Islands': 242,\n",
       " 'Corsica': 243,\n",
       " 'Eritrea': 244,\n",
       " 'Bahamas': 245,\n",
       " 'Gotland': 246,\n",
       " 'Saare County': 247,\n",
       " 'Rhodes': 248,\n",
       " 'Micronesia': 249,\n",
       " 'Bhutan': 250,\n",
       " 'Orkney': 251,\n",
       " 'Monaco': 252,\n",
       " 'Tuvalu': 253,\n",
       " 'Sark': 254,\n",
       " 'Alderney': 255,\n",
       " 'Mayotte': 256,\n",
       " 'Turks and Caicos Islands': 257,\n",
       " 'East Timor': 258,\n",
       " 'Western Isles': 259,\n",
       " 'Falkland Islands': 260,\n",
       " 'Kosovo': 261,\n",
       " 'Republic of St. Pauli': 262,\n",
       " 'Găgăuzia': 263,\n",
       " 'Tibet': 264,\n",
       " 'Crimea': 265,\n",
       " 'Occitania': 266,\n",
       " 'Sápmi': 267,\n",
       " 'Northern Mariana Islands': 268,\n",
       " 'Menorca': 269,\n",
       " 'Comoros': 270,\n",
       " 'Provence': 271,\n",
       " 'Arameans Suryoye': 272,\n",
       " 'Padania': 273,\n",
       " 'Iraqi Kurdistan': 274,\n",
       " 'Gozo': 275,\n",
       " 'Bonaire': 276,\n",
       " 'Western Sahara': 277,\n",
       " 'Raetia': 278,\n",
       " 'Darfur': 279,\n",
       " 'Tamil Eelam': 280,\n",
       " 'South Sudan': 281,\n",
       " 'Abkhazia': 282,\n",
       " 'Saint Pierre and Miquelon': 283,\n",
       " 'Artsakh': 284,\n",
       " 'Madrid': 285,\n",
       " 'Vatican City': 286,\n",
       " 'Ellan Vannin': 287,\n",
       " 'South Ossetia': 288,\n",
       " 'County of Nice': 289,\n",
       " 'Székely Land': 290,\n",
       " 'Romani people': 291,\n",
       " 'Felvidék': 292,\n",
       " 'Chagos Islands': 293,\n",
       " 'United Koreans in Japan': 294,\n",
       " 'Somaliland': 295,\n",
       " 'Western Armenia': 296,\n",
       " 'Barawa': 297,\n",
       " 'Kárpátalja': 298,\n",
       " 'Yorkshire': 299,\n",
       " 'Panjab': 300,\n",
       " 'Matabeleland': 301,\n",
       " 'Cascadia': 302,\n",
       " 'Kabylia': 303,\n",
       " 'Timor-Leste': 304,\n",
       " 'Myanmar': 305,\n",
       " 'Parishes of Jersey': 306,\n",
       " 'Chameria': 307,\n",
       " 'Saint Helena': 308}"
      ]
     },
     "execution_count": 34,
     "metadata": {},
     "output_type": "execute_result"
    }
   ],
   "source": [
    "d"
   ]
  },
  {
   "cell_type": "code",
   "execution_count": 45,
   "metadata": {
    "colab": {
     "base_uri": "https://localhost:8080/"
    },
    "id": "j2dPkO5ll-u6",
    "outputId": "6f1cd6c7-5548-42e3-fe38-3abe03af0cff"
   },
   "outputs": [
    {
     "data": {
      "text/plain": [
       "array([[-0.64190646,  0.38727061, -0.58332073]])"
      ]
     },
     "execution_count": 45,
     "metadata": {},
     "output_type": "execute_result"
    }
   ],
   "source": [
    "# x1 will show the match that is happening \n",
    "# this is an example where we play Germany(16) vs Finland(20) in Germany (mapped according to above dictionary) , clearly Ger should win as they're \n",
    "# stronger than Finland lets see if the predicted goal difference is positive\n",
    "\n",
    "\n",
    "\n",
    "x1 = np.array([[46,118,46]])\n",
    "\n",
    "x1_std = sc.transform(x1)\n",
    "x1_std\n"
   ]
  },
  {
   "cell_type": "code",
   "execution_count": 36,
   "metadata": {
    "id": "YK8wrNWJnGXi"
   },
   "outputs": [],
   "source": [
    "from sklearn.ensemble import RandomForestRegressor"
   ]
  },
  {
   "cell_type": "code",
   "execution_count": 37,
   "metadata": {
    "id": "9ZPFj_pknKwT"
   },
   "outputs": [],
   "source": [
    "regressor = RandomForestRegressor"
   ]
  },
  {
   "cell_type": "code",
   "execution_count": 38,
   "metadata": {
    "colab": {
     "base_uri": "https://localhost:8080/"
    },
    "id": "2_U3z3cNnMVT",
    "outputId": "9c6aec4e-28d1-4628-e7f0-d19e3a4ee9c9"
   },
   "outputs": [
    {
     "name": "stdout",
     "output_type": "stream",
     "text": [
      "[100, 200, 300, 400, 500, 600, 700, 800, 900, 1000, 1100, 1200]\n"
     ]
    }
   ],
   "source": [
    "#Below i used RandomizedSearchCV to find the best parameters for training , i saw this in a youtube video \n",
    "\n",
    "n_estimators = [int(x) for x in np.linspace(start = 100, stop = 1200, num = 12)]\n",
    "print(n_estimators)\n",
    "\n",
    "from sklearn.model_selection import RandomizedSearchCV"
   ]
  },
  {
   "cell_type": "code",
   "execution_count": 39,
   "metadata": {
    "id": "jYq8XrYgncjX"
   },
   "outputs": [],
   "source": [
    "#Randomized Search CV\n",
    "\n",
    "# Number of trees in random forest\n",
    "n_estimators = [int(x) for x in np.linspace(start = 100, stop = 1200, num = 12)]\n",
    "# Number of features to consider at every split\n",
    "max_features = ['auto', 'sqrt']\n",
    "# Maximum number of levels in tree\n",
    "max_depth = [int(x) for x in np.linspace(5, 30, num = 6)]\n",
    "# max_depth.append(None)\n",
    "# Minimum number of samples required to split a node\n",
    "min_samples_split = [2, 5, 10, 15, 100]\n",
    "# Minimum number of samples required at each leaf node\n",
    "min_samples_leaf = [1, 2, 5, 10]"
   ]
  },
  {
   "cell_type": "code",
   "execution_count": 40,
   "metadata": {
    "colab": {
     "base_uri": "https://localhost:8080/"
    },
    "id": "aIzAUHsJndsu",
    "outputId": "b12e1d04-eeb5-49c6-9046-5c1788cc0019"
   },
   "outputs": [
    {
     "name": "stdout",
     "output_type": "stream",
     "text": [
      "{'n_estimators': [100, 200, 300, 400, 500, 600, 700, 800, 900, 1000, 1100, 1200], 'max_features': ['auto', 'sqrt'], 'max_depth': [5, 10, 15, 20, 25, 30], 'min_samples_split': [2, 5, 10, 15, 100], 'min_samples_leaf': [1, 2, 5, 10]}\n"
     ]
    }
   ],
   "source": [
    "# Create the random grid\n",
    "random_grid = {'n_estimators': n_estimators,\n",
    "               'max_features': max_features,\n",
    "               'max_depth': max_depth,\n",
    "               'min_samples_split': min_samples_split,\n",
    "               'min_samples_leaf': min_samples_leaf}\n",
    "\n",
    "print(random_grid)"
   ]
  },
  {
   "cell_type": "code",
   "execution_count": 41,
   "metadata": {
    "id": "2h-gVS1yniSX"
   },
   "outputs": [],
   "source": [
    "# Use the random grid to search for best hyperparameters\n",
    "# First create the base model to tune\n",
    "rf = RandomForestRegressor()\n"
   ]
  },
  {
   "cell_type": "code",
   "execution_count": 42,
   "metadata": {
    "id": "-eqPROP_nlhu"
   },
   "outputs": [],
   "source": [
    "# Random search of parameters, using 3 fold cross validation, \n",
    "# search across 100 different combinations\n",
    "rf_random = RandomizedSearchCV(estimator = rf, param_distributions = random_grid,scoring='neg_mean_squared_error',\n",
    "                               n_iter = 10, cv = 5, verbose=2, random_state=42, n_jobs = 1)"
   ]
  },
  {
   "cell_type": "code",
   "execution_count": 43,
   "metadata": {
    "colab": {
     "base_uri": "https://localhost:8080/"
    },
    "id": "l17SRcJMnnnH",
    "outputId": "6a509c19-4fc7-4f5c-c894-f2f41f3d7336"
   },
   "outputs": [
    {
     "name": "stdout",
     "output_type": "stream",
     "text": [
      "Fitting 5 folds for each of 10 candidates, totalling 50 fits\n",
      "[CV] n_estimators=900, min_samples_split=5, min_samples_leaf=5, max_features=sqrt, max_depth=10 \n"
     ]
    },
    {
     "name": "stderr",
     "output_type": "stream",
     "text": [
      "[Parallel(n_jobs=1)]: Using backend SequentialBackend with 1 concurrent workers.\n"
     ]
    },
    {
     "name": "stdout",
     "output_type": "stream",
     "text": [
      "[CV]  n_estimators=900, min_samples_split=5, min_samples_leaf=5, max_features=sqrt, max_depth=10, total=   6.5s\n",
      "[CV] n_estimators=900, min_samples_split=5, min_samples_leaf=5, max_features=sqrt, max_depth=10 \n"
     ]
    },
    {
     "name": "stderr",
     "output_type": "stream",
     "text": [
      "[Parallel(n_jobs=1)]: Done   1 out of   1 | elapsed:    6.4s remaining:    0.0s\n"
     ]
    },
    {
     "name": "stdout",
     "output_type": "stream",
     "text": [
      "[CV]  n_estimators=900, min_samples_split=5, min_samples_leaf=5, max_features=sqrt, max_depth=10, total=   6.5s\n",
      "[CV] n_estimators=900, min_samples_split=5, min_samples_leaf=5, max_features=sqrt, max_depth=10 \n",
      "[CV]  n_estimators=900, min_samples_split=5, min_samples_leaf=5, max_features=sqrt, max_depth=10, total=   6.4s\n",
      "[CV] n_estimators=900, min_samples_split=5, min_samples_leaf=5, max_features=sqrt, max_depth=10 \n",
      "[CV]  n_estimators=900, min_samples_split=5, min_samples_leaf=5, max_features=sqrt, max_depth=10, total=   6.5s\n",
      "[CV] n_estimators=900, min_samples_split=5, min_samples_leaf=5, max_features=sqrt, max_depth=10 \n",
      "[CV]  n_estimators=900, min_samples_split=5, min_samples_leaf=5, max_features=sqrt, max_depth=10, total=   6.6s\n",
      "[CV] n_estimators=1100, min_samples_split=10, min_samples_leaf=2, max_features=sqrt, max_depth=15 \n",
      "[CV]  n_estimators=1100, min_samples_split=10, min_samples_leaf=2, max_features=sqrt, max_depth=15, total=  10.8s\n",
      "[CV] n_estimators=1100, min_samples_split=10, min_samples_leaf=2, max_features=sqrt, max_depth=15 \n",
      "[CV]  n_estimators=1100, min_samples_split=10, min_samples_leaf=2, max_features=sqrt, max_depth=15, total=  10.7s\n",
      "[CV] n_estimators=1100, min_samples_split=10, min_samples_leaf=2, max_features=sqrt, max_depth=15 \n",
      "[CV]  n_estimators=1100, min_samples_split=10, min_samples_leaf=2, max_features=sqrt, max_depth=15, total=  10.6s\n",
      "[CV] n_estimators=1100, min_samples_split=10, min_samples_leaf=2, max_features=sqrt, max_depth=15 \n",
      "[CV]  n_estimators=1100, min_samples_split=10, min_samples_leaf=2, max_features=sqrt, max_depth=15, total=  11.2s\n",
      "[CV] n_estimators=1100, min_samples_split=10, min_samples_leaf=2, max_features=sqrt, max_depth=15 \n",
      "[CV]  n_estimators=1100, min_samples_split=10, min_samples_leaf=2, max_features=sqrt, max_depth=15, total=  10.8s\n",
      "[CV] n_estimators=300, min_samples_split=100, min_samples_leaf=5, max_features=auto, max_depth=15 \n",
      "[CV]  n_estimators=300, min_samples_split=100, min_samples_leaf=5, max_features=auto, max_depth=15, total=   4.9s\n",
      "[CV] n_estimators=300, min_samples_split=100, min_samples_leaf=5, max_features=auto, max_depth=15 \n",
      "[CV]  n_estimators=300, min_samples_split=100, min_samples_leaf=5, max_features=auto, max_depth=15, total=   4.8s\n",
      "[CV] n_estimators=300, min_samples_split=100, min_samples_leaf=5, max_features=auto, max_depth=15 \n",
      "[CV]  n_estimators=300, min_samples_split=100, min_samples_leaf=5, max_features=auto, max_depth=15, total=   4.9s\n",
      "[CV] n_estimators=300, min_samples_split=100, min_samples_leaf=5, max_features=auto, max_depth=15 \n",
      "[CV]  n_estimators=300, min_samples_split=100, min_samples_leaf=5, max_features=auto, max_depth=15, total=   4.7s\n",
      "[CV] n_estimators=300, min_samples_split=100, min_samples_leaf=5, max_features=auto, max_depth=15 \n",
      "[CV]  n_estimators=300, min_samples_split=100, min_samples_leaf=5, max_features=auto, max_depth=15, total=   4.8s\n",
      "[CV] n_estimators=400, min_samples_split=5, min_samples_leaf=5, max_features=auto, max_depth=15 \n",
      "[CV]  n_estimators=400, min_samples_split=5, min_samples_leaf=5, max_features=auto, max_depth=15, total=   7.8s\n",
      "[CV] n_estimators=400, min_samples_split=5, min_samples_leaf=5, max_features=auto, max_depth=15 \n",
      "[CV]  n_estimators=400, min_samples_split=5, min_samples_leaf=5, max_features=auto, max_depth=15, total=   7.4s\n",
      "[CV] n_estimators=400, min_samples_split=5, min_samples_leaf=5, max_features=auto, max_depth=15 \n",
      "[CV]  n_estimators=400, min_samples_split=5, min_samples_leaf=5, max_features=auto, max_depth=15, total=   7.3s\n",
      "[CV] n_estimators=400, min_samples_split=5, min_samples_leaf=5, max_features=auto, max_depth=15 \n",
      "[CV]  n_estimators=400, min_samples_split=5, min_samples_leaf=5, max_features=auto, max_depth=15, total=   7.4s\n",
      "[CV] n_estimators=400, min_samples_split=5, min_samples_leaf=5, max_features=auto, max_depth=15 \n",
      "[CV]  n_estimators=400, min_samples_split=5, min_samples_leaf=5, max_features=auto, max_depth=15, total=   7.5s\n",
      "[CV] n_estimators=700, min_samples_split=5, min_samples_leaf=10, max_features=auto, max_depth=20 \n",
      "[CV]  n_estimators=700, min_samples_split=5, min_samples_leaf=10, max_features=auto, max_depth=20, total=  12.9s\n",
      "[CV] n_estimators=700, min_samples_split=5, min_samples_leaf=10, max_features=auto, max_depth=20 \n",
      "[CV]  n_estimators=700, min_samples_split=5, min_samples_leaf=10, max_features=auto, max_depth=20, total=  13.0s\n",
      "[CV] n_estimators=700, min_samples_split=5, min_samples_leaf=10, max_features=auto, max_depth=20 \n",
      "[CV]  n_estimators=700, min_samples_split=5, min_samples_leaf=10, max_features=auto, max_depth=20, total=  13.0s\n",
      "[CV] n_estimators=700, min_samples_split=5, min_samples_leaf=10, max_features=auto, max_depth=20 \n",
      "[CV]  n_estimators=700, min_samples_split=5, min_samples_leaf=10, max_features=auto, max_depth=20, total=  12.7s\n",
      "[CV] n_estimators=700, min_samples_split=5, min_samples_leaf=10, max_features=auto, max_depth=20 \n",
      "[CV]  n_estimators=700, min_samples_split=5, min_samples_leaf=10, max_features=auto, max_depth=20, total=  12.8s\n",
      "[CV] n_estimators=1000, min_samples_split=2, min_samples_leaf=1, max_features=sqrt, max_depth=25 \n",
      "[CV]  n_estimators=1000, min_samples_split=2, min_samples_leaf=1, max_features=sqrt, max_depth=25, total=  15.2s\n",
      "[CV] n_estimators=1000, min_samples_split=2, min_samples_leaf=1, max_features=sqrt, max_depth=25 \n",
      "[CV]  n_estimators=1000, min_samples_split=2, min_samples_leaf=1, max_features=sqrt, max_depth=25, total=  15.5s\n",
      "[CV] n_estimators=1000, min_samples_split=2, min_samples_leaf=1, max_features=sqrt, max_depth=25 \n",
      "[CV]  n_estimators=1000, min_samples_split=2, min_samples_leaf=1, max_features=sqrt, max_depth=25, total=  15.1s\n",
      "[CV] n_estimators=1000, min_samples_split=2, min_samples_leaf=1, max_features=sqrt, max_depth=25 \n",
      "[CV]  n_estimators=1000, min_samples_split=2, min_samples_leaf=1, max_features=sqrt, max_depth=25, total=  14.9s\n",
      "[CV] n_estimators=1000, min_samples_split=2, min_samples_leaf=1, max_features=sqrt, max_depth=25 \n",
      "[CV]  n_estimators=1000, min_samples_split=2, min_samples_leaf=1, max_features=sqrt, max_depth=25, total=  14.9s\n",
      "[CV] n_estimators=1100, min_samples_split=15, min_samples_leaf=10, max_features=sqrt, max_depth=5 \n",
      "[CV]  n_estimators=1100, min_samples_split=15, min_samples_leaf=10, max_features=sqrt, max_depth=5, total=   4.8s\n",
      "[CV] n_estimators=1100, min_samples_split=15, min_samples_leaf=10, max_features=sqrt, max_depth=5 \n",
      "[CV]  n_estimators=1100, min_samples_split=15, min_samples_leaf=10, max_features=sqrt, max_depth=5, total=   5.1s\n",
      "[CV] n_estimators=1100, min_samples_split=15, min_samples_leaf=10, max_features=sqrt, max_depth=5 \n",
      "[CV]  n_estimators=1100, min_samples_split=15, min_samples_leaf=10, max_features=sqrt, max_depth=5, total=   4.9s\n",
      "[CV] n_estimators=1100, min_samples_split=15, min_samples_leaf=10, max_features=sqrt, max_depth=5 \n",
      "[CV]  n_estimators=1100, min_samples_split=15, min_samples_leaf=10, max_features=sqrt, max_depth=5, total=   4.9s\n",
      "[CV] n_estimators=1100, min_samples_split=15, min_samples_leaf=10, max_features=sqrt, max_depth=5 \n",
      "[CV]  n_estimators=1100, min_samples_split=15, min_samples_leaf=10, max_features=sqrt, max_depth=5, total=   4.9s\n",
      "[CV] n_estimators=300, min_samples_split=15, min_samples_leaf=1, max_features=sqrt, max_depth=15 \n",
      "[CV]  n_estimators=300, min_samples_split=15, min_samples_leaf=1, max_features=sqrt, max_depth=15, total=   2.8s\n",
      "[CV] n_estimators=300, min_samples_split=15, min_samples_leaf=1, max_features=sqrt, max_depth=15 \n",
      "[CV]  n_estimators=300, min_samples_split=15, min_samples_leaf=1, max_features=sqrt, max_depth=15, total=   2.8s\n",
      "[CV] n_estimators=300, min_samples_split=15, min_samples_leaf=1, max_features=sqrt, max_depth=15 \n",
      "[CV]  n_estimators=300, min_samples_split=15, min_samples_leaf=1, max_features=sqrt, max_depth=15, total=   2.8s\n",
      "[CV] n_estimators=300, min_samples_split=15, min_samples_leaf=1, max_features=sqrt, max_depth=15 \n",
      "[CV]  n_estimators=300, min_samples_split=15, min_samples_leaf=1, max_features=sqrt, max_depth=15, total=   2.8s\n",
      "[CV] n_estimators=300, min_samples_split=15, min_samples_leaf=1, max_features=sqrt, max_depth=15 \n",
      "[CV]  n_estimators=300, min_samples_split=15, min_samples_leaf=1, max_features=sqrt, max_depth=15, total=   2.8s\n",
      "[CV] n_estimators=700, min_samples_split=10, min_samples_leaf=2, max_features=sqrt, max_depth=5 \n"
     ]
    },
    {
     "name": "stdout",
     "output_type": "stream",
     "text": [
      "[CV]  n_estimators=700, min_samples_split=10, min_samples_leaf=2, max_features=sqrt, max_depth=5, total=   3.1s\n",
      "[CV] n_estimators=700, min_samples_split=10, min_samples_leaf=2, max_features=sqrt, max_depth=5 \n",
      "[CV]  n_estimators=700, min_samples_split=10, min_samples_leaf=2, max_features=sqrt, max_depth=5, total=   3.1s\n",
      "[CV] n_estimators=700, min_samples_split=10, min_samples_leaf=2, max_features=sqrt, max_depth=5 \n",
      "[CV]  n_estimators=700, min_samples_split=10, min_samples_leaf=2, max_features=sqrt, max_depth=5, total=   3.1s\n",
      "[CV] n_estimators=700, min_samples_split=10, min_samples_leaf=2, max_features=sqrt, max_depth=5 \n",
      "[CV]  n_estimators=700, min_samples_split=10, min_samples_leaf=2, max_features=sqrt, max_depth=5, total=   3.1s\n",
      "[CV] n_estimators=700, min_samples_split=10, min_samples_leaf=2, max_features=sqrt, max_depth=5 \n",
      "[CV]  n_estimators=700, min_samples_split=10, min_samples_leaf=2, max_features=sqrt, max_depth=5, total=   3.1s\n",
      "[CV] n_estimators=700, min_samples_split=15, min_samples_leaf=1, max_features=auto, max_depth=20 \n",
      "[CV]  n_estimators=700, min_samples_split=15, min_samples_leaf=1, max_features=auto, max_depth=20, total=  14.4s\n",
      "[CV] n_estimators=700, min_samples_split=15, min_samples_leaf=1, max_features=auto, max_depth=20 \n",
      "[CV]  n_estimators=700, min_samples_split=15, min_samples_leaf=1, max_features=auto, max_depth=20, total=  14.4s\n",
      "[CV] n_estimators=700, min_samples_split=15, min_samples_leaf=1, max_features=auto, max_depth=20 \n",
      "[CV]  n_estimators=700, min_samples_split=15, min_samples_leaf=1, max_features=auto, max_depth=20, total=  14.4s\n",
      "[CV] n_estimators=700, min_samples_split=15, min_samples_leaf=1, max_features=auto, max_depth=20 \n",
      "[CV]  n_estimators=700, min_samples_split=15, min_samples_leaf=1, max_features=auto, max_depth=20, total=  14.3s\n",
      "[CV] n_estimators=700, min_samples_split=15, min_samples_leaf=1, max_features=auto, max_depth=20 \n",
      "[CV]  n_estimators=700, min_samples_split=15, min_samples_leaf=1, max_features=auto, max_depth=20, total=  14.4s\n"
     ]
    },
    {
     "name": "stderr",
     "output_type": "stream",
     "text": [
      "[Parallel(n_jobs=1)]: Done  50 out of  50 | elapsed:  6.9min finished\n"
     ]
    },
    {
     "data": {
      "text/plain": [
       "RandomizedSearchCV(cv=5, estimator=RandomForestRegressor(), n_jobs=1,\n",
       "                   param_distributions={'max_depth': [5, 10, 15, 20, 25, 30],\n",
       "                                        'max_features': ['auto', 'sqrt'],\n",
       "                                        'min_samples_leaf': [1, 2, 5, 10],\n",
       "                                        'min_samples_split': [2, 5, 10, 15,\n",
       "                                                              100],\n",
       "                                        'n_estimators': [100, 200, 300, 400,\n",
       "                                                         500, 600, 700, 800,\n",
       "                                                         900, 1000, 1100,\n",
       "                                                         1200]},\n",
       "                   random_state=42, scoring='neg_mean_squared_error',\n",
       "                   verbose=2)"
      ]
     },
     "execution_count": 43,
     "metadata": {},
     "output_type": "execute_result"
    }
   ],
   "source": [
    "rf_random.fit(X_train_std,y_train)"
   ]
  },
  {
   "cell_type": "code",
   "execution_count": 46,
   "metadata": {
    "colab": {
     "base_uri": "https://localhost:8080/"
    },
    "id": "80CVpFUbnpv-",
    "outputId": "fa544d92-b7c9-4758-de51-45e3c6fffba7"
   },
   "outputs": [
    {
     "data": {
      "text/plain": [
       "array([-0.02271324])"
      ]
     },
     "execution_count": 46,
     "metadata": {},
     "output_type": "execute_result"
    }
   ],
   "source": [
    "rf_random.predict(x1_std)"
   ]
  },
  {
   "cell_type": "code",
   "execution_count": 45,
   "metadata": {
    "id": "uNEAvXQKqP9n"
   },
   "outputs": [],
   "source": [
    "### above result shows that the home team (Germany) would have a goal difference of around 2.541 if they played Finland in Germany"
   ]
  },
  {
   "cell_type": "code",
   "execution_count": 46,
   "metadata": {
    "id": "5aY_wWo9qhKu"
   },
   "outputs": [],
   "source": [
    "pred = rf_random.predict(X_test_std)"
   ]
  },
  {
   "cell_type": "code",
   "execution_count": 47,
   "metadata": {
    "colab": {
     "base_uri": "https://localhost:8080/",
     "height": 284
    },
    "id": "5qFthKIeqlP_",
    "outputId": "6b3fa2b4-2a21-44d2-ab7c-8c2b177b3191"
   },
   "outputs": [
    {
     "data": {
      "text/plain": [
       "<matplotlib.collections.PathCollection at 0x1127b8a0b20>"
      ]
     },
     "execution_count": 47,
     "metadata": {},
     "output_type": "execute_result"
    },
    {
     "data": {
      "image/png": "[encoded data removed]",
      "text/plain": [
       "<Figure size 432x288 with 1 Axes>"
      ]
     },
     "metadata": {
      "needs_background": "light"
     },
     "output_type": "display_data"
    }
   ],
   "source": [
    "import matplotlib.pyplot as plt\n",
    "\n",
    "\n",
    "plt.scatter(y_test,pred)"
   ]
  },
  {
   "cell_type": "code",
   "execution_count": 48,
   "metadata": {
    "id": "Porffp37qnQo"
   },
   "outputs": [],
   "source": [
    "#its not perfect but it is close i guess , the variance is high if im interpreting it correctly"
   ]
  },
  {
   "cell_type": "code",
   "execution_count": 49,
   "metadata": {
    "colab": {
     "base_uri": "https://localhost:8080/",
     "height": 335
    },
    "id": "2uNxEMnMrK_T",
    "outputId": "6ae7b54f-21a5-481a-c9dd-7f0621b27bdb"
   },
   "outputs": [
    {
     "name": "stderr",
     "output_type": "stream",
     "text": [
      "C:\\Users\\abhin\\anaconda3\\lib\\site-packages\\seaborn\\distributions.py:2551: FutureWarning: `distplot` is a deprecated function and will be removed in a future version. Please adapt your code to use either `displot` (a figure-level function with similar flexibility) or `histplot` (an axes-level function for histograms).\n",
      "  warnings.warn(msg, FutureWarning)\n"
     ]
    },
    {
     "data": {
      "text/plain": [
       "<AxesSubplot:ylabel='Density'>"
      ]
     },
     "execution_count": 49,
     "metadata": {},
     "output_type": "execute_result"
    },
    {
     "data": {
      "image/png": "[encoded data removed]",
      "text/plain": [
       "<Figure size 432x288 with 1 Axes>"
      ]
     },
     "metadata": {
      "needs_background": "light"
     },
     "output_type": "display_data"
    }
   ],
   "source": [
    "#the gaussian, estimating bias, however looks fine\n",
    "\n",
    "sns.distplot(y_test-pred)"
   ]
  },
  {
   "cell_type": "code",
   "execution_count": 50,
   "metadata": {
    "id": "DDsKkm1brbeS"
   },
   "outputs": [],
   "source": [
    "from sklearn.metrics import confusion_matrix"
   ]
  },
  {
   "cell_type": "code",
   "execution_count": 69,
   "metadata": {
    "id": "83VBFHHNrgM_"
   },
   "outputs": [],
   "source": [
    "test = []\n",
    "results = []\n",
    "for i in y_test:\n",
    "    if i<=0 :\n",
    "        test.append(0)\n",
    "    elif i>0:\n",
    "        test.append(1)\n",
    "        \n",
    "        \n",
    "for j in pred:\n",
    "    if j<=0 :\n",
    "        results.append(0)\n",
    "    elif j>0:\n",
    "        results.append(1)\n",
    "        \n",
    "\n",
    "        "
   ]
  },
  {
   "cell_type": "code",
   "execution_count": 70,
   "metadata": {},
   "outputs": [
    {
     "data": {
      "text/plain": [
       "array([[2646, 3834],\n",
       "       [1416, 4730]], dtype=int64)"
      ]
     },
     "execution_count": 70,
     "metadata": {},
     "output_type": "execute_result"
    }
   ],
   "source": [
    "confusion_matrix(test,results)"
   ]
  },
  {
   "cell_type": "code",
   "execution_count": 71,
   "metadata": {},
   "outputs": [],
   "source": [
    "## 58.4191% accuracy ##"
   ]
  },
  {
   "cell_type": "code",
   "execution_count": 76,
   "metadata": {},
   "outputs": [],
   "source": [
    "def accuracy(confusion_mat):\n",
    "    trace = confusion_mat.trace()\n",
    "    \n",
    "    total = confusion_mat.sum()\n",
    "    \n",
    "    return trace/total * 100"
   ]
  },
  {
   "cell_type": "code",
   "execution_count": 77,
   "metadata": {},
   "outputs": [
    {
     "data": {
      "text/plain": [
       "58.41913511801046"
      ]
     },
     "execution_count": 77,
     "metadata": {},
     "output_type": "execute_result"
    }
   ],
   "source": [
    "accuracy(confusion_matrix(test,results))"
   ]
  },
  {
   "cell_type": "code",
   "execution_count": null,
   "metadata": {},
   "outputs": [],
   "source": []
  }
 ],
 "metadata": {
  "colab": {
   "name": "FootballPredictor.ipynb",
   "provenance": []
  },
  "kernelspec": {
   "display_name": "Python 3",
   "language": "python",
   "name": "python3"
  },
  "language_info": {
   "codemirror_mode": {
    "name": "ipython",
    "version": 3
   },
   "file_extension": ".py",
   "mimetype": "text/x-python",
   "name": "python",
   "nbconvert_exporter": "python",
   "pygments_lexer": "ipython3",
   "version": "3.8.5"
  }
 },
 "nbformat": 4,
 "nbformat_minor": 1
}
